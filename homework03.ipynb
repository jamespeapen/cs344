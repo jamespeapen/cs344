{
 "cells": [
  {
   "cell_type": "markdown",
   "metadata": {
    "colab_type": "text",
    "id": "ApXHJpNyy4ba"
   },
   "source": [
    "# HW 3\n",
    "2020 April 7"
   ]
  },
  {
   "cell_type": "markdown",
   "metadata": {},
   "source": [
    "## 1. "
   ]
  },
  {
   "cell_type": "markdown",
   "metadata": {
    "colab_type": "text",
    "id": "Re8emvElbbB7"
   },
   "source": [
    "Price   $: 7/12\n",
    "\n",
    " - Price   $, wait: 3/7\n",
    "\n",
    " - Price   $, not wait: 4/7\n",
    "\n",
    "Price  $$: 2/12\n",
    "\n",
    " - Price  $$, wait: 2/2\n",
    "\n",
    " - Price  $$, not wait: 0/2\n",
    "\n",
    "Price $$$: 3/12\n",
    "\n",
    " - Price $$$, wait: 1/3\n",
    "\n",
    " - Price $$$, not wait: 2/3\n",
    "\n",
    "$ Remainder(price) = -\\frac{7}{12}[\\frac{3}{7}\\lg(\\frac{3}{7}) + \\frac{4}{7}\\lg(\\frac{4}{7})] - \\frac{2}{12}[1\\lg(1) + 0\\lg(0)] - \\frac{3}{12}[\\frac{1}{3}\\lg(\\frac{1}{3}) + \\frac{2}{3}\\lg(\\frac{2}{3}]$\n",
    "$ = 0.804 $ \n",
    "\n",
    "$ Gain(price) = 1 - 0.804 = 0.196 $\n",
    "\n",
    "This is not as big an information gain as it is with Patrons\n"
   ]
  },
  {
   "cell_type": "markdown",
   "metadata": {
    "colab_type": "text",
    "id": "hiMJ2RjdzFVF"
   },
   "source": [
    "## 2.\n",
    "It is possible to simplify the network a little using the structure of the XOR gate.\n",
    "\n",
    "With the following network, only XOR would result in an output of 1. Both inputs have weights of +1. There is one hidden node that has a threshold of 1.5 to be activated and its output is weighted by -2. This acts as a NOT and prevents inputs of 1 and 1 from giving an output of 2.\n",
    "\n",
    "![alt text](xor.png)\n",
    "\n",
    "With this network, a model could be trained to find these weights and learn XOR."
   ]
  },
  {
   "cell_type": "code",
   "execution_count": 1,
   "metadata": {},
   "outputs": [
    {
     "name": "stdout",
     "output_type": "stream",
     "text": [
      "Input: [ 0 0 ]\n",
      "Output:  0\n",
      "Input: [ 0 1 ]\n",
      "Output:  1\n",
      "Input: [ 1 0 ]\n",
      "Output:  1\n",
      "Input: [ 1 1 ]\n",
      "Output:  0\n"
     ]
    }
   ],
   "source": [
    "# XOR gate implementation\n",
    "def xor(a, b): \n",
    "    print(\"Input: [\", a, b, \"]\") \n",
    "    if a + b > 1.5: \n",
    "        if a + b + (a+b)*-2 > 0.5:\n",
    "            print(\"Output: \", 1)\n",
    "        else:\n",
    "            print(\"Output: \", 0)\n",
    "    else:\n",
    "        if a + b > 0.5:\n",
    "            print(\"Output: \", 1)\n",
    "        else:\n",
    "            print(\"Output: \", 0)\n",
    "\n",
    "\n",
    "a = [0, 1]\n",
    "b = [0, 1]\n",
    "\n",
    "for x in a:\n",
    "    for y in b:\n",
    "        xor(x, y)\n"
   ]
  },
  {
   "cell_type": "markdown",
   "metadata": {
    "colab_type": "text",
    "id": "-dUHBOW_Ikd6"
   },
   "source": [
    "## 3. "
   ]
  },
  {
   "cell_type": "code",
   "execution_count": null,
   "metadata": {
    "colab": {},
    "colab_type": "code",
    "id": "2Ajpq2xQImDC"
   },
   "outputs": [],
   "source": [
    "import numpy as np\n",
    "import pandas as pd\n",
    "import keras\n",
    "\n",
    "from keras.datasets import boston_housing\n",
    "\n",
    "(train_data, train_targets), (test_data, test_targets) = boston_housing.load_data()"
   ]
  },
  {
   "cell_type": "markdown",
   "metadata": {
    "colab_type": "text",
    "id": "1vueElSWJPKX"
   },
   "source": [
    "### a. Data Structure Dimensions"
   ]
  },
  {
   "cell_type": "code",
   "execution_count": null,
   "metadata": {
    "colab": {
     "base_uri": "https://localhost:8080/",
     "height": 52
    },
    "colab_type": "code",
    "id": "ikmp9c0eJUVT",
    "outputId": "b67cd5db-0b80-43b5-9df4-84e8365ad39f"
   },
   "outputs": [],
   "source": [
    "print(\"Training data shape: \", train_data.shape)\n",
    "print(\"Testing data shape: \", test_data.shape)"
   ]
  },
  {
   "cell_type": "code",
   "execution_count": null,
   "metadata": {
    "colab": {
     "base_uri": "https://localhost:8080/",
     "height": 424
    },
    "colab_type": "code",
    "id": "Y_GPWATdda8B",
    "outputId": "fb05fb2d-bdfb-40e5-c2a3-04971545f64d"
   },
   "outputs": [],
   "source": [
    "training_frame= pd.DataFrame(data = train_data)"
   ]
  },
  {
   "cell_type": "markdown",
   "metadata": {
    "colab_type": "text",
    "id": "zHIDRhI2bt1R"
   },
   "source": [
    "### b. Construct a testing set, training set, and validation set for the data"
   ]
  },
  {
   "cell_type": "code",
   "execution_count": null,
   "metadata": {
    "colab": {
     "base_uri": "https://localhost:8080/",
     "height": 34
    },
    "colab_type": "code",
    "id": "GgHGdLaPYIXg",
    "outputId": "e9fc8da0-2e6d-4b15-8bcf-27838e2f630e"
   },
   "outputs": [],
   "source": [
    "training_frame= pd.DataFrame(data = train_data)\n",
    "training_frame = training_frame.reindex(\n",
    "    np.random.permutation(training_frame.index)\n",
    ")\n",
    "\n",
    "print(\"Training frame size: \", training_frame.shape)"
   ]
  },
  {
   "cell_type": "markdown",
   "metadata": {
    "colab_type": "text",
    "id": "bEi_awwKbGIT"
   },
   "source": [
    "There are 404 rows in the dataset. The training set will be made of the first 304. The validation set will be the remaining 100. "
   ]
  },
  {
   "cell_type": "code",
   "execution_count": null,
   "metadata": {
    "colab": {},
    "colab_type": "code",
    "id": "5ZWJhqWKbPYZ"
   },
   "outputs": [],
   "source": [
    "training_data = training_frame.head(304)\n",
    "validation_data = training_frame.tail(100)\n",
    "testing_data= pd.DataFrame(data = test_data)\n",
    "testing_data = testing_data.reindex(\n",
    "    np.random.permutation(testing_data.index)\n",
    ")"
   ]
  },
  {
   "cell_type": "markdown",
   "metadata": {
    "colab_type": "text",
    "id": "v1t8oXiJbnxw"
   },
   "source": [
    "### c. Create one new synthetic feature that could be useful in this domain\n",
    "\n",
    "I made a synthetic feature that is the property tax per $1000 dollars divided by the crime rate. This will show how the property taxes are affected by crime rate and whether that relationship can predict prices."
   ]
  },
  {
   "cell_type": "code",
   "execution_count": null,
   "metadata": {
    "colab": {
     "base_uri": "https://localhost:8080/",
     "height": 528
    },
    "colab_type": "code",
    "id": "dQ9s4rnIcMhz",
    "outputId": "02d4c776-99d2-46de-af7a-0cf8be1654ea"
   },
   "outputs": [],
   "source": [
    "training_data[13] = training_data[9]/training_data[0]"
   ]
  }
 ],
 "metadata": {
  "colab": {
   "collapsed_sections": [],
   "name": "homework3.ipynb",
   "provenance": []
  },
  "kernelspec": {
   "display_name": "Python 3",
   "language": "python",
   "name": "python3"
  },
  "language_info": {
   "codemirror_mode": {
    "name": "ipython",
    "version": 3
   },
   "file_extension": ".py",
   "mimetype": "text/x-python",
   "name": "python",
   "nbconvert_exporter": "python",
   "pygments_lexer": "ipython3",
   "version": "3.6.9"
  }
 },
 "nbformat": 4,
 "nbformat_minor": 1
}
