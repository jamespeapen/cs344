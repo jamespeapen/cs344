{
  "nbformat": 4,
  "nbformat_minor": 0,
  "metadata": {
    "colab": {
      "name": "Predicting antibiotic resistance",
      "provenance": [],
      "collapsed_sections": []
    },
    "kernelspec": {
      "name": "python3",
      "display_name": "Python 3"
    }
  },
  "cells": [
    {
      "cell_type": "markdown",
      "metadata": {
        "id": "hZJ61z9ZyEi8",
        "colab_type": "text"
      },
      "source": [
        "# Predicting Antibiotic Resistance Using Genetic Sequences\n",
        "James Eapen"
      ]
    },
    {
      "cell_type": "markdown",
      "metadata": {
        "id": "mstwU3QfyGTc",
        "colab_type": "text"
      },
      "source": [
        "## Vision\n",
        "I will be training a model to predict whether a genetic sequence contains a gene that confers antibiotic resistance. The dataset is a collection of artifical genetic sequences labelled with whether or not it has a resistance gene. The features are genomic sequences, made of four letter nucleotides A, C, G, and T. Groups of three nucleotides are called codons and code for a unit of a protein. The order in which they come is important as it determines the structure and function of the protein it encodes.  \n",
        "\n",
        "The model is based on an example by Scarlat that is a binary classifier trained with convolutional and recurrent networks. Based on a review of machine learning methods on antibiotic resistance prediction, I will be adding a random forest model, a model with just a convolutional neural network and a linear regression.\n"
      ]
    },
    {
      "cell_type": "markdown",
      "metadata": {
        "id": "xo0JIwYzybbA",
        "colab_type": "text"
      },
      "source": [
        "## Background\n",
        "Antibiotic resistance is a naturally occuring phenomenon that has\n",
        "been made worse by the human abuse of antibiotics. Antibiotics are compounds that interfere with bacterial metabolism and prevent normal functioning. They cure infections by killing the bacteria or by preventing its reproduction in the host. Every antibiotic has a mode of action that depends on a it getting into and staying inside the bacterium and on structures within it that can be used to disrupt normal function. \n",
        "\n",
        "However, if a bacterium aquires a gene that causes a change a structure that the antibiotic distrups, the antibiotic is no longer able to work. A bacterium becomes resistant when it aquires an antibiotic resistance gene that codes for a protein that can either protect the baterium by either changing a characteristic that the antibiotic depends on to work or by pumping the antibiotic out before it can take effect.\n",
        "\n",
        "Studies of genomes have revealed the sequences that confer resistance and there are databases of known antibiotic resistance genes. Predicting whether a bacterium is resistant to an antibiotic from these sequences can help direct patients to the right antibiotic.\n",
        "\n",
        "The review by Su et al. examined the perfomance of a number of machine learning models on different antibiotics and bacteria. Random forests and linear regressions were common models among the studies they reviewed.\n",
        "\n",
        "I will be using Keras for the neural networks, numpy and pandas for data manipulation and matplotlib for plotting accuracy scores. The random forest and linear regression models will be implemented with the Scikit-learn package."
      ]
    },
    {
      "cell_type": "markdown",
      "metadata": {
        "id": "5rG_Gs9CyGhg",
        "colab_type": "text"
      },
      "source": [
        "## Implementation\n",
        "This draft implementation is the implemtation by Scarlat on Kaggle that uses convolutional and bi-directional Gated Recurrent Unit networks. The first part uses the raw nucleotides, A, C, G, and T. The second approach takes them in groups of three calle codons that represent a unit of the protein the sequence codes. \n",
        "\n",
        "Since the codon approach is more successful, I will build the random forest and linear regression using the codon data to build on the Kaggle notebook."
      ]
    },
    {
      "cell_type": "code",
      "metadata": {
        "id": "jS17UN0X9V4w",
        "colab_type": "code",
        "outputId": "0bcc8a04-b830-43c2-8d1f-5baf519faaf2",
        "colab": {
          "base_uri": "https://localhost:8080/",
          "height": 34
        }
      },
      "source": [
        "# IMPORT MODULES\n",
        "\n",
        "import os\n",
        "import keras\n",
        "import numpy as np  \n",
        "import pandas as pd \n",
        "import matplotlib.pyplot as plt\n",
        "import time\n",
        "%matplotlib inline\n",
        "\n",
        "from keras.models import Sequential\n",
        "from keras.layers import Flatten, Dense, Dropout, Embedding, LSTM\n",
        "from keras import regularizers, layers, preprocessing\n",
        "from sklearn.metrics import confusion_matrix, precision_score, recall_score, accuracy_score, f1_score\n",
        "from sklearn.metrics import roc_auc_score, roc_curve, precision_recall_curve, average_precision_score\n",
        "from sklearn.ensemble import RandomForestClassifier\n",
        "\n",
        "from keras.preprocessing.text import Tokenizer\n",
        "from keras.preprocessing.sequence import pad_sequences\n",
        "\n",
        "import tensorflow as tf"
      ],
      "execution_count": 1,
      "outputs": [
        {
          "output_type": "stream",
          "text": [
            "Using TensorFlow backend.\n"
          ],
          "name": "stderr"
        }
      ]
    },
    {
      "cell_type": "code",
      "metadata": {
        "id": "in7yCv52-36M",
        "colab_type": "code",
        "outputId": "91b417eb-eb7b-47bb-9a25-5017e75cab7d",
        "colab": {
          "base_uri": "https://localhost:8080/",
          "height": 211
        }
      },
      "source": [
        "# IMPORT MODULES\n",
        "# Load the dataset.npy\n",
        "\n",
        "DataRaw = np.load('drive/My Drive/Colab Notebooks/dataset.npy', allow_pickle=True)\n",
        "print(type(DataRaw))\n",
        "print(DataRaw.ndim)\n",
        "DataRaw"
      ],
      "execution_count": 2,
      "outputs": [
        {
          "output_type": "stream",
          "text": [
            "<class 'numpy.ndarray'>\n",
            "0\n"
          ],
          "name": "stdout"
        },
        {
          "output_type": "execute_result",
          "data": {
            "text/plain": [
              "array({'resistant': array([False, False, False, ...,  True,  True, False]), 'genes': array(['ATGCACTACCGTATGATCCCCCTTCACTGGATGATGGAAATTGACTGCAATGGCTGCGCTAATAATACTTTGTCTCGTCGTTGGAATTACGACTTCTGGCACAAACACGTTGAACAGGTTAAATGCTACCGTCACAATATTCGTGACCAGACTTGA',\n",
              "       'ATGCACTACCGTATGATTCACTGGATGATGGAAATTGACTGCAATGGCTGCGCTAATAATACTTTGTCTCGTCGTTGGAATTACGACTTCTGGCACAAACCCGTTGAACAGGTTAAATGCTACCGTCACAATATTCGTGACCAGACTTGA',\n",
              "       'ATGCACTACCGTATGATTCACTGGATCGTGATGGAAATTGACTGCAATGGCTGCGCTAATAATACTTTGTCTCGTCGTTGGAATTACGACTTCTGGCACAAACACGTTGAACAGGTTAAATGCTACCGTCACAATATTCGTGACCAGACTTGA',\n",
              "       ...,\n",
              "       'ATGCACTACCGTATGATTCACTGGATGATGGAAACTGCAATGGCTGCGCTAATAATACTTTGTCTCGTCGTTGGAATTACGACTTCTGGCACAAACACGTTGAACAGGTTAAATGCTACCGTCACAATATTCGTGACCAGACTTGA',\n",
              "       'ATGCACTACCGTATGATTCACTGGATGATGGAAATTGACTTGCAATGGCTGCGCTAATAATACTTTGTCTCGTCGTTGGAATTACGACTTCTGGCACAAACACGTTGAACAGGTTAAATGCTACCGTCACAATATTCGTGACCAGACTTGA',\n",
              "       'ATGCACTACCGTATGATTCACTGGATGATGGAAATTGACTGCAATGGCTGCGCTAATAATACTTTGTCTCGTCGTTGGAATTACGACTTCTGGCACAAACACGTTGAACAGGTTAAATGCTACCGTCACAATATTCGTGACCAGACTTGA'],\n",
              "      dtype=object)}, dtype=object)"
            ]
          },
          "metadata": {
            "tags": []
          },
          "execution_count": 2
        }
      ]
    },
    {
      "cell_type": "code",
      "metadata": {
        "id": "twKUl5EB--Ws",
        "colab_type": "code",
        "outputId": "ade44b84-05a7-4d9c-a3a8-e6d0a70ac5bc",
        "colab": {
          "base_uri": "https://localhost:8080/",
          "height": 600
        }
      },
      "source": [
        "# As a dictionary\n",
        "Datadict = DataRaw[()]\n",
        "print(Datadict)\n",
        "\n",
        "# As a dataframe\n",
        "DataDf = pd.DataFrame.from_dict(Datadict)\n",
        "print(DataDf.shape)\n",
        "DataDf"
      ],
      "execution_count": 3,
      "outputs": [
        {
          "output_type": "stream",
          "text": [
            "{'resistant': array([False, False, False, ...,  True,  True, False]), 'genes': array(['ATGCACTACCGTATGATCCCCCTTCACTGGATGATGGAAATTGACTGCAATGGCTGCGCTAATAATACTTTGTCTCGTCGTTGGAATTACGACTTCTGGCACAAACACGTTGAACAGGTTAAATGCTACCGTCACAATATTCGTGACCAGACTTGA',\n",
            "       'ATGCACTACCGTATGATTCACTGGATGATGGAAATTGACTGCAATGGCTGCGCTAATAATACTTTGTCTCGTCGTTGGAATTACGACTTCTGGCACAAACCCGTTGAACAGGTTAAATGCTACCGTCACAATATTCGTGACCAGACTTGA',\n",
            "       'ATGCACTACCGTATGATTCACTGGATCGTGATGGAAATTGACTGCAATGGCTGCGCTAATAATACTTTGTCTCGTCGTTGGAATTACGACTTCTGGCACAAACACGTTGAACAGGTTAAATGCTACCGTCACAATATTCGTGACCAGACTTGA',\n",
            "       ...,\n",
            "       'ATGCACTACCGTATGATTCACTGGATGATGGAAACTGCAATGGCTGCGCTAATAATACTTTGTCTCGTCGTTGGAATTACGACTTCTGGCACAAACACGTTGAACAGGTTAAATGCTACCGTCACAATATTCGTGACCAGACTTGA',\n",
            "       'ATGCACTACCGTATGATTCACTGGATGATGGAAATTGACTTGCAATGGCTGCGCTAATAATACTTTGTCTCGTCGTTGGAATTACGACTTCTGGCACAAACACGTTGAACAGGTTAAATGCTACCGTCACAATATTCGTGACCAGACTTGA',\n",
            "       'ATGCACTACCGTATGATTCACTGGATGATGGAAATTGACTGCAATGGCTGCGCTAATAATACTTTGTCTCGTCGTTGGAATTACGACTTCTGGCACAAACACGTTGAACAGGTTAAATGCTACCGTCACAATATTCGTGACCAGACTTGA'],\n",
            "      dtype=object)}\n",
            "(100000, 2)\n"
          ],
          "name": "stdout"
        },
        {
          "output_type": "execute_result",
          "data": {
            "text/html": [
              "<div>\n",
              "<style scoped>\n",
              "    .dataframe tbody tr th:only-of-type {\n",
              "        vertical-align: middle;\n",
              "    }\n",
              "\n",
              "    .dataframe tbody tr th {\n",
              "        vertical-align: top;\n",
              "    }\n",
              "\n",
              "    .dataframe thead th {\n",
              "        text-align: right;\n",
              "    }\n",
              "</style>\n",
              "<table border=\"1\" class=\"dataframe\">\n",
              "  <thead>\n",
              "    <tr style=\"text-align: right;\">\n",
              "      <th></th>\n",
              "      <th>resistant</th>\n",
              "      <th>genes</th>\n",
              "    </tr>\n",
              "  </thead>\n",
              "  <tbody>\n",
              "    <tr>\n",
              "      <th>0</th>\n",
              "      <td>False</td>\n",
              "      <td>ATGCACTACCGTATGATCCCCCTTCACTGGATGATGGAAATTGACT...</td>\n",
              "    </tr>\n",
              "    <tr>\n",
              "      <th>1</th>\n",
              "      <td>False</td>\n",
              "      <td>ATGCACTACCGTATGATTCACTGGATGATGGAAATTGACTGCAATG...</td>\n",
              "    </tr>\n",
              "    <tr>\n",
              "      <th>2</th>\n",
              "      <td>False</td>\n",
              "      <td>ATGCACTACCGTATGATTCACTGGATCGTGATGGAAATTGACTGCA...</td>\n",
              "    </tr>\n",
              "    <tr>\n",
              "      <th>3</th>\n",
              "      <td>False</td>\n",
              "      <td>ATGCACTACCGTATGATTCACTGGGTGATGGAAATTGACTGCAATG...</td>\n",
              "    </tr>\n",
              "    <tr>\n",
              "      <th>4</th>\n",
              "      <td>False</td>\n",
              "      <td>ATGCACGACCGTATCATTCACTGGATGATGGAAATTGACTGCAATG...</td>\n",
              "    </tr>\n",
              "    <tr>\n",
              "      <th>...</th>\n",
              "      <td>...</td>\n",
              "      <td>...</td>\n",
              "    </tr>\n",
              "    <tr>\n",
              "      <th>99995</th>\n",
              "      <td>False</td>\n",
              "      <td>ATGCACTACCGTATGATTCACTGGATGATGGAAACTCTCTTTGACT...</td>\n",
              "    </tr>\n",
              "    <tr>\n",
              "      <th>99996</th>\n",
              "      <td>False</td>\n",
              "      <td>ATGCACTACCGTATGATTCACTGGATGATGGAAATTGACTGCAATG...</td>\n",
              "    </tr>\n",
              "    <tr>\n",
              "      <th>99997</th>\n",
              "      <td>True</td>\n",
              "      <td>ATGCACTACCGTATGATTCACTGGATGATGGAAACTGCAATGGCTG...</td>\n",
              "    </tr>\n",
              "    <tr>\n",
              "      <th>99998</th>\n",
              "      <td>True</td>\n",
              "      <td>ATGCACTACCGTATGATTCACTGGATGATGGAAATTGACTTGCAAT...</td>\n",
              "    </tr>\n",
              "    <tr>\n",
              "      <th>99999</th>\n",
              "      <td>False</td>\n",
              "      <td>ATGCACTACCGTATGATTCACTGGATGATGGAAATTGACTGCAATG...</td>\n",
              "    </tr>\n",
              "  </tbody>\n",
              "</table>\n",
              "<p>100000 rows × 2 columns</p>\n",
              "</div>"
            ],
            "text/plain": [
              "       resistant                                              genes\n",
              "0          False  ATGCACTACCGTATGATCCCCCTTCACTGGATGATGGAAATTGACT...\n",
              "1          False  ATGCACTACCGTATGATTCACTGGATGATGGAAATTGACTGCAATG...\n",
              "2          False  ATGCACTACCGTATGATTCACTGGATCGTGATGGAAATTGACTGCA...\n",
              "3          False  ATGCACTACCGTATGATTCACTGGGTGATGGAAATTGACTGCAATG...\n",
              "4          False  ATGCACGACCGTATCATTCACTGGATGATGGAAATTGACTGCAATG...\n",
              "...          ...                                                ...\n",
              "99995      False  ATGCACTACCGTATGATTCACTGGATGATGGAAACTCTCTTTGACT...\n",
              "99996      False  ATGCACTACCGTATGATTCACTGGATGATGGAAATTGACTGCAATG...\n",
              "99997       True  ATGCACTACCGTATGATTCACTGGATGATGGAAACTGCAATGGCTG...\n",
              "99998       True  ATGCACTACCGTATGATTCACTGGATGATGGAAATTGACTTGCAAT...\n",
              "99999      False  ATGCACTACCGTATGATTCACTGGATGATGGAAATTGACTGCAATG...\n",
              "\n",
              "[100000 rows x 2 columns]"
            ]
          },
          "metadata": {
            "tags": []
          },
          "execution_count": 3
        }
      ]
    },
    {
      "cell_type": "code",
      "metadata": {
        "id": "btAS5arl_C-A",
        "colab_type": "code",
        "outputId": "149c4d6c-0cfe-44b3-ef33-2656d51bd00e",
        "colab": {
          "base_uri": "https://localhost:8080/",
          "height": 69
        }
      },
      "source": [
        "# Mean  / Max / Min column width\n",
        "\n",
        "DataDf.fillna('').astype(str).apply(lambda x:x.str.len()).max()\n"
      ],
      "execution_count": 4,
      "outputs": [
        {
          "output_type": "execute_result",
          "data": {
            "text/plain": [
              "resistant      5\n",
              "genes        156\n",
              "dtype: int64"
            ]
          },
          "metadata": {
            "tags": []
          },
          "execution_count": 4
        }
      ]
    },
    {
      "cell_type": "code",
      "metadata": {
        "id": "EsiCHQsX_D_o",
        "colab_type": "code",
        "outputId": "e4a1e67b-1338-467f-ddc7-299d937d9754",
        "colab": {
          "base_uri": "https://localhost:8080/",
          "height": 52
        }
      },
      "source": [
        "# Tokenize from characters to integers (sequences and then pad / truncate data)\n",
        "\n",
        "Datatok = DataDf.copy()\n",
        "maxlen = 160 # cut off after this number of characters in a string\n",
        "\n",
        "max_words = 4 # considers only the top number of characters in the dictionary A C T G\n",
        "max_features = max_words\n",
        "\n",
        "tokenizer = Tokenizer(num_words=max_words, char_level=True)\n",
        "tokenizer.fit_on_texts(list(Datatok['genes']))\n",
        "sequences = tokenizer.texts_to_sequences(list(Datatok['genes']))\n",
        "word_index = tokenizer.word_index\n",
        "Xpad = pad_sequences(sequences, maxlen=maxlen, padding='post', truncating='post', value=0)\n",
        "\n",
        "print('Found %s unique tokens.' % len(word_index))\n",
        "print('word_index', word_index)"
      ],
      "execution_count": 5,
      "outputs": [
        {
          "output_type": "stream",
          "text": [
            "Found 4 unique tokens.\n",
            "word_index {'a': 1, 't': 2, 'c': 3, 'g': 4}\n"
          ],
          "name": "stdout"
        }
      ]
    },
    {
      "cell_type": "code",
      "metadata": {
        "id": "mWtLOzLO_Hoc",
        "colab_type": "code",
        "outputId": "da0ff875-b19c-49d4-ea77-65072ce5708a",
        "colab": {
          "base_uri": "https://localhost:8080/",
          "height": 52
        }
      },
      "source": [
        "# Separate the label\n",
        "\n",
        "labels = np.asarray(Datatok['resistant'])\n",
        "print(Xpad.shape)\n",
        "print(labels.shape)"
      ],
      "execution_count": 6,
      "outputs": [
        {
          "output_type": "stream",
          "text": [
            "(100000, 160)\n",
            "(100000,)\n"
          ],
          "name": "stdout"
        }
      ]
    },
    {
      "cell_type": "code",
      "metadata": {
        "id": "icR1cTt9_Kak",
        "colab_type": "code",
        "outputId": "bf9bd0f3-ba0b-4d7c-f6b9-f67924542b10",
        "colab": {
          "base_uri": "https://localhost:8080/",
          "height": 176
        }
      },
      "source": [
        "# Check a sample\n",
        "rowNum = 37149\n",
        "print(Datatok['genes'][rowNum])\n",
        "print(sequences[rowNum])\n",
        "print(Xpad[rowNum])\n",
        "print(labels[rowNum])"
      ],
      "execution_count": 7,
      "outputs": [
        {
          "output_type": "stream",
          "text": [
            "ATGCACTACCGTATGATTCACTGGATGATGGAAATTGACTGCAATGGCTGCGCTAATAATACTTTGTCTCGTCGTTGGAATTACGACTTCTGGCACAAACACGTTGAACAGGTTAAATGCTACCGTCACAATATTCGTGACCAGACTTGA\n",
            "[1, 2, 3, 1, 3, 2, 1, 3, 3, 2, 1, 2, 1, 2, 2, 3, 1, 3, 2, 1, 2, 1, 2, 1, 1, 1, 2, 2, 1, 3, 2, 3, 1, 1, 2, 3, 2, 3, 3, 2, 1, 1, 2, 1, 1, 2, 1, 3, 2, 2, 2, 2, 3, 2, 3, 2, 3, 2, 2, 1, 1, 2, 2, 1, 3, 1, 3, 2, 2, 3, 2, 3, 1, 3, 1, 1, 1, 3, 1, 3, 2, 2, 1, 1, 3, 1, 2, 2, 1, 1, 1, 2, 3, 2, 1, 3, 3, 2, 3, 1, 3, 1, 1, 2, 1, 2, 2, 3, 2, 1, 3, 3, 1, 1, 3, 2, 2, 1]\n",
            "[1 2 3 1 3 2 1 3 3 2 1 2 1 2 2 3 1 3 2 1 2 1 2 1 1 1 2 2 1 3 2 3 1 1 2 3 2\n",
            " 3 3 2 1 1 2 1 1 2 1 3 2 2 2 2 3 2 3 2 3 2 2 1 1 2 2 1 3 1 3 2 2 3 2 3 1 3\n",
            " 1 1 1 3 1 3 2 2 1 1 3 1 2 2 1 1 1 2 3 2 1 3 3 2 3 1 3 1 1 2 1 2 2 3 2 1 3\n",
            " 3 1 1 3 2 2 1 0 0 0 0 0 0 0 0 0 0 0 0 0 0 0 0 0 0 0 0 0 0 0 0 0 0 0 0 0 0\n",
            " 0 0 0 0 0 0 0 0 0 0 0 0]\n",
            "True\n"
          ],
          "name": "stdout"
        }
      ]
    },
    {
      "cell_type": "code",
      "metadata": {
        "id": "E5yWclQW_PB4",
        "colab_type": "code",
        "outputId": "ab854af9-3ca2-414f-8bbc-e630774420c7",
        "colab": {
          "base_uri": "https://localhost:8080/",
          "height": 86
        }
      },
      "source": [
        "# Create train & val and test datasets with inital shuffle (as the original dataset may be arranged)\n",
        "\n",
        "training_samples = int(Xpad.shape[0] * 0.9)\n",
        "# The validation is being taken by keras - below\n",
        "# test = remaining\n",
        "\n",
        "indices = np.arange(Xpad.shape[0])\n",
        "np.random.shuffle(indices) # FOR TESTING PURPOSES comment it out - to keep indices as above\n",
        "\n",
        "Xpad = Xpad[indices]\n",
        "labels = labels[indices]\n",
        "\n",
        "x_train = Xpad[:training_samples]\n",
        "y_train = labels[:training_samples]\n",
        "x_test = Xpad[training_samples: ]\n",
        "y_test = labels[training_samples: ]\n",
        "\n",
        "print('ix_train', x_train.shape)\n",
        "print('y_train', y_train.shape)\n",
        "print('x_test', x_test.shape)\n",
        "print('y_test', y_test.shape)"
      ],
      "execution_count": 8,
      "outputs": [
        {
          "output_type": "stream",
          "text": [
            "ix_train (90000, 160)\n",
            "y_train (90000,)\n",
            "x_test (10000, 160)\n",
            "y_test (10000,)\n"
          ],
          "name": "stdout"
        }
      ]
    },
    {
      "cell_type": "code",
      "metadata": {
        "id": "9moBmtWM_ee8",
        "colab_type": "code",
        "outputId": "d0e539e6-330b-481c-954c-f31ace5fd0ae",
        "colab": {
          "base_uri": "https://localhost:8080/",
          "height": 434
        }
      },
      "source": [
        "# Model ... 128 CNN window 27 & Bidirectional GRU accuracy = \n",
        "\n",
        "model = Sequential()\n",
        "model.add(Embedding(4, 1, input_length=maxlen))\n",
        "model.add(layers.Conv1D(128, 27, activation='relu'))\n",
        "model.add(layers.MaxPooling1D(9))\n",
        "model.add(layers.Dropout(0.5))\n",
        "model.add(layers.Conv1D(128, 9, activation='relu'))\n",
        "model.add(layers.Dropout(0.5))\n",
        "model.add(layers.Bidirectional(layers.GRU(32, dropout=0.2, recurrent_dropout=0.2)))\n",
        "model.add(Dense(1, activation='sigmoid'))\n",
        "model.compile(optimizer='adam', loss='binary_crossentropy', metrics=['acc'])\n",
        "model.summary()"
      ],
      "execution_count": 9,
      "outputs": [
        {
          "output_type": "stream",
          "text": [
            "Model: \"sequential_1\"\n",
            "_________________________________________________________________\n",
            "Layer (type)                 Output Shape              Param #   \n",
            "=================================================================\n",
            "embedding_1 (Embedding)      (None, 160, 1)            4         \n",
            "_________________________________________________________________\n",
            "conv1d_1 (Conv1D)            (None, 134, 128)          3584      \n",
            "_________________________________________________________________\n",
            "max_pooling1d_1 (MaxPooling1 (None, 14, 128)           0         \n",
            "_________________________________________________________________\n",
            "dropout_1 (Dropout)          (None, 14, 128)           0         \n",
            "_________________________________________________________________\n",
            "conv1d_2 (Conv1D)            (None, 6, 128)            147584    \n",
            "_________________________________________________________________\n",
            "dropout_2 (Dropout)          (None, 6, 128)            0         \n",
            "_________________________________________________________________\n",
            "bidirectional_1 (Bidirection (None, 64)                30912     \n",
            "_________________________________________________________________\n",
            "dense_1 (Dense)              (None, 1)                 65        \n",
            "=================================================================\n",
            "Total params: 182,149\n",
            "Trainable params: 182,149\n",
            "Non-trainable params: 0\n",
            "_________________________________________________________________\n"
          ],
          "name": "stdout"
        }
      ]
    },
    {
      "cell_type": "code",
      "metadata": {
        "id": "L1guk8J4_g_4",
        "colab_type": "code",
        "outputId": "13e3739b-597e-407f-f677-b2de866e0de0",
        "colab": {
          "base_uri": "https://localhost:8080/",
          "height": 434
        }
      },
      "source": [
        "# Train / Validate model\n",
        "start_time = time.time()\n",
        "history = model.fit(x_train, y_train,\n",
        "epochs = 10,\n",
        "batch_size=32,\n",
        "validation_split=0.2)\n",
        "nn1_runtime = time.time() - start_time\n",
        "print(\"Runtime: %s seconds\" % nn1_runtime)"
      ],
      "execution_count": 10,
      "outputs": [
        {
          "output_type": "stream",
          "text": [
            "/usr/local/lib/python3.6/dist-packages/tensorflow/python/framework/indexed_slices.py:434: UserWarning: Converting sparse IndexedSlices to a dense Tensor of unknown shape. This may consume a large amount of memory.\n",
            "  \"Converting sparse IndexedSlices to a dense Tensor of unknown shape. \"\n"
          ],
          "name": "stderr"
        },
        {
          "output_type": "stream",
          "text": [
            "Train on 72000 samples, validate on 18000 samples\n",
            "Epoch 1/10\n",
            "72000/72000 [==============================] - 96s 1ms/step - loss: 0.5856 - acc: 0.6548 - val_loss: 0.4732 - val_acc: 0.7535\n",
            "Epoch 2/10\n",
            "72000/72000 [==============================] - 93s 1ms/step - loss: 0.4629 - acc: 0.7456 - val_loss: 0.4194 - val_acc: 0.7690\n",
            "Epoch 3/10\n",
            "72000/72000 [==============================] - 94s 1ms/step - loss: 0.4294 - acc: 0.7639 - val_loss: 0.3939 - val_acc: 0.7913\n",
            "Epoch 4/10\n",
            "72000/72000 [==============================] - 94s 1ms/step - loss: 0.4179 - acc: 0.7718 - val_loss: 0.3834 - val_acc: 0.7924\n",
            "Epoch 5/10\n",
            "72000/72000 [==============================] - 95s 1ms/step - loss: 0.4093 - acc: 0.7762 - val_loss: 0.3801 - val_acc: 0.7941\n",
            "Epoch 6/10\n",
            "72000/72000 [==============================] - 94s 1ms/step - loss: 0.4023 - acc: 0.7797 - val_loss: 0.3712 - val_acc: 0.7972\n",
            "Epoch 7/10\n",
            "72000/72000 [==============================] - 95s 1ms/step - loss: 0.3992 - acc: 0.7794 - val_loss: 0.3755 - val_acc: 0.7938\n",
            "Epoch 8/10\n",
            "72000/72000 [==============================] - 98s 1ms/step - loss: 0.3949 - acc: 0.7825 - val_loss: 0.3655 - val_acc: 0.7954\n",
            "Epoch 9/10\n",
            "72000/72000 [==============================] - 94s 1ms/step - loss: 0.3922 - acc: 0.7838 - val_loss: 0.3714 - val_acc: 0.7843\n",
            "Epoch 10/10\n",
            "72000/72000 [==============================] - 94s 1ms/step - loss: 0.3894 - acc: 0.7849 - val_loss: 0.3626 - val_acc: 0.7951\n",
            "Runtime: 949.6002597808838 seconds\n"
          ],
          "name": "stdout"
        }
      ]
    },
    {
      "cell_type": "code",
      "metadata": {
        "id": "u03OeeqG_icE",
        "colab_type": "code",
        "outputId": "c2d2287b-53d4-4b48-ac40-af19568190f2",
        "colab": {
          "base_uri": "https://localhost:8080/",
          "height": 573
        }
      },
      "source": [
        "# Learning curves\n",
        "\n",
        "# VALIDATION LOSS curves\n",
        "\n",
        "plt.clf()\n",
        "history_dict = history.history\n",
        "loss_values = history_dict['loss']\n",
        "val_loss_values = history_dict['val_loss']\n",
        "epochs = range(1, (len(history_dict['loss']) + 1))\n",
        "plt.plot(epochs, loss_values, 'bo', label='Training loss')\n",
        "plt.plot(epochs, val_loss_values, 'r', label='Validation loss')\n",
        "plt.title('Training and validation loss')\n",
        "plt.xlabel('Epochs')\n",
        "plt.ylabel('Loss')\n",
        "plt.legend()\n",
        "plt.show()\n",
        "\n",
        "# VALIDATION ACCURACY curves\n",
        "\n",
        "plt.clf()\n",
        "acc_values = history_dict['acc']\n",
        "val_acc_values = history_dict['val_acc']\n",
        "epochs = range(1, (len(history_dict['acc']) + 1))\n",
        "plt.plot(epochs, acc_values, 'bo', label='Training acc')\n",
        "plt.plot(epochs, val_acc_values, 'r', label='Validation acc')\n",
        "plt.title('Training and validation accuracy')\n",
        "plt.xlabel('Epochs')\n",
        "plt.ylabel('Accuracy')\n",
        "plt.legend()\n",
        "plt.show()"
      ],
      "execution_count": 11,
      "outputs": [
        {
          "output_type": "display_data",
          "data": {
            "image/png": "[encoded data removed]",
            "text/plain": [
              "<Figure size 432x288 with 1 Axes>"
            ]
          },
          "metadata": {
            "tags": [],
            "needs_background": "light"
          }
        },
        {
          "output_type": "display_data",
          "data": {
            "image/png": "[encoded data removed]",
            "text/plain": [
              "<Figure size 432x288 with 1 Axes>"
            ]
          },
          "metadata": {
            "tags": [],
            "needs_background": "light"
          }
        }
      ]
    },
    {
      "cell_type": "code",
      "metadata": {
        "id": "cwpQ-uIg_oP8",
        "colab_type": "code",
        "outputId": "56b4f5fe-afe7-4197-cb1f-6d3e2156fa62",
        "colab": {
          "base_uri": "https://localhost:8080/",
          "height": 278
        }
      },
      "source": [
        "# Final Predict on test\n",
        "\n",
        "final_predictions = model.predict(x_test)\n",
        "print(final_predictions)\n",
        "\n",
        "# Modify the raw final_predictions - prediction probs  - into 0 and 1\n",
        "# Cutoff point = 0.5\n",
        "\n",
        "Preds = final_predictions.copy()\n",
        "print(len(Preds))\n",
        "\n",
        "Preds[ np.where( Preds >= 0.5 ) ] = 1\n",
        "Preds[ np.where( Preds < 0.5 ) ] = 0\n",
        "print(Preds)"
      ],
      "execution_count": 12,
      "outputs": [
        {
          "output_type": "stream",
          "text": [
            "[[0.2267173]\n",
            " [0.2267173]\n",
            " [0.9994897]\n",
            " ...\n",
            " [0.2267173]\n",
            " [0.9994128]\n",
            " [0.4967294]]\n",
            "10000\n",
            "[[0.]\n",
            " [0.]\n",
            " [1.]\n",
            " ...\n",
            " [0.]\n",
            " [1.]\n",
            " [0.]]\n"
          ],
          "name": "stdout"
        }
      ]
    },
    {
      "cell_type": "markdown",
      "metadata": {
        "id": "8ENuN7H6dEpY",
        "colab_type": "text"
      },
      "source": [
        "A confusion matrix can be used to visualize the results and see how well the model is making its predictions. It shows the true and false positives and negatives. This is useful because a false negative prediction can be clinically more damaging than a false postive prediction since it is worse to take ineffective action against an antibiotic resistant bacterium than to take an intensive treatment against a susceptible baterium. "
      ]
    },
    {
      "cell_type": "code",
      "metadata": {
        "id": "NPH2drpu_qOg",
        "colab_type": "code",
        "outputId": "9a54043b-3018-42e4-807e-27c16eb46473",
        "colab": {
          "base_uri": "https://localhost:8080/",
          "height": 104
        }
      },
      "source": [
        "# Confusion matrix\n",
        "\n",
        "conf_mx = confusion_matrix(y_test, Preds)\n",
        "\n",
        "TN = conf_mx[0,0]\n",
        "FP = conf_mx[0,1]\n",
        "FN = conf_mx[1,0]\n",
        "TP = conf_mx[1,1]\n",
        "\n",
        "print ('TN: ', TN)\n",
        "print ('FP: ', FP)\n",
        "print ('FN: ', FN)\n",
        "print ('TP: ', TP)\n",
        "\n",
        "recall = TP/(TP+FN)\n",
        "precision = TP/(TP+FP)\n",
        "\n",
        "print (recall, precision)"
      ],
      "execution_count": 13,
      "outputs": [
        {
          "output_type": "stream",
          "text": [
            "TN:  4629\n",
            "FP:  508\n",
            "FN:  1509\n",
            "TP:  3354\n",
            "0.6896977174583591 0.8684619368203004\n"
          ],
          "name": "stdout"
        }
      ]
    },
    {
      "cell_type": "code",
      "metadata": {
        "id": "rQ2Ho81m_u_M",
        "colab_type": "code",
        "colab": {}
      },
      "source": [
        "# Function to visualize the confusion matrix\n",
        "\n",
        "def plot_confusion_matrix(cm,target_names,title='Confusion matrix',cmap=None,\n",
        "                          normalize=False):\n",
        "    import itertools\n",
        "    accuracy = np.trace(cm) / float(np.sum(cm))\n",
        "    misclass = 1 - accuracy\n",
        "\n",
        "    if cmap is None:\n",
        "        cmap = plt.get_cmap('Blues')\n",
        "\n",
        "    plt.figure(figsize=(8, 6))\n",
        "    plt.imshow(cm, interpolation='nearest', cmap=cmap)\n",
        "    plt.title(title)\n",
        "    plt.colorbar()\n",
        "\n",
        "    if target_names is not None:\n",
        "        tick_marks = np.arange(len(target_names))\n",
        "        plt.xticks(tick_marks, target_names, rotation=45)\n",
        "        plt.yticks(tick_marks, target_names)\n",
        "\n",
        "    if normalize:\n",
        "        cm = cm.astype('float') / cm.sum(axis=1)[:, np.newaxis]\n",
        "    \n",
        "    thresh = cm.max() / 1.5 if normalize else cm.max() / 2\n",
        "    for i, j in itertools.product(range(cm.shape[0]), range(cm.shape[1])):\n",
        "        if normalize:\n",
        "            plt.text(j, i, \"{:0.4f}\".format(cm[i, j]),\n",
        "                     horizontalalignment=\"center\",\n",
        "                     color=\"white\" if cm[i, j] > thresh else \"black\")\n",
        "        else:\n",
        "            plt.text(j, i, \"{:,}\".format(cm[i, j]),\n",
        "                     horizontalalignment=\"center\",\n",
        "                     color=\"white\" if cm[i, j] > thresh else \"black\")\n",
        "\n",
        "\n",
        "    plt.tight_layout()\n",
        "    plt.ylabel('True label')\n",
        "    plt.xlabel('Predicted label\\naccuracy={:0.4f}; misclass={:0.4f}'.format(accuracy, misclass))\n",
        "    plt.show()"
      ],
      "execution_count": 0,
      "outputs": []
    },
    {
      "cell_type": "code",
      "metadata": {
        "id": "DMxqCSOB_zNg",
        "colab_type": "code",
        "outputId": "15ac9373-88a4-41e9-f149-2ccd51403907",
        "colab": {
          "base_uri": "https://localhost:8080/",
          "height": 467
        }
      },
      "source": [
        "plot_confusion_matrix(conf_mx, \n",
        "                      normalize    = False,\n",
        "                      target_names = ['resistant', 'sensistive'],\n",
        "                      title        = \"Confusion Matrix \")"
      ],
      "execution_count": 15,
      "outputs": [
        {
          "output_type": "display_data",
          "data": {
            "image/png": "[encoded data removed]",
            "text/plain": [
              "<Figure size 576x432 with 2 Axes>"
            ]
          },
          "metadata": {
            "tags": [],
            "needs_background": "light"
          }
        }
      ]
    },
    {
      "cell_type": "code",
      "metadata": {
        "id": "wmRM3nQQ_27A",
        "colab_type": "code",
        "outputId": "cd742b3e-933e-47bf-b4c4-1f2fde870f51",
        "colab": {
          "base_uri": "https://localhost:8080/",
          "height": 86
        }
      },
      "source": [
        "print ('precision ',precision_score(y_test, Preds))\n",
        "print ('recall ',recall_score(y_test, Preds) )\n",
        "print ('accuracy ',accuracy_score(y_test, Preds))\n",
        "print ('F1 score ',f1_score(y_test, Preds))"
      ],
      "execution_count": 16,
      "outputs": [
        {
          "output_type": "stream",
          "text": [
            "precision  0.8684619368203004\n",
            "recall  0.6896977174583591\n",
            "accuracy  0.7983\n",
            "F1 score  0.7688252148997134\n"
          ],
          "name": "stdout"
        }
      ]
    },
    {
      "cell_type": "code",
      "metadata": {
        "id": "R_050Jzg_42c",
        "colab_type": "code",
        "outputId": "84694fdf-7f7f-4a60-af71-4ee1f66f94b0",
        "colab": {
          "base_uri": "https://localhost:8080/",
          "height": 298
        }
      },
      "source": [
        "# AUC/ROC curves should be used when there are roughly equal numbers of observations for each class\n",
        "# Precision-Recall curves should be used when there is a moderate to large class imbalance\n",
        "\n",
        "# calculate AUC\n",
        "auc = roc_auc_score(y_test, Preds)\n",
        "print('AUC: %.3f' % auc)\n",
        "# calculate roc curve\n",
        "fpr, tpr, thresholds = roc_curve(y_test, Preds)\n",
        "plt.plot([0, 1], [0, 1], linestyle='--')\n",
        "# plot the roc curve for the model\n",
        "plt.plot(fpr, tpr, marker='.')\n",
        "plt.title('ROC ')\n",
        "plt.show()"
      ],
      "execution_count": 17,
      "outputs": [
        {
          "output_type": "stream",
          "text": [
            "AUC: 0.795\n"
          ],
          "name": "stdout"
        },
        {
          "output_type": "display_data",
          "data": {
            "image/png": "[encoded data removed]",
            "text/plain": [
              "<Figure size 432x288 with 1 Axes>"
            ]
          },
          "metadata": {
            "tags": [],
            "needs_background": "light"
          }
        }
      ]
    },
    {
      "cell_type": "code",
      "metadata": {
        "id": "Y5SGOdUT_67Q",
        "colab_type": "code",
        "outputId": "aede5bc4-3f0d-47b6-d030-ee1282655e03",
        "colab": {
          "base_uri": "https://localhost:8080/",
          "height": 282
        }
      },
      "source": [
        "# calculate precision-recall curve\n",
        "precision, recall, thresholds = precision_recall_curve(y_test, Preds)\n",
        "# calculate F1 score\n",
        "f1 = f1_score(y_test, Preds)\n",
        "# calculate average precision score\n",
        "ap = average_precision_score(y_test, Preds)\n",
        "print('f1=%.3f ap=%.3f' % (f1, ap))\n",
        "plt.plot([0, 1], [0.5, 0.5], linestyle='--')\n",
        "# plot the roc curve for the model\n",
        "plt.plot(recall, precision, marker='.')\n",
        "plt.show()"
      ],
      "execution_count": 18,
      "outputs": [
        {
          "output_type": "stream",
          "text": [
            "f1=0.769 ap=0.750\n"
          ],
          "name": "stdout"
        },
        {
          "output_type": "display_data",
          "data": {
            "image/png": "[encoded data removed]",
            "text/plain": [
              "<Figure size 432x288 with 1 Axes>"
            ]
          },
          "metadata": {
            "tags": [],
            "needs_background": "light"
          }
        }
      ]
    },
    {
      "cell_type": "markdown",
      "metadata": {
        "id": "Sc7JhdBsegXs",
        "colab_type": "text"
      },
      "source": [
        "### Codon Tokenization"
      ]
    },
    {
      "cell_type": "code",
      "metadata": {
        "id": "5stQG5ld_8wc",
        "colab_type": "code",
        "outputId": "9cb1186e-919a-4728-d8ac-5f9a396fb581",
        "colab": {
          "base_uri": "https://localhost:8080/",
          "height": 441
        }
      },
      "source": [
        "# From nucleotides to codons ... w/o considering the start / stop codons as the data is synthetic and may not have these\n",
        "\n",
        "DataCod = DataDf.copy()\n",
        "\n",
        "Codons = list(DataCod['genes'])\n",
        "print(len(Codons))\n",
        "\n",
        "for n in range(len(Codons)):\n",
        "    Codons[n] = list([Codons[n][i:i+3] for i in range(0, len(Codons[n]), 3)])\n",
        "    \n",
        "DataCod['codons'] = Codons\n",
        "DataCod"
      ],
      "execution_count": 19,
      "outputs": [
        {
          "output_type": "stream",
          "text": [
            "100000\n"
          ],
          "name": "stdout"
        },
        {
          "output_type": "execute_result",
          "data": {
            "text/html": [
              "<div>\n",
              "<style scoped>\n",
              "    .dataframe tbody tr th:only-of-type {\n",
              "        vertical-align: middle;\n",
              "    }\n",
              "\n",
              "    .dataframe tbody tr th {\n",
              "        vertical-align: top;\n",
              "    }\n",
              "\n",
              "    .dataframe thead th {\n",
              "        text-align: right;\n",
              "    }\n",
              "</style>\n",
              "<table border=\"1\" class=\"dataframe\">\n",
              "  <thead>\n",
              "    <tr style=\"text-align: right;\">\n",
              "      <th></th>\n",
              "      <th>resistant</th>\n",
              "      <th>genes</th>\n",
              "      <th>codons</th>\n",
              "    </tr>\n",
              "  </thead>\n",
              "  <tbody>\n",
              "    <tr>\n",
              "      <th>0</th>\n",
              "      <td>False</td>\n",
              "      <td>ATGCACTACCGTATGATCCCCCTTCACTGGATGATGGAAATTGACT...</td>\n",
              "      <td>[ATG, CAC, TAC, CGT, ATG, ATC, CCC, CTT, CAC, ...</td>\n",
              "    </tr>\n",
              "    <tr>\n",
              "      <th>1</th>\n",
              "      <td>False</td>\n",
              "      <td>ATGCACTACCGTATGATTCACTGGATGATGGAAATTGACTGCAATG...</td>\n",
              "      <td>[ATG, CAC, TAC, CGT, ATG, ATT, CAC, TGG, ATG, ...</td>\n",
              "    </tr>\n",
              "    <tr>\n",
              "      <th>2</th>\n",
              "      <td>False</td>\n",
              "      <td>ATGCACTACCGTATGATTCACTGGATCGTGATGGAAATTGACTGCA...</td>\n",
              "      <td>[ATG, CAC, TAC, CGT, ATG, ATT, CAC, TGG, ATC, ...</td>\n",
              "    </tr>\n",
              "    <tr>\n",
              "      <th>3</th>\n",
              "      <td>False</td>\n",
              "      <td>ATGCACTACCGTATGATTCACTGGGTGATGGAAATTGACTGCAATG...</td>\n",
              "      <td>[ATG, CAC, TAC, CGT, ATG, ATT, CAC, TGG, GTG, ...</td>\n",
              "    </tr>\n",
              "    <tr>\n",
              "      <th>4</th>\n",
              "      <td>False</td>\n",
              "      <td>ATGCACGACCGTATCATTCACTGGATGATGGAAATTGACTGCAATG...</td>\n",
              "      <td>[ATG, CAC, GAC, CGT, ATC, ATT, CAC, TGG, ATG, ...</td>\n",
              "    </tr>\n",
              "    <tr>\n",
              "      <th>...</th>\n",
              "      <td>...</td>\n",
              "      <td>...</td>\n",
              "      <td>...</td>\n",
              "    </tr>\n",
              "    <tr>\n",
              "      <th>99995</th>\n",
              "      <td>False</td>\n",
              "      <td>ATGCACTACCGTATGATTCACTGGATGATGGAAACTCTCTTTGACT...</td>\n",
              "      <td>[ATG, CAC, TAC, CGT, ATG, ATT, CAC, TGG, ATG, ...</td>\n",
              "    </tr>\n",
              "    <tr>\n",
              "      <th>99996</th>\n",
              "      <td>False</td>\n",
              "      <td>ATGCACTACCGTATGATTCACTGGATGATGGAAATTGACTGCAATG...</td>\n",
              "      <td>[ATG, CAC, TAC, CGT, ATG, ATT, CAC, TGG, ATG, ...</td>\n",
              "    </tr>\n",
              "    <tr>\n",
              "      <th>99997</th>\n",
              "      <td>True</td>\n",
              "      <td>ATGCACTACCGTATGATTCACTGGATGATGGAAACTGCAATGGCTG...</td>\n",
              "      <td>[ATG, CAC, TAC, CGT, ATG, ATT, CAC, TGG, ATG, ...</td>\n",
              "    </tr>\n",
              "    <tr>\n",
              "      <th>99998</th>\n",
              "      <td>True</td>\n",
              "      <td>ATGCACTACCGTATGATTCACTGGATGATGGAAATTGACTTGCAAT...</td>\n",
              "      <td>[ATG, CAC, TAC, CGT, ATG, ATT, CAC, TGG, ATG, ...</td>\n",
              "    </tr>\n",
              "    <tr>\n",
              "      <th>99999</th>\n",
              "      <td>False</td>\n",
              "      <td>ATGCACTACCGTATGATTCACTGGATGATGGAAATTGACTGCAATG...</td>\n",
              "      <td>[ATG, CAC, TAC, CGT, ATG, ATT, CAC, TGG, ATG, ...</td>\n",
              "    </tr>\n",
              "  </tbody>\n",
              "</table>\n",
              "<p>100000 rows × 3 columns</p>\n",
              "</div>"
            ],
            "text/plain": [
              "       resistant  ...                                             codons\n",
              "0          False  ...  [ATG, CAC, TAC, CGT, ATG, ATC, CCC, CTT, CAC, ...\n",
              "1          False  ...  [ATG, CAC, TAC, CGT, ATG, ATT, CAC, TGG, ATG, ...\n",
              "2          False  ...  [ATG, CAC, TAC, CGT, ATG, ATT, CAC, TGG, ATC, ...\n",
              "3          False  ...  [ATG, CAC, TAC, CGT, ATG, ATT, CAC, TGG, GTG, ...\n",
              "4          False  ...  [ATG, CAC, GAC, CGT, ATC, ATT, CAC, TGG, ATG, ...\n",
              "...          ...  ...                                                ...\n",
              "99995      False  ...  [ATG, CAC, TAC, CGT, ATG, ATT, CAC, TGG, ATG, ...\n",
              "99996      False  ...  [ATG, CAC, TAC, CGT, ATG, ATT, CAC, TGG, ATG, ...\n",
              "99997       True  ...  [ATG, CAC, TAC, CGT, ATG, ATT, CAC, TGG, ATG, ...\n",
              "99998       True  ...  [ATG, CAC, TAC, CGT, ATG, ATT, CAC, TGG, ATG, ...\n",
              "99999      False  ...  [ATG, CAC, TAC, CGT, ATG, ATT, CAC, TGG, ATG, ...\n",
              "\n",
              "[100000 rows x 3 columns]"
            ]
          },
          "metadata": {
            "tags": []
          },
          "execution_count": 19
        }
      ]
    },
    {
      "cell_type": "code",
      "metadata": {
        "id": "IUfhXtzM__1U",
        "colab_type": "code",
        "outputId": "4bb7fdf5-d90b-4b9d-d972-22e2ca9d3272",
        "colab": {
          "base_uri": "https://localhost:8080/",
          "height": 72
        }
      },
      "source": [
        "# Tokenize from codons to integers (sequences and then pad / truncate data)\n",
        "\n",
        "maxlen = 53 # cut off after this number of codons in a list\n",
        "\n",
        "max_words = 64 # considers only the top number of codons  in the dictionary (It finds 66 below because of 'a' and 'ga')\n",
        "max_features = max_words\n",
        "\n",
        "#tokenizer = Tokenizer(num_words=max_words, char_level=True)\n",
        "tokenizer = Tokenizer(num_words=max_words)\n",
        "tokenizer.fit_on_texts(list(DataCod['codons']))\n",
        "sequences = tokenizer.texts_to_sequences(list(DataCod['codons']))\n",
        "word_index = tokenizer.word_index\n",
        "Xpad = pad_sequences(sequences, maxlen=maxlen, padding='post', truncating='post', value=0)\n",
        "\n",
        "print('Found %s unique tokens.' % len(word_index))\n",
        "print('word_index', word_index)"
      ],
      "execution_count": 20,
      "outputs": [
        {
          "output_type": "stream",
          "text": [
            "Found 66 unique tokens.\n",
            "word_index {'cac': 1, 'cgt': 2, 'aat': 3, 'atg': 4, 'tac': 5, 'att': 6, 'tgg': 7, 'gac': 8, 'tgc': 9, 'act': 10, 'gtt': 11, 'gaa': 12, 'aaa': 13, 'cag': 14, 'tga': 15, 'ttg': 16, 'gct': 17, 'ttc': 18, 'tct': 19, 'ggc': 20, 'aca': 21, 'taa': 22, 'ctg': 23, 'ata': 24, 'caa': 25, 'ctt': 26, 'tcg': 27, 'gtc': 28, 'aac': 29, 'gga': 30, 'acg': 31, 'gca': 32, 'tta': 33, 'cta': 34, 'acc': 35, 'gat': 36, 'tca': 37, 'tat': 38, 'agg': 39, 'tgt': 40, 'gtg': 41, 'cga': 42, 'cgc': 43, 'ttt': 44, 'aga': 45, 'ggt': 46, 'ctc': 47, 'cca': 48, 'ccg': 49, 'gcg': 50, 'a': 51, 'ga': 52, 'tag': 53, 'atc': 54, 'cat': 55, 'agt': 56, 'cgg': 57, 'aag': 58, 'gag': 59, 'cct': 60, 'gta': 61, 'ggg': 62, 'tcc': 63, 'agc': 64, 'ccc': 65, 'gcc': 66}\n"
          ],
          "name": "stdout"
        }
      ]
    },
    {
      "cell_type": "code",
      "metadata": {
        "id": "usreV9A7ABeA",
        "colab_type": "code",
        "outputId": "826906ea-b82b-4b15-f6ec-d68c8d4bae0f",
        "colab": {
          "base_uri": "https://localhost:8080/",
          "height": 52
        }
      },
      "source": [
        "# Separate the label\n",
        "\n",
        "labels = np.asarray(DataCod['resistant'])\n",
        "print(Xpad.shape)\n",
        "print(labels.shape)"
      ],
      "execution_count": 21,
      "outputs": [
        {
          "output_type": "stream",
          "text": [
            "(100000, 53)\n",
            "(100000,)\n"
          ],
          "name": "stdout"
        }
      ]
    },
    {
      "cell_type": "code",
      "metadata": {
        "id": "xdR4n110ACa8",
        "colab_type": "code",
        "outputId": "652dc0f7-261d-42c3-d1dd-2010478cdec8",
        "colab": {
          "base_uri": "https://localhost:8080/",
          "height": 159
        }
      },
      "source": [
        "# Check a sample\n",
        "\n",
        "rowNum = 37149\n",
        "print(DataCod['genes'][rowNum])\n",
        "print(DataCod['codons'][rowNum])\n",
        "print(sequences[rowNum])\n",
        "print(Xpad[rowNum])\n",
        "print(labels[rowNum])"
      ],
      "execution_count": 22,
      "outputs": [
        {
          "output_type": "stream",
          "text": [
            "ATGCACTACCGTATGATTCACTGGATGATGGAAATTGACTGCAATGGCTGCGCTAATAATACTTTGTCTCGTCGTTGGAATTACGACTTCTGGCACAAACACGTTGAACAGGTTAAATGCTACCGTCACAATATTCGTGACCAGACTTGA\n",
            "['ATG', 'CAC', 'TAC', 'CGT', 'ATG', 'ATT', 'CAC', 'TGG', 'ATG', 'ATG', 'GAA', 'ATT', 'GAC', 'TGC', 'AAT', 'GGC', 'TGC', 'GCT', 'AAT', 'AAT', 'ACT', 'TTG', 'TCT', 'CGT', 'CGT', 'TGG', 'AAT', 'TAC', 'GAC', 'TTC', 'TGG', 'CAC', 'AAA', 'CAC', 'GTT', 'GAA', 'CAG', 'GTT', 'AAA', 'TGC', 'TAC', 'CGT', 'CAC', 'AAT', 'ATT', 'CGT', 'GAC', 'CAG', 'ACT', 'TGA']\n",
            "[4, 1, 5, 2, 4, 6, 1, 7, 4, 4, 12, 6, 8, 9, 3, 20, 9, 17, 3, 3, 10, 16, 19, 2, 2, 7, 3, 5, 8, 18, 7, 1, 13, 1, 11, 12, 14, 11, 13, 9, 5, 2, 1, 3, 6, 2, 8, 14, 10, 15]\n",
            "[ 4  1  5  2  4  6  1  7  4  4 12  6  8  9  3 20  9 17  3  3 10 16 19  2\n",
            "  2  7  3  5  8 18  7  1 13  1 11 12 14 11 13  9  5  2  1  3  6  2  8 14\n",
            " 10 15  0  0  0]\n",
            "True\n"
          ],
          "name": "stdout"
        }
      ]
    },
    {
      "cell_type": "code",
      "metadata": {
        "id": "m6zlq2bHAFOo",
        "colab_type": "code",
        "outputId": "48f41ffa-4bd9-4a17-e0b0-dd5db570cc26",
        "colab": {
          "base_uri": "https://localhost:8080/",
          "height": 86
        }
      },
      "source": [
        "# Create train & val and test datasets with inital shuffle (as the original dataset may be arranged)\n",
        "\n",
        "training_samples = int(Xpad.shape[0] * 0.9)\n",
        "# The validation is being taken by keras - below\n",
        "# test = remaining\n",
        "\n",
        "indices = np.arange(Xpad.shape[0])\n",
        "np.random.shuffle(indices) # FOR TESTING PURPOSES comment it out - to keep indices as above\n",
        "\n",
        "Xpad = Xpad[indices]\n",
        "labels = labels[indices]\n",
        "\n",
        "x_train = Xpad[:training_samples]\n",
        "y_train = labels[:training_samples]\n",
        "x_test = Xpad[training_samples: ]\n",
        "y_test = labels[training_samples: ]\n",
        "\n",
        "print('x_train', x_train.shape)\n",
        "print('y_train', y_train.shape)\n",
        "print('x_test', x_test.shape)\n",
        "print('y_test', y_test.shape)"
      ],
      "execution_count": 23,
      "outputs": [
        {
          "output_type": "stream",
          "text": [
            "x_train (90000, 53)\n",
            "y_train (90000,)\n",
            "x_test (10000, 53)\n",
            "y_test (10000,)\n"
          ],
          "name": "stdout"
        }
      ]
    },
    {
      "cell_type": "code",
      "metadata": {
        "id": "7ZB7d-yyAHjE",
        "colab_type": "code",
        "outputId": "ea4435a5-f94d-41eb-fa44-8a0d6e62fbe8",
        "colab": {
          "base_uri": "https://localhost:8080/",
          "height": 434
        }
      },
      "source": [
        "# Model ... 64 CNN window 27 & Bidirectional GRU accuracy = 0.99\n",
        "\n",
        "model = Sequential()\n",
        "model.add(Embedding(64, 1, input_length=maxlen))\n",
        "model.add(layers.Conv1D(128, 27, activation='relu'))\n",
        "model.add(layers.MaxPooling1D(3))\n",
        "model.add(layers.Dropout(0.5))\n",
        "model.add(layers.Conv1D(128, 9, activation='relu'))\n",
        "model.add(layers.Dropout(0.5))\n",
        "model.add(layers.Bidirectional(layers.GRU(32, dropout=0.2, recurrent_dropout=0.2)))\n",
        "model.add(Dense(1, activation='sigmoid'))\n",
        "model.compile(optimizer='adam', loss='binary_crossentropy', metrics=['acc'])\n",
        "model.summary()"
      ],
      "execution_count": 24,
      "outputs": [
        {
          "output_type": "stream",
          "text": [
            "Model: \"sequential_2\"\n",
            "_________________________________________________________________\n",
            "Layer (type)                 Output Shape              Param #   \n",
            "=================================================================\n",
            "embedding_2 (Embedding)      (None, 53, 1)             64        \n",
            "_________________________________________________________________\n",
            "conv1d_3 (Conv1D)            (None, 27, 128)           3584      \n",
            "_________________________________________________________________\n",
            "max_pooling1d_2 (MaxPooling1 (None, 9, 128)            0         \n",
            "_________________________________________________________________\n",
            "dropout_3 (Dropout)          (None, 9, 128)            0         \n",
            "_________________________________________________________________\n",
            "conv1d_4 (Conv1D)            (None, 1, 128)            147584    \n",
            "_________________________________________________________________\n",
            "dropout_4 (Dropout)          (None, 1, 128)            0         \n",
            "_________________________________________________________________\n",
            "bidirectional_2 (Bidirection (None, 64)                30912     \n",
            "_________________________________________________________________\n",
            "dense_2 (Dense)              (None, 1)                 65        \n",
            "=================================================================\n",
            "Total params: 182,209\n",
            "Trainable params: 182,209\n",
            "Non-trainable params: 0\n",
            "_________________________________________________________________\n"
          ],
          "name": "stdout"
        }
      ]
    },
    {
      "cell_type": "code",
      "metadata": {
        "id": "nLNAUV5gAJjM",
        "colab_type": "code",
        "outputId": "e2c509a7-1e92-4e3d-e2a0-4f5c48adcb27",
        "colab": {
          "base_uri": "https://localhost:8080/",
          "height": 434
        }
      },
      "source": [
        "# Train / Validate model\n",
        "start_time = time.time()\n",
        "history = model.fit(x_train, y_train,\n",
        "epochs = 10,\n",
        "batch_size=32,\n",
        "validation_split=0.2)\n",
        "nn2_runtime = time.time() - start_time\n",
        "print(\"Runtime: %s seconds\" % nn2_runtime)"
      ],
      "execution_count": 25,
      "outputs": [
        {
          "output_type": "stream",
          "text": [
            "/usr/local/lib/python3.6/dist-packages/tensorflow/python/framework/indexed_slices.py:434: UserWarning: Converting sparse IndexedSlices to a dense Tensor of unknown shape. This may consume a large amount of memory.\n",
            "  \"Converting sparse IndexedSlices to a dense Tensor of unknown shape. \"\n"
          ],
          "name": "stderr"
        },
        {
          "output_type": "stream",
          "text": [
            "Train on 72000 samples, validate on 18000 samples\n",
            "Epoch 1/10\n",
            "72000/72000 [==============================] - 51s 702us/step - loss: 0.1728 - acc: 0.9137 - val_loss: 0.0733 - val_acc: 0.9683\n",
            "Epoch 2/10\n",
            "72000/72000 [==============================] - 49s 687us/step - loss: 0.0796 - acc: 0.9711 - val_loss: 0.0598 - val_acc: 0.9768\n",
            "Epoch 3/10\n",
            "72000/72000 [==============================] - 51s 703us/step - loss: 0.0637 - acc: 0.9788 - val_loss: 0.0507 - val_acc: 0.9854\n",
            "Epoch 4/10\n",
            "72000/72000 [==============================] - 49s 679us/step - loss: 0.0591 - acc: 0.9806 - val_loss: 0.0651 - val_acc: 0.9791\n",
            "Epoch 5/10\n",
            "72000/72000 [==============================] - 49s 678us/step - loss: 0.0532 - acc: 0.9833 - val_loss: 0.0443 - val_acc: 0.9863\n",
            "Epoch 6/10\n",
            "72000/72000 [==============================] - 49s 685us/step - loss: 0.0499 - acc: 0.9841 - val_loss: 0.0419 - val_acc: 0.9864\n",
            "Epoch 7/10\n",
            "72000/72000 [==============================] - 49s 677us/step - loss: 0.0461 - acc: 0.9857 - val_loss: 0.0408 - val_acc: 0.9876\n",
            "Epoch 8/10\n",
            "72000/72000 [==============================] - 50s 696us/step - loss: 0.0443 - acc: 0.9861 - val_loss: 0.0388 - val_acc: 0.9879\n",
            "Epoch 9/10\n",
            "72000/72000 [==============================] - 51s 703us/step - loss: 0.0433 - acc: 0.9864 - val_loss: 0.0380 - val_acc: 0.9879\n",
            "Epoch 10/10\n",
            "72000/72000 [==============================] - 50s 692us/step - loss: 0.0413 - acc: 0.9870 - val_loss: 0.0389 - val_acc: 0.9878\n",
            "Runtime: 499.0371022224426 seconds\n"
          ],
          "name": "stdout"
        }
      ]
    },
    {
      "cell_type": "code",
      "metadata": {
        "id": "YXvuqfzBALPA",
        "colab_type": "code",
        "outputId": "ea2af2c5-4e64-412b-9f96-ec9ee01de595",
        "colab": {
          "base_uri": "https://localhost:8080/",
          "height": 573
        }
      },
      "source": [
        "# Learning curves\n",
        "\n",
        "# VALIDATION LOSS curves\n",
        "\n",
        "plt.clf()\n",
        "history_dict = history.history\n",
        "loss_values = history_dict['loss']\n",
        "val_loss_values = history_dict['val_loss']\n",
        "epochs = range(1, (len(history_dict['loss']) + 1))\n",
        "plt.plot(epochs, loss_values, 'bo', label='Training loss')\n",
        "plt.plot(epochs, val_loss_values, 'r', label='Validation loss')\n",
        "plt.title('Training and validation loss')\n",
        "plt.xlabel('Epochs')\n",
        "plt.ylabel('Loss')\n",
        "plt.legend()\n",
        "plt.show()\n",
        "\n",
        "# VALIDATION ACCURACY curves\n",
        "\n",
        "plt.clf()\n",
        "acc_values = history_dict['acc']\n",
        "val_acc_values = history_dict['val_acc']\n",
        "epochs = range(1, (len(history_dict['acc']) + 1))\n",
        "plt.plot(epochs, acc_values, 'bo', label='Training acc')\n",
        "plt.plot(epochs, val_acc_values, 'r', label='Validation acc')\n",
        "plt.title('Training and validation accuracy')\n",
        "plt.xlabel('Epochs')\n",
        "plt.ylabel('Accuracy')\n",
        "plt.legend()\n",
        "plt.show()"
      ],
      "execution_count": 26,
      "outputs": [
        {
          "output_type": "display_data",
          "data": {
            "image/png": "[encoded data removed]",
            "text/plain": [
              "<Figure size 432x288 with 1 Axes>"
            ]
          },
          "metadata": {
            "tags": [],
            "needs_background": "light"
          }
        },
        {
          "output_type": "display_data",
          "data": {
            "image/png": "[encoded data removed]",
            "text/plain": [
              "<Figure size 432x288 with 1 Axes>"
            ]
          },
          "metadata": {
            "tags": [],
            "needs_background": "light"
          }
        }
      ]
    },
    {
      "cell_type": "code",
      "metadata": {
        "id": "x3HBlaIPAPNs",
        "colab_type": "code",
        "outputId": "09ce3f22-9023-4eb5-806a-0751212c98f7",
        "colab": {
          "base_uri": "https://localhost:8080/",
          "height": 278
        }
      },
      "source": [
        "# Final Predict on test\n",
        "\n",
        "final_predictions = model.predict(x_test)\n",
        "print(final_predictions)\n",
        "\n",
        "# Modify the raw final_predictions - prediction probs  - into 0 and 1\n",
        "# Cutoff point = 0.5\n",
        "\n",
        "Preds = final_predictions.copy()\n",
        "print(len(Preds))\n",
        "\n",
        "Preds[ np.where( Preds >= 0.5 ) ] = 1\n",
        "Preds[ np.where( Preds < 0.5 ) ] = 0\n",
        "print(Preds)"
      ],
      "execution_count": 27,
      "outputs": [
        {
          "output_type": "stream",
          "text": [
            "[[1.21653795e-01]\n",
            " [9.99998331e-01]\n",
            " [9.99998569e-01]\n",
            " ...\n",
            " [4.13073940e-05]\n",
            " [9.93215501e-01]\n",
            " [2.18914174e-05]]\n",
            "10000\n",
            "[[0.]\n",
            " [1.]\n",
            " [1.]\n",
            " ...\n",
            " [0.]\n",
            " [1.]\n",
            " [0.]]\n"
          ],
          "name": "stdout"
        }
      ]
    },
    {
      "cell_type": "code",
      "metadata": {
        "id": "R-rzdZXYAU1E",
        "colab_type": "code",
        "outputId": "b76b4163-5692-4230-a86e-76a34e065f1f",
        "colab": {
          "base_uri": "https://localhost:8080/",
          "height": 104
        }
      },
      "source": [
        "# Confusion matrix\n",
        "\n",
        "conf_mx = confusion_matrix(y_test, Preds)\n",
        "\n",
        "TN = conf_mx[0,0]\n",
        "FP = conf_mx[0,1]\n",
        "FN = conf_mx[1,0]\n",
        "TP = conf_mx[1,1]\n",
        "\n",
        "print ('TN: ', TN)\n",
        "print ('FP: ', FP)\n",
        "print ('FN: ', FN)\n",
        "print ('TP: ', TP)\n",
        "\n",
        "recall = TP/(TP+FN)\n",
        "precision = TP/(TP+FP)\n",
        "\n",
        "print (recall, precision)"
      ],
      "execution_count": 28,
      "outputs": [
        {
          "output_type": "stream",
          "text": [
            "TN:  5020\n",
            "FP:  4\n",
            "FN:  107\n",
            "TP:  4869\n",
            "0.9784967845659164 0.9991791504206854\n"
          ],
          "name": "stdout"
        }
      ]
    },
    {
      "cell_type": "code",
      "metadata": {
        "id": "rtVwezQsAXAI",
        "colab_type": "code",
        "outputId": "51e99849-68c7-4ebb-dc1c-e453087a33f3",
        "colab": {
          "base_uri": "https://localhost:8080/",
          "height": 467
        }
      },
      "source": [
        "plot_confusion_matrix(conf_mx, \n",
        "                      normalize    = False,\n",
        "                      target_names = ['resistant', 'sensistive'],\n",
        "                      title        = \"Confusion Matrix \")"
      ],
      "execution_count": 29,
      "outputs": [
        {
          "output_type": "display_data",
          "data": {
            "image/png": "[encoded data removed]",
            "text/plain": [
              "<Figure size 576x432 with 2 Axes>"
            ]
          },
          "metadata": {
            "tags": [],
            "needs_background": "light"
          }
        }
      ]
    },
    {
      "cell_type": "code",
      "metadata": {
        "id": "cPubDQF3AZLM",
        "colab_type": "code",
        "outputId": "7d17a23d-80c0-484a-ceda-62525ebcb6af",
        "colab": {
          "base_uri": "https://localhost:8080/",
          "height": 298
        }
      },
      "source": [
        "# AUC/ROC curves should be used when there are roughly equal numbers of observations for each class\n",
        "# Precision-Recall curves should be used when there is a moderate to large class imbalance\n",
        "\n",
        "# calculate AUC\n",
        "auc = roc_auc_score(y_test, Preds)\n",
        "print('AUC: %.3f' % auc)\n",
        "# calculate roc curve\n",
        "fpr, tpr, thresholds = roc_curve(y_test, Preds)\n",
        "plt.plot([0, 1], [0, 1], linestyle='--')\n",
        "# plot the roc curve for the model\n",
        "plt.plot(fpr, tpr, marker='.')\n",
        "plt.title('ROC ')\n",
        "plt.show()"
      ],
      "execution_count": 30,
      "outputs": [
        {
          "output_type": "stream",
          "text": [
            "AUC: 0.989\n"
          ],
          "name": "stdout"
        },
        {
          "output_type": "display_data",
          "data": {
            "image/png": "[encoded data removed]",
            "text/plain": [
              "<Figure size 432x288 with 1 Axes>"
            ]
          },
          "metadata": {
            "tags": [],
            "needs_background": "light"
          }
        }
      ]
    },
    {
      "cell_type": "code",
      "metadata": {
        "id": "yUHcOHrRAaz4",
        "colab_type": "code",
        "outputId": "3934c2a2-b579-41d5-a01f-31463ee2620e",
        "colab": {
          "base_uri": "https://localhost:8080/",
          "height": 282
        }
      },
      "source": [
        "# calculate precision-recall curve\n",
        "precision, recall, thresholds = precision_recall_curve(y_test, Preds)\n",
        "# calculate F1 score\n",
        "f1 = f1_score(y_test, Preds)\n",
        "# calculate average precision score\n",
        "ap = average_precision_score(y_test, Preds)\n",
        "print('f1=%.3f ap=%.3f' % (f1, ap))\n",
        "plt.plot([0, 1], [0.5, 0.5], linestyle='--')\n",
        "# plot the roc curve for the model\n",
        "plt.plot(recall, precision, marker='.')\n",
        "plt.show()"
      ],
      "execution_count": 31,
      "outputs": [
        {
          "output_type": "stream",
          "text": [
            "f1=0.989 ap=0.988\n"
          ],
          "name": "stdout"
        },
        {
          "output_type": "display_data",
          "data": {
            "image/png": "[encoded data removed]",
            "text/plain": [
              "<Figure size 432x288 with 1 Axes>"
            ]
          },
          "metadata": {
            "tags": [],
            "needs_background": "light"
          }
        }
      ]
    },
    {
      "cell_type": "markdown",
      "metadata": {
        "id": "hSf8Nd-jd7Ao",
        "colab_type": "text"
      },
      "source": [
        "## Random Forest Classifier\n",
        "\n",
        "This random forest classifier creates 100 decision trees during the training phase. The final model is the most commmon of the classes\n"
      ]
    },
    {
      "cell_type": "code",
      "metadata": {
        "id": "CwOMllYCd99s",
        "colab_type": "code",
        "outputId": "a52655ef-db14-4e40-d0f3-3a64690a175d",
        "colab": {
          "base_uri": "https://localhost:8080/",
          "height": 347
        }
      },
      "source": [
        "rf = RandomForestClassifier(n_estimators=100, criterion='entropy', verbose=1)\n",
        "rf.get_params()\n"
      ],
      "execution_count": 32,
      "outputs": [
        {
          "output_type": "execute_result",
          "data": {
            "text/plain": [
              "{'bootstrap': True,\n",
              " 'ccp_alpha': 0.0,\n",
              " 'class_weight': None,\n",
              " 'criterion': 'entropy',\n",
              " 'max_depth': None,\n",
              " 'max_features': 'auto',\n",
              " 'max_leaf_nodes': None,\n",
              " 'max_samples': None,\n",
              " 'min_impurity_decrease': 0.0,\n",
              " 'min_impurity_split': None,\n",
              " 'min_samples_leaf': 1,\n",
              " 'min_samples_split': 2,\n",
              " 'min_weight_fraction_leaf': 0.0,\n",
              " 'n_estimators': 100,\n",
              " 'n_jobs': None,\n",
              " 'oob_score': False,\n",
              " 'random_state': None,\n",
              " 'verbose': 1,\n",
              " 'warm_start': False}"
            ]
          },
          "metadata": {
            "tags": []
          },
          "execution_count": 32
        }
      ]
    },
    {
      "cell_type": "code",
      "metadata": {
        "id": "wV85PeAW_roU",
        "colab_type": "code",
        "outputId": "bc01bfb7-37af-452a-a474-ac9320d22a2b",
        "colab": {
          "base_uri": "https://localhost:8080/",
          "height": 69
        }
      },
      "source": [
        "start_time = time.time()\n",
        "rf = rf.fit(x_train, y_train)\n",
        "rf_runtime = time.time() - start_time\n",
        "print(\"Runtime: %s seconds\" % rf_runtime)"
      ],
      "execution_count": 33,
      "outputs": [
        {
          "output_type": "stream",
          "text": [
            "[Parallel(n_jobs=1)]: Using backend SequentialBackend with 1 concurrent workers.\n"
          ],
          "name": "stderr"
        },
        {
          "output_type": "stream",
          "text": [
            "Runtime: 9.421921014785767 seconds\n"
          ],
          "name": "stdout"
        },
        {
          "output_type": "stream",
          "text": [
            "[Parallel(n_jobs=1)]: Done 100 out of 100 | elapsed:    9.4s finished\n"
          ],
          "name": "stderr"
        }
      ]
    },
    {
      "cell_type": "code",
      "metadata": {
        "id": "KHbaBnzgfL2E",
        "colab_type": "code",
        "outputId": "c4a6f365-6540-4e10-dba0-6e1a4cae02b2",
        "colab": {
          "base_uri": "https://localhost:8080/",
          "height": 69
        }
      },
      "source": [
        "rf_Preds = rf.predict(x_test)\n",
        "print(\"Test accuracy score: \", accuracy_score(y_test, rf_Preds))\n"
      ],
      "execution_count": 34,
      "outputs": [
        {
          "output_type": "stream",
          "text": [
            "Test accuracy score:  0.9892\n"
          ],
          "name": "stdout"
        },
        {
          "output_type": "stream",
          "text": [
            "[Parallel(n_jobs=1)]: Using backend SequentialBackend with 1 concurrent workers.\n",
            "[Parallel(n_jobs=1)]: Done 100 out of 100 | elapsed:    0.1s finished\n"
          ],
          "name": "stderr"
        }
      ]
    },
    {
      "cell_type": "code",
      "metadata": {
        "id": "3eKikW4mibUM",
        "colab_type": "code",
        "outputId": "e11e1d89-0eaf-4ffd-f6d7-1407215f276e",
        "colab": {
          "base_uri": "https://localhost:8080/",
          "height": 104
        }
      },
      "source": [
        "# Confusion matrix\n",
        "\n",
        "rf_conf_mx = confusion_matrix(y_test, rf_Preds)\n",
        "\n",
        "TN = conf_mx[0,0]\n",
        "FP = conf_mx[0,1]\n",
        "FN = conf_mx[1,0]\n",
        "TP = conf_mx[1,1]\n",
        "\n",
        "print ('TN: ', TN)\n",
        "print ('FP: ', FP)\n",
        "print ('FN: ', FN)\n",
        "print ('TP: ', TP)\n",
        "\n",
        "recall = TP/(TP+FN)\n",
        "precision = TP/(TP+FP)\n",
        "\n",
        "print (recall, precision)"
      ],
      "execution_count": 35,
      "outputs": [
        {
          "output_type": "stream",
          "text": [
            "TN:  5020\n",
            "FP:  4\n",
            "FN:  107\n",
            "TP:  4869\n",
            "0.9784967845659164 0.9991791504206854\n"
          ],
          "name": "stdout"
        }
      ]
    },
    {
      "cell_type": "code",
      "metadata": {
        "id": "V6gDDlceil74",
        "colab_type": "code",
        "outputId": "83da84df-ab0a-4f92-9200-eb68cfefabf3",
        "colab": {
          "base_uri": "https://localhost:8080/",
          "height": 467
        }
      },
      "source": [
        "plot_confusion_matrix(rf_conf_mx, \n",
        "                      normalize    = False,\n",
        "                      target_names = ['resistant', 'sensistive'],\n",
        "                      title        = \"Confusion Matrix \")"
      ],
      "execution_count": 36,
      "outputs": [
        {
          "output_type": "display_data",
          "data": {
            "image/png": "[encoded data removed]",
            "text/plain": [
              "<Figure size 576x432 with 2 Axes>"
            ]
          },
          "metadata": {
            "tags": [],
            "needs_background": "light"
          }
        }
      ]
    },
    {
      "cell_type": "code",
      "metadata": {
        "id": "s91e8fq8jFdE",
        "colab_type": "code",
        "outputId": "461dac8f-d0cd-4ed7-edd0-8c110037d8c6",
        "colab": {
          "base_uri": "https://localhost:8080/",
          "height": 298
        }
      },
      "source": [
        "# AUC/ROC curves should be used when there are roughly equal numbers of observations for each class\n",
        "# Precision-Recall curves should be used when there is a moderate to large class imbalance\n",
        "\n",
        "# calculate AUC\n",
        "auc = roc_auc_score(y_test, rf_Preds)\n",
        "print('AUC: %.3f' % auc)\n",
        "# calculate roc curve\n",
        "fpr, tpr, thresholds = roc_curve(y_test, rf_Preds)\n",
        "plt.plot([0, 1], [0, 1], linestyle='--')\n",
        "# plot the roc curve for the model\n",
        "plt.plot(fpr, tpr, marker='.')\n",
        "plt.title('ROC ')\n",
        "plt.show()"
      ],
      "execution_count": 37,
      "outputs": [
        {
          "output_type": "stream",
          "text": [
            "AUC: 0.989\n"
          ],
          "name": "stdout"
        },
        {
          "output_type": "display_data",
          "data": {
            "image/png": "[encoded data removed]",
            "text/plain": [
              "<Figure size 432x288 with 1 Axes>"
            ]
          },
          "metadata": {
            "tags": [],
            "needs_background": "light"
          }
        }
      ]
    },
    {
      "cell_type": "code",
      "metadata": {
        "id": "_vQVgW1wjPg0",
        "colab_type": "code",
        "outputId": "f3e73420-8823-4629-faeb-40d7d190af91",
        "colab": {
          "base_uri": "https://localhost:8080/",
          "height": 282
        }
      },
      "source": [
        "# calculate precision-recall curve\n",
        "precision, recall, thresholds = precision_recall_curve(y_test, rf_Preds)\n",
        "# calculate F1 score\n",
        "f1 = f1_score(y_test, rf_Preds)\n",
        "# calculate average precision score\n",
        "ap = average_precision_score(y_test, rf_Preds)\n",
        "print('f1=%.3f ap=%.3f' % (f1, ap))\n",
        "plt.plot([0, 1], [0.5, 0.5], linestyle='--')\n",
        "# plot the roc curve for the model\n",
        "plt.plot(recall, precision, marker='.')\n",
        "plt.show()"
      ],
      "execution_count": 38,
      "outputs": [
        {
          "output_type": "stream",
          "text": [
            "f1=0.989 ap=0.989\n"
          ],
          "name": "stdout"
        },
        {
          "output_type": "display_data",
          "data": {
            "image/png": "[encoded data removed]",
            "text/plain": [
              "<Figure size 432x288 with 1 Axes>"
            ]
          },
          "metadata": {
            "tags": [],
            "needs_background": "light"
          }
        }
      ]
    },
    {
      "cell_type": "code",
      "metadata": {
        "id": "Db2O-zTyknuk",
        "colab_type": "code",
        "outputId": "1c8fa61c-7a47-45a6-e4eb-01be1c1f1fee",
        "colab": {
          "base_uri": "https://localhost:8080/",
          "height": 173
        }
      },
      "source": [
        "from sklearn.linear_model import LogisticRegression \n",
        "reg = LogisticRegression(max_iter=1000).fit(x_train, y_train)\n",
        "reg.score(x_train, y_train)\n",
        "accuracy_score(y_test, reg.predict(x_test))\n"
      ],
      "execution_count": 39,
      "outputs": [
        {
          "output_type": "stream",
          "text": [
            "/usr/local/lib/python3.6/dist-packages/sklearn/linear_model/_logistic.py:940: ConvergenceWarning: lbfgs failed to converge (status=1):\n",
            "STOP: TOTAL NO. of ITERATIONS REACHED LIMIT.\n",
            "\n",
            "Increase the number of iterations (max_iter) or scale the data as shown in:\n",
            "    https://scikit-learn.org/stable/modules/preprocessing.html\n",
            "Please also refer to the documentation for alternative solver options:\n",
            "    https://scikit-learn.org/stable/modules/linear_model.html#logistic-regression\n",
            "  extra_warning_msg=_LOGISTIC_SOLVER_CONVERGENCE_MSG)\n"
          ],
          "name": "stderr"
        },
        {
          "output_type": "execute_result",
          "data": {
            "text/plain": [
              "0.9144"
            ]
          },
          "metadata": {
            "tags": []
          },
          "execution_count": 39
        }
      ]
    },
    {
      "cell_type": "code",
      "metadata": {
        "id": "4HQEePMqmRJc",
        "colab_type": "code",
        "colab": {}
      },
      "source": [
        ""
      ],
      "execution_count": 0,
      "outputs": []
    },
    {
      "cell_type": "markdown",
      "metadata": {
        "id": "tKqj0q81ylW8",
        "colab_type": "text"
      },
      "source": [
        "## Results\n",
        "\n",
        "The codon based model had much better success than the raw nucleotide based model and had no false positives. \n",
        "\n",
        "The neural network and the random forest performed quite similarly on the codon dataset, with the random forest getting more false posititves than the neural network, which is clinically not so bad a problem.\n"
      ]
    },
    {
      "cell_type": "markdown",
      "metadata": {
        "id": "Kyu3J73h9LkQ",
        "colab_type": "text"
      },
      "source": [
        "### Runtimes\n"
      ]
    },
    {
      "cell_type": "code",
      "metadata": {
        "id": "VFGU-a4c0q8A",
        "colab_type": "code",
        "colab": {
          "base_uri": "https://localhost:8080/",
          "height": 69
        },
        "outputId": "74af6634-c47a-4703-e923-6eea9bfb305e"
      },
      "source": [
        "print(\"Nucleotide neural network: {0} seconds or {1} minutes\".format(nn1_runtime, nn1_runtime/60))\n",
        "print(\"Codon neural network:  {0} seconds or {1} minutes\".format(nn2_runtime, nn2_runtime/60))\n",
        "print(\"Codon random forest:  {0} seconds or {1} minutes\".format(rf_runtime, rf_runtime/60))"
      ],
      "execution_count": 45,
      "outputs": [
        {
          "output_type": "stream",
          "text": [
            "Nucleotide neural network: 949.6002597808838 seconds or 15.826670996348064 minutes\n",
            "Codon neural network:  499.0371022224426 seconds or 8.31728503704071 minutes\n",
            "Codon random forest:  9.421921014785767 seconds or 0.15703201691309612 minutes\n"
          ],
          "name": "stdout"
        }
      ]
    },
    {
      "cell_type": "markdown",
      "metadata": {
        "id": "OvqL_wx_9Ntw",
        "colab_type": "text"
      },
      "source": [
        "The training runtimes of the models were not correlated with their quality. The nucleotide neural network took the longest time to run, but was the poorest model while the random forest toook less than 10 seconds and was almost as good as the codon trained neural network."
      ]
    },
    {
      "cell_type": "markdown",
      "metadata": {
        "id": "39Z3ytOKym2Q",
        "colab_type": "text"
      },
      "source": [
        "## Implications\n",
        "\n",
        "The ability to predict antibiotic resistance from genomic data will be an asset to fighting infections and antibiotic resistant bacteria. \n",
        "\n",
        "This dataset was a synthetic one and may have been easy to work with compared to a full bacterial genome. A full genome will be harder to analyze and predict resistance with and the chances of false negatives will be higher as new mutations arise that confer bacteria with novel resistance mechanisms. \n",
        "\n",
        "Using a random forest could allow for quick preliminary analyses that are quite robust and can be used to guide the making of better neural network models that take a lot longer to train."
      ]
    },
    {
      "cell_type": "markdown",
      "metadata": {
        "id": "G1M_Hy6gyt7Y",
        "colab_type": "text"
      },
      "source": [
        "## Citations\n",
        "Scarlat, Alexander, Predict antibiotic resistance w gene sequence, Kaggle. https://www.kaggle.com/drscarlat/predict-antibiotic-resistance-w-gene-sequence/data\n",
        "\n",
        "Su, M., Satola, S. W., & Read, T. D. (2019). Genome-Based Prediction of Bacterial Antibiotic Resistance. Journal of clinical microbiology, 57(3), e01405-18. https://doi.org/10.1128/JCM.01405-18"
      ]
    }
  ]
}