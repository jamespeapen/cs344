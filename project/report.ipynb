{
 "cells": [
  {
   "cell_type": "markdown",
   "metadata": {
    "colab_type": "text",
    "id": "hZJ61z9ZyEi8"
   },
   "source": [
    "# Predicting Antibiotic Resistance Using Genetic Sequences\n",
    "James Eapen\n",
    "\n",
    "\n",
    "Last update: 2020 May 21"
   ]
  },
  {
   "cell_type": "markdown",
   "metadata": {
    "colab_type": "text",
    "id": "mstwU3QfyGTc"
   },
   "source": [
    "## Vision\n",
    "This project compares the effectiveness of different AI models at predicting whether a genetic sequence contains a gene that confers antibiotic resistance. The dataset is a collection of artificial genetic sequences labelled by whether or not it has a resistance gene. \n",
    "\n",
    "The model is based on an example by Scarlat of a binary classifier trained with convolutional and recurrent networks. Antibiotic resistance prediction is a growing field with active research and based on a review of machine learning methods, I will be adding a model with just a convolutional neural network, a random forest model, and a linear regression.\n",
    "\n",
    "The goal of this project is to compare the different models and see what models perform the best. After initial runs of the neural networks and the random forest, I decided to compare runtimes as well since the random forest takes significantly less time to train than the neural networks. Understanding how models perform on genetic data is important for creating clinical models for antibiotic selection.\n",
    "\n",
    "\n"
   ]
  },
  {
   "cell_type": "markdown",
   "metadata": {
    "colab_type": "text",
    "id": "xo0JIwYzybbA"
   },
   "source": [
    "## Background\n",
    "\n",
    "#### Antibiotic Resistance\n",
    "Antibiotic resistance is a naturally occurring phenomenon that has been made worse by the human abuse of antibiotics. Antibiotics are compounds that interfere with bacterial metabolism and prevent normal functioning. They cure infections by killing the bacteria or by preventing its reproduction in the host. Every antibiotic has a mode of action that depends on it getting into and staying inside the bacterium and on structures within it that can be used to disrupt normal function. \n",
    "\n",
    "However, if a bacterium acquires a gene that changes a structure that the antibiotic disrupts, the antibiotic is no longer able to work. The gene could also work by coding for a pump that actively pumps the antibiotic if it enters the bacterium. A bacterium that has such a gene is said to be resistant to that antibiotic. If there are many such genes that render different antibiotics ineffective, the bacterium is a multi-drug resistant bacterium.\n",
    "\n",
    "Studies of genomes have revealed the sequences that confer resistance and there are databases of known antibiotic resistance genes. Predicting whether a bacterium is resistant to an antibiotic from these sequences can help direct patients to the right antibiotic.\n",
    "\n",
    "The features are artificial genomic sequences, made of four letter nucleotides A, C, G, and T. Groups of three nucleotides are called codons and each codon codes for a unit of a protein. The order in which they occur is important as it determines the structure and function of the protein it encodes. If there is a change in the order of nucleotides, it changes the codons which changes the protein produced by that gene. Sometimes this change results in a protein that protects the bacterium. This gene can be passed to others through reproduction and through transfer. \n",
    "\n",
    "#### New techonologies used in this project\n",
    "\n",
    "A review by Su et al. examined the performance of a number of machine learning models on different antibiotics and bacteria. Random forests and logistic regressions were common models among the studies they reviewed.\n",
    "\n",
    "Random forests work by creating a large number of decision trees based on information theory. The trees have little correlation between them and the learning process picks the trees with the best predictions allowing the trees to correct errors between them.\n",
    "\n",
    "I will be using Keras for the neural networks, Numpy, and pandas for data manipulation and matplotlib for plotting accuracy scores. The random forest and logistic regression models will be implemented with the Scikit-learn package."
   ]
  },
  {
   "cell_type": "markdown",
   "metadata": {
    "colab_type": "text",
    "id": "5rG_Gs9CyGhg"
   },
   "source": [
    "## Implementation\n",
    "\n",
    "This implementation is based on the implementation by Scarlat on Kaggle that uses convolutional and bi-directional Gated Recurrent Unit networks. Both neural networks use two convolutional layers and one bi-directional GRU layer.  The first one tokenizes the genetic sequences into the raw nucleotides, A, C, G, and T. The second approach takes them in groups of three called codons that represent a unit of the protein the sequence codes for. \n",
    "\n",
    "I extended Scarlat's work by adding a random forest and a logistic regression and comparing the performances and runtimes of the four models. Since the codon approach was more successful than the raw nucleotide approach, I decided to build my models using the codon data.\n",
    "\n",
    "This implementation section contains the model training and data collection. The collected data is presented in the results section where the predictions and the models' effectiveness is discussed."
   ]
  },
  {
   "cell_type": "code",
   "execution_count": 0,
   "metadata": {
    "colab": {},
    "colab_type": "code",
    "id": "jS17UN0X9V4w"
   },
   "outputs": [],
   "source": [
    "# IMPORT MODULES\n",
    "\n",
    "import os\n",
    "import keras\n",
    "import numpy as np  \n",
    "import pandas as pd \n",
    "import matplotlib.pyplot as plt\n",
    "import time\n",
    "%matplotlib inline\n",
    "\n",
    "from keras.models import Sequential\n",
    "from keras.layers import Flatten, Dense, Dropout, Embedding, LSTM\n",
    "from keras import regularizers, layers, preprocessing\n",
    "from sklearn.metrics import confusion_matrix, precision_score, recall_score, accuracy_score, f1_score\n",
    "from sklearn.metrics import roc_auc_score, roc_curve, precision_recall_curve, average_precision_score\n",
    "from sklearn.ensemble import RandomForestClassifier\n",
    "from sklearn.linear_model import LogisticRegression\n",
    "\n",
    "from keras.preprocessing.text import Tokenizer\n",
    "from keras.preprocessing.sequence import pad_sequences\n",
    "\n",
    "import tensorflow as tf"
   ]
  },
  {
   "cell_type": "code",
   "execution_count": 53,
   "metadata": {
    "colab": {
     "base_uri": "https://localhost:8080/",
     "height": 211
    },
    "colab_type": "code",
    "id": "in7yCv52-36M",
    "outputId": "6e124fbd-a035-4f8c-c46a-df4ef27e1f0a"
   },
   "outputs": [
    {
     "name": "stdout",
     "output_type": "stream",
     "text": [
      "<class 'numpy.ndarray'>\n",
      "0\n"
     ]
    },
    {
     "data": {
      "text/plain": [
       "array({'resistant': array([False, False, False, ...,  True,  True, False]), 'genes': array(['ATGCACTACCGTATGATCCCCCTTCACTGGATGATGGAAATTGACTGCAATGGCTGCGCTAATAATACTTTGTCTCGTCGTTGGAATTACGACTTCTGGCACAAACACGTTGAACAGGTTAAATGCTACCGTCACAATATTCGTGACCAGACTTGA',\n",
       "       'ATGCACTACCGTATGATTCACTGGATGATGGAAATTGACTGCAATGGCTGCGCTAATAATACTTTGTCTCGTCGTTGGAATTACGACTTCTGGCACAAACCCGTTGAACAGGTTAAATGCTACCGTCACAATATTCGTGACCAGACTTGA',\n",
       "       'ATGCACTACCGTATGATTCACTGGATCGTGATGGAAATTGACTGCAATGGCTGCGCTAATAATACTTTGTCTCGTCGTTGGAATTACGACTTCTGGCACAAACACGTTGAACAGGTTAAATGCTACCGTCACAATATTCGTGACCAGACTTGA',\n",
       "       ...,\n",
       "       'ATGCACTACCGTATGATTCACTGGATGATGGAAACTGCAATGGCTGCGCTAATAATACTTTGTCTCGTCGTTGGAATTACGACTTCTGGCACAAACACGTTGAACAGGTTAAATGCTACCGTCACAATATTCGTGACCAGACTTGA',\n",
       "       'ATGCACTACCGTATGATTCACTGGATGATGGAAATTGACTTGCAATGGCTGCGCTAATAATACTTTGTCTCGTCGTTGGAATTACGACTTCTGGCACAAACACGTTGAACAGGTTAAATGCTACCGTCACAATATTCGTGACCAGACTTGA',\n",
       "       'ATGCACTACCGTATGATTCACTGGATGATGGAAATTGACTGCAATGGCTGCGCTAATAATACTTTGTCTCGTCGTTGGAATTACGACTTCTGGCACAAACACGTTGAACAGGTTAAATGCTACCGTCACAATATTCGTGACCAGACTTGA'],\n",
       "      dtype=object)}, dtype=object)"
      ]
     },
     "execution_count": 53,
     "metadata": {
      "tags": []
     },
     "output_type": "execute_result"
    }
   ],
   "source": [
    "# IMPORT MODULES\n",
    "# Load the dataset.npy\n",
    "\n",
    "DataRaw = np.load('drive/My Drive/Colab Notebooks/dataset.npy', allow_pickle=True)\n",
    "print(type(DataRaw))\n",
    "print(DataRaw.ndim)\n",
    "DataRaw"
   ]
  },
  {
   "cell_type": "code",
   "execution_count": 54,
   "metadata": {
    "colab": {
     "base_uri": "https://localhost:8080/",
     "height": 600
    },
    "colab_type": "code",
    "id": "twKUl5EB--Ws",
    "outputId": "8cabbcf7-1182-49c8-d004-52a733404419"
   },
   "outputs": [
    {
     "name": "stdout",
     "output_type": "stream",
     "text": [
      "{'resistant': array([False, False, False, ...,  True,  True, False]), 'genes': array(['ATGCACTACCGTATGATCCCCCTTCACTGGATGATGGAAATTGACTGCAATGGCTGCGCTAATAATACTTTGTCTCGTCGTTGGAATTACGACTTCTGGCACAAACACGTTGAACAGGTTAAATGCTACCGTCACAATATTCGTGACCAGACTTGA',\n",
      "       'ATGCACTACCGTATGATTCACTGGATGATGGAAATTGACTGCAATGGCTGCGCTAATAATACTTTGTCTCGTCGTTGGAATTACGACTTCTGGCACAAACCCGTTGAACAGGTTAAATGCTACCGTCACAATATTCGTGACCAGACTTGA',\n",
      "       'ATGCACTACCGTATGATTCACTGGATCGTGATGGAAATTGACTGCAATGGCTGCGCTAATAATACTTTGTCTCGTCGTTGGAATTACGACTTCTGGCACAAACACGTTGAACAGGTTAAATGCTACCGTCACAATATTCGTGACCAGACTTGA',\n",
      "       ...,\n",
      "       'ATGCACTACCGTATGATTCACTGGATGATGGAAACTGCAATGGCTGCGCTAATAATACTTTGTCTCGTCGTTGGAATTACGACTTCTGGCACAAACACGTTGAACAGGTTAAATGCTACCGTCACAATATTCGTGACCAGACTTGA',\n",
      "       'ATGCACTACCGTATGATTCACTGGATGATGGAAATTGACTTGCAATGGCTGCGCTAATAATACTTTGTCTCGTCGTTGGAATTACGACTTCTGGCACAAACACGTTGAACAGGTTAAATGCTACCGTCACAATATTCGTGACCAGACTTGA',\n",
      "       'ATGCACTACCGTATGATTCACTGGATGATGGAAATTGACTGCAATGGCTGCGCTAATAATACTTTGTCTCGTCGTTGGAATTACGACTTCTGGCACAAACACGTTGAACAGGTTAAATGCTACCGTCACAATATTCGTGACCAGACTTGA'],\n",
      "      dtype=object)}\n",
      "(100000, 2)\n"
     ]
    },
    {
     "data": {
      "text/html": [
       "<div>\n",
       "<style scoped>\n",
       "    .dataframe tbody tr th:only-of-type {\n",
       "        vertical-align: middle;\n",
       "    }\n",
       "\n",
       "    .dataframe tbody tr th {\n",
       "        vertical-align: top;\n",
       "    }\n",
       "\n",
       "    .dataframe thead th {\n",
       "        text-align: right;\n",
       "    }\n",
       "</style>\n",
       "<table border=\"1\" class=\"dataframe\">\n",
       "  <thead>\n",
       "    <tr style=\"text-align: right;\">\n",
       "      <th></th>\n",
       "      <th>resistant</th>\n",
       "      <th>genes</th>\n",
       "    </tr>\n",
       "  </thead>\n",
       "  <tbody>\n",
       "    <tr>\n",
       "      <th>0</th>\n",
       "      <td>False</td>\n",
       "      <td>ATGCACTACCGTATGATCCCCCTTCACTGGATGATGGAAATTGACT...</td>\n",
       "    </tr>\n",
       "    <tr>\n",
       "      <th>1</th>\n",
       "      <td>False</td>\n",
       "      <td>ATGCACTACCGTATGATTCACTGGATGATGGAAATTGACTGCAATG...</td>\n",
       "    </tr>\n",
       "    <tr>\n",
       "      <th>2</th>\n",
       "      <td>False</td>\n",
       "      <td>ATGCACTACCGTATGATTCACTGGATCGTGATGGAAATTGACTGCA...</td>\n",
       "    </tr>\n",
       "    <tr>\n",
       "      <th>3</th>\n",
       "      <td>False</td>\n",
       "      <td>ATGCACTACCGTATGATTCACTGGGTGATGGAAATTGACTGCAATG...</td>\n",
       "    </tr>\n",
       "    <tr>\n",
       "      <th>4</th>\n",
       "      <td>False</td>\n",
       "      <td>ATGCACGACCGTATCATTCACTGGATGATGGAAATTGACTGCAATG...</td>\n",
       "    </tr>\n",
       "    <tr>\n",
       "      <th>...</th>\n",
       "      <td>...</td>\n",
       "      <td>...</td>\n",
       "    </tr>\n",
       "    <tr>\n",
       "      <th>99995</th>\n",
       "      <td>False</td>\n",
       "      <td>ATGCACTACCGTATGATTCACTGGATGATGGAAACTCTCTTTGACT...</td>\n",
       "    </tr>\n",
       "    <tr>\n",
       "      <th>99996</th>\n",
       "      <td>False</td>\n",
       "      <td>ATGCACTACCGTATGATTCACTGGATGATGGAAATTGACTGCAATG...</td>\n",
       "    </tr>\n",
       "    <tr>\n",
       "      <th>99997</th>\n",
       "      <td>True</td>\n",
       "      <td>ATGCACTACCGTATGATTCACTGGATGATGGAAACTGCAATGGCTG...</td>\n",
       "    </tr>\n",
       "    <tr>\n",
       "      <th>99998</th>\n",
       "      <td>True</td>\n",
       "      <td>ATGCACTACCGTATGATTCACTGGATGATGGAAATTGACTTGCAAT...</td>\n",
       "    </tr>\n",
       "    <tr>\n",
       "      <th>99999</th>\n",
       "      <td>False</td>\n",
       "      <td>ATGCACTACCGTATGATTCACTGGATGATGGAAATTGACTGCAATG...</td>\n",
       "    </tr>\n",
       "  </tbody>\n",
       "</table>\n",
       "<p>100000 rows × 2 columns</p>\n",
       "</div>"
      ],
      "text/plain": [
       "       resistant                                              genes\n",
       "0          False  ATGCACTACCGTATGATCCCCCTTCACTGGATGATGGAAATTGACT...\n",
       "1          False  ATGCACTACCGTATGATTCACTGGATGATGGAAATTGACTGCAATG...\n",
       "2          False  ATGCACTACCGTATGATTCACTGGATCGTGATGGAAATTGACTGCA...\n",
       "3          False  ATGCACTACCGTATGATTCACTGGGTGATGGAAATTGACTGCAATG...\n",
       "4          False  ATGCACGACCGTATCATTCACTGGATGATGGAAATTGACTGCAATG...\n",
       "...          ...                                                ...\n",
       "99995      False  ATGCACTACCGTATGATTCACTGGATGATGGAAACTCTCTTTGACT...\n",
       "99996      False  ATGCACTACCGTATGATTCACTGGATGATGGAAATTGACTGCAATG...\n",
       "99997       True  ATGCACTACCGTATGATTCACTGGATGATGGAAACTGCAATGGCTG...\n",
       "99998       True  ATGCACTACCGTATGATTCACTGGATGATGGAAATTGACTTGCAAT...\n",
       "99999      False  ATGCACTACCGTATGATTCACTGGATGATGGAAATTGACTGCAATG...\n",
       "\n",
       "[100000 rows x 2 columns]"
      ]
     },
     "execution_count": 54,
     "metadata": {
      "tags": []
     },
     "output_type": "execute_result"
    }
   ],
   "source": [
    "# As a dictionary\n",
    "Datadict = DataRaw[()]\n",
    "print(Datadict)\n",
    "\n",
    "# As a dataframe\n",
    "DataDf = pd.DataFrame.from_dict(Datadict)\n",
    "print(DataDf.shape)\n",
    "DataDf"
   ]
  },
  {
   "cell_type": "code",
   "execution_count": 55,
   "metadata": {
    "colab": {
     "base_uri": "https://localhost:8080/",
     "height": 69
    },
    "colab_type": "code",
    "id": "btAS5arl_C-A",
    "outputId": "6f5f442b-f485-4c05-ba17-ea0acf26ac31"
   },
   "outputs": [
    {
     "data": {
      "text/plain": [
       "resistant      5\n",
       "genes        156\n",
       "dtype: int64"
      ]
     },
     "execution_count": 55,
     "metadata": {
      "tags": []
     },
     "output_type": "execute_result"
    }
   ],
   "source": [
    "# Mean  / Max / Min column width\n",
    "\n",
    "DataDf.fillna('').astype(str).apply(lambda x:x.str.len()).max()\n"
   ]
  },
  {
   "cell_type": "code",
   "execution_count": 98,
   "metadata": {
    "colab": {
     "base_uri": "https://localhost:8080/",
     "height": 295
    },
    "colab_type": "code",
    "id": "weSRG69wGfCQ",
    "outputId": "d058376f-7433-46a6-c78c-5c1b238b75af"
   },
   "outputs": [
    {
     "data": {
      "image/png": "[encoded data removed]",
      "text/plain": [
       "<Figure size 432x288 with 1 Axes>"
      ]
     },
     "metadata": {
      "needs_background": "light",
      "tags": []
     },
     "output_type": "display_data"
    }
   ],
   "source": [
    "# Is the data balanced ?\n",
    "\n",
    "DataDf.groupby('resistant').size().plot.bar()\n",
    "plt.show()"
   ]
  },
  {
   "cell_type": "markdown",
   "metadata": {},
   "source": [
    "Since the proportions of true and false labels are equal, there shouldn't be any bias from a imbalanced dataset."
   ]
  },
  {
   "cell_type": "code",
   "execution_count": 56,
   "metadata": {
    "colab": {
     "base_uri": "https://localhost:8080/",
     "height": 52
    },
    "colab_type": "code",
    "id": "EsiCHQsX_D_o",
    "outputId": "16ef3fc5-0b91-42ce-bfb2-22a3778ce4fe"
   },
   "outputs": [
    {
     "name": "stdout",
     "output_type": "stream",
     "text": [
      "Found 4 unique tokens.\n",
      "word_index {'a': 1, 't': 2, 'c': 3, 'g': 4}\n"
     ]
    }
   ],
   "source": [
    "# Tokenize from characters to integers (sequences and then pad / truncate data)\n",
    "\n",
    "Datatok = DataDf.copy()\n",
    "maxlen = 160 # cut off after this number of characters in a string\n",
    "\n",
    "max_words = 4 # considers only the top number of characters in the dictionary A C T G\n",
    "max_features = max_words\n",
    "\n",
    "tokenizer = Tokenizer(num_words=max_words, char_level=True)\n",
    "tokenizer.fit_on_texts(list(Datatok['genes']))\n",
    "sequences = tokenizer.texts_to_sequences(list(Datatok['genes']))\n",
    "word_index = tokenizer.word_index\n",
    "Xpad = pad_sequences(sequences, maxlen=maxlen, padding='post', truncating='post', value=0)\n",
    "\n",
    "print('Found %s unique tokens.' % len(word_index))\n",
    "print('word_index', word_index)"
   ]
  },
  {
   "cell_type": "code",
   "execution_count": 57,
   "metadata": {
    "colab": {
     "base_uri": "https://localhost:8080/",
     "height": 52
    },
    "colab_type": "code",
    "id": "mWtLOzLO_Hoc",
    "outputId": "f5a07d88-c7c8-486b-a982-5962ceba378f"
   },
   "outputs": [
    {
     "name": "stdout",
     "output_type": "stream",
     "text": [
      "(100000, 160)\n",
      "(100000,)\n"
     ]
    }
   ],
   "source": [
    "# Separate the label\n",
    "\n",
    "labels = np.asarray(Datatok['resistant'])\n",
    "print(Xpad.shape)\n",
    "print(labels.shape)"
   ]
  },
  {
   "cell_type": "code",
   "execution_count": 59,
   "metadata": {
    "colab": {
     "base_uri": "https://localhost:8080/",
     "height": 86
    },
    "colab_type": "code",
    "id": "E5yWclQW_PB4",
    "outputId": "b88e9089-a64f-4683-b1eb-123eb4128288"
   },
   "outputs": [
    {
     "name": "stdout",
     "output_type": "stream",
     "text": [
      "x_train (90000, 160)\n",
      "y_train (90000,)\n",
      "x_test (10000, 160)\n",
      "y_test (10000,)\n"
     ]
    }
   ],
   "source": [
    "# Create train & val and test datasets with inital shuffle (as the original dataset may be arranged)\n",
    "\n",
    "training_samples = int(Xpad.shape[0] * 0.9)\n",
    "\n",
    "indices = np.arange(Xpad.shape[0])\n",
    "np.random.shuffle(indices) \n",
    "\n",
    "Xpad = Xpad[indices]\n",
    "labels = labels[indices]\n",
    "\n",
    "x_train = Xpad[:training_samples]\n",
    "y_train = labels[:training_samples]\n",
    "x_test = Xpad[training_samples: ]\n",
    "y_test = labels[training_samples: ]\n",
    "\n",
    "print('x_train', x_train.shape)\n",
    "print('y_train', y_train.shape)\n",
    "print('x_test', x_test.shape)\n",
    "print('y_test', y_test.shape)"
   ]
  },
  {
   "cell_type": "code",
   "execution_count": 60,
   "metadata": {
    "colab": {
     "base_uri": "https://localhost:8080/",
     "height": 434
    },
    "colab_type": "code",
    "id": "9moBmtWM_ee8",
    "outputId": "120bd08f-9576-481d-f876-5945df446491"
   },
   "outputs": [
    {
     "name": "stdout",
     "output_type": "stream",
     "text": [
      "Model: \"sequential_4\"\n",
      "_________________________________________________________________\n",
      "Layer (type)                 Output Shape              Param #   \n",
      "=================================================================\n",
      "embedding_4 (Embedding)      (None, 160, 1)            4         \n",
      "_________________________________________________________________\n",
      "conv1d_7 (Conv1D)            (None, 134, 128)          3584      \n",
      "_________________________________________________________________\n",
      "max_pooling1d_4 (MaxPooling1 (None, 14, 128)           0         \n",
      "_________________________________________________________________\n",
      "dropout_7 (Dropout)          (None, 14, 128)           0         \n",
      "_________________________________________________________________\n",
      "conv1d_8 (Conv1D)            (None, 6, 128)            147584    \n",
      "_________________________________________________________________\n",
      "dropout_8 (Dropout)          (None, 6, 128)            0         \n",
      "_________________________________________________________________\n",
      "bidirectional_4 (Bidirection (None, 64)                30912     \n",
      "_________________________________________________________________\n",
      "dense_4 (Dense)              (None, 1)                 65        \n",
      "=================================================================\n",
      "Total params: 182,149\n",
      "Trainable params: 182,149\n",
      "Non-trainable params: 0\n",
      "_________________________________________________________________\n"
     ]
    }
   ],
   "source": [
    "model = Sequential()\n",
    "model.add(Embedding(4, 1, input_length=maxlen))\n",
    "model.add(layers.Conv1D(128, 27, activation='relu'))\n",
    "model.add(layers.MaxPooling1D(9))\n",
    "model.add(layers.Dropout(0.5))\n",
    "model.add(layers.Conv1D(128, 9, activation='relu'))\n",
    "model.add(layers.Dropout(0.5))\n",
    "model.add(layers.Bidirectional(layers.GRU(32, dropout=0.2, recurrent_dropout=0.2)))\n",
    "model.add(Dense(1, activation='sigmoid'))\n",
    "model.compile(optimizer='adam', loss='binary_crossentropy', metrics=['acc'])\n",
    "model.summary()"
   ]
  },
  {
   "cell_type": "code",
   "execution_count": 61,
   "metadata": {
    "colab": {
     "base_uri": "https://localhost:8080/",
     "height": 434
    },
    "colab_type": "code",
    "id": "L1guk8J4_g_4",
    "outputId": "1864189d-174a-46d9-c7be-a8e68a75d1b7"
   },
   "outputs": [
    {
     "name": "stdout",
     "output_type": "stream",
     "text": [
      "Train on 72000 samples, validate on 18000 samples\n",
      "Epoch 1/10\n",
      "72000/72000 [==============================] - 91s 1ms/step - loss: 0.5965 - acc: 0.6415 - val_loss: 0.4771 - val_acc: 0.7352\n",
      "Epoch 2/10\n",
      "72000/72000 [==============================] - 87s 1ms/step - loss: 0.4862 - acc: 0.7278 - val_loss: 0.4409 - val_acc: 0.7728\n",
      "Epoch 3/10\n",
      "72000/72000 [==============================] - 87s 1ms/step - loss: 0.4439 - acc: 0.7537 - val_loss: 0.4051 - val_acc: 0.7764\n",
      "Epoch 4/10\n",
      "72000/72000 [==============================] - 88s 1ms/step - loss: 0.4263 - acc: 0.7634 - val_loss: 0.3896 - val_acc: 0.7885\n",
      "Epoch 5/10\n",
      "72000/72000 [==============================] - 89s 1ms/step - loss: 0.4136 - acc: 0.7684 - val_loss: 0.3889 - val_acc: 0.7929\n",
      "Epoch 6/10\n",
      "72000/72000 [==============================] - 89s 1ms/step - loss: 0.4052 - acc: 0.7739 - val_loss: 0.3904 - val_acc: 0.7818\n",
      "Epoch 7/10\n",
      "72000/72000 [==============================] - 88s 1ms/step - loss: 0.4014 - acc: 0.7747 - val_loss: 0.3770 - val_acc: 0.7848\n",
      "Epoch 8/10\n",
      "72000/72000 [==============================] - 88s 1ms/step - loss: 0.3968 - acc: 0.7766 - val_loss: 0.3711 - val_acc: 0.7901\n",
      "Epoch 9/10\n",
      "72000/72000 [==============================] - 88s 1ms/step - loss: 0.3929 - acc: 0.7792 - val_loss: 0.3780 - val_acc: 0.7892\n",
      "Epoch 10/10\n",
      "72000/72000 [==============================] - 89s 1ms/step - loss: 0.3899 - acc: 0.7801 - val_loss: 0.3668 - val_acc: 0.7933\n",
      "Runtime: 887.1440660953522 seconds\n"
     ]
    }
   ],
   "source": [
    "# Train / Validate model\n",
    "start_time = time.time()\n",
    "history = model.fit(x_train, y_train,\n",
    "epochs = 10,\n",
    "batch_size=32,\n",
    "validation_split=0.2)\n",
    "nn1_runtime = time.time() - start_time\n",
    "print(\"Runtime: %s seconds\" % nn1_runtime)"
   ]
  },
  {
   "cell_type": "code",
   "execution_count": 62,
   "metadata": {
    "colab": {
     "base_uri": "https://localhost:8080/",
     "height": 573
    },
    "colab_type": "code",
    "id": "u03OeeqG_icE",
    "outputId": "ae88278b-51b7-4dec-99b9-0bc2bebe8ffe"
   },
   "outputs": [
    {
     "data": {
      "image/png": "[encoded data removed]",
      "text/plain": [
       "<Figure size 432x288 with 1 Axes>"
      ]
     },
     "metadata": {
      "needs_background": "light",
      "tags": []
     },
     "output_type": "display_data"
    },
    {
     "data": {
      "image/png": "[encoded data removed]",
      "text/plain": [
       "<Figure size 432x288 with 1 Axes>"
      ]
     },
     "metadata": {
      "needs_background": "light",
      "tags": []
     },
     "output_type": "display_data"
    }
   ],
   "source": [
    "# Learning curves\n",
    "\n",
    "# VALIDATION LOSS curves\n",
    "\n",
    "plt.clf()\n",
    "history_dict = history.history\n",
    "loss_values = history_dict['loss']\n",
    "val_loss_values = history_dict['val_loss']\n",
    "epochs = range(1, (len(history_dict['loss']) + 1))\n",
    "plt.plot(epochs, loss_values, 'bo', label='Training loss')\n",
    "plt.plot(epochs, val_loss_values, 'r', label='Validation loss')\n",
    "plt.title('Training and validation loss')\n",
    "plt.xlabel('Epochs')\n",
    "plt.ylabel('Loss')\n",
    "plt.legend()\n",
    "plt.show()\n",
    "\n",
    "# VALIDATION ACCURACY curves\n",
    "\n",
    "plt.clf()\n",
    "acc_values = history_dict['acc']\n",
    "val_acc_values = history_dict['val_acc']\n",
    "epochs = range(1, (len(history_dict['acc']) + 1))\n",
    "plt.plot(epochs, acc_values, 'bo', label='Training acc')\n",
    "plt.plot(epochs, val_acc_values, 'r', label='Validation acc')\n",
    "plt.title('Training and validation accuracy')\n",
    "plt.xlabel('Epochs')\n",
    "plt.ylabel('Accuracy')\n",
    "plt.legend()\n",
    "plt.show()"
   ]
  },
  {
   "cell_type": "markdown",
   "metadata": {
    "colab_type": "text",
    "id": "6w3-jUjbElM0"
   },
   "source": [
    "The learning curves show that the model does better with increasing epochs until around epoch 8 and 9."
   ]
  },
  {
   "cell_type": "code",
   "execution_count": 63,
   "metadata": {
    "colab": {
     "base_uri": "https://localhost:8080/",
     "height": 278
    },
    "colab_type": "code",
    "id": "cwpQ-uIg_oP8",
    "outputId": "f5f0f2c8-aea7-47d5-8c5e-2394614f7add"
   },
   "outputs": [
    {
     "name": "stdout",
     "output_type": "stream",
     "text": [
      "[[5.0828528e-01]\n",
      " [5.1320922e-01]\n",
      " [9.9941516e-01]\n",
      " ...\n",
      " [4.7252762e-01]\n",
      " [9.8583102e-04]\n",
      " [2.9203570e-01]]\n",
      "10000\n",
      "[[1.]\n",
      " [1.]\n",
      " [1.]\n",
      " ...\n",
      " [0.]\n",
      " [0.]\n",
      " [0.]]\n"
     ]
    }
   ],
   "source": [
    "# Final Predict on test\n",
    "\n",
    "final_predictions = model.predict(x_test)\n",
    "print(final_predictions)\n",
    "\n",
    "# Modify the raw final_predictions - prediction probs  - into 0 and 1\n",
    "# Cutoff point = 0.5\n",
    "\n",
    "Preds = final_predictions.copy()\n",
    "print(len(Preds))\n",
    "\n",
    "Preds[ np.where( Preds >= 0.5 ) ] = 1\n",
    "Preds[ np.where( Preds < 0.5 ) ] = 0\n",
    "print(Preds)"
   ]
  },
  {
   "cell_type": "markdown",
   "metadata": {
    "colab_type": "text",
    "id": "YpTSLcTRo3Pg"
   },
   "source": [
    "This chunk generates the data to plot a confusion matrix and extract recall and precision information."
   ]
  },
  {
   "cell_type": "code",
   "execution_count": 64,
   "metadata": {
    "colab": {
     "base_uri": "https://localhost:8080/",
     "height": 86
    },
    "colab_type": "code",
    "id": "NPH2drpu_qOg",
    "outputId": "f0a40900-b481-466c-a7eb-923ed0adc598"
   },
   "outputs": [
    {
     "name": "stdout",
     "output_type": "stream",
     "text": [
      "TN:  4494\n",
      "FP:  449\n",
      "FN:  1628\n",
      "TP:  3429\n"
     ]
    }
   ],
   "source": [
    "nn1_conf_mx = confusion_matrix(y_test, Preds)\n",
    "\n",
    "TN = nn1_conf_mx[0,0]\n",
    "FP = nn1_conf_mx[0,1]\n",
    "FN = nn1_conf_mx[1,0]\n",
    "TP = nn1_conf_mx[1,1]\n",
    "\n",
    "print ('TN: ', TN)\n",
    "print ('FP: ', FP)\n",
    "print ('FN: ', FN)\n",
    "print ('TP: ', TP)\n",
    "\n",
    "nn1_recall = TP/(TP+FN)\n",
    "nn1_precision = TP/(TP+FP)"
   ]
  },
  {
   "cell_type": "code",
   "execution_count": 65,
   "metadata": {
    "colab": {
     "base_uri": "https://localhost:8080/",
     "height": 86
    },
    "colab_type": "code",
    "id": "wmRM3nQQ_27A",
    "outputId": "f289d57e-4f8b-4de7-a9d5-576ad2a7e3ce"
   },
   "outputs": [
    {
     "name": "stdout",
     "output_type": "stream",
     "text": [
      "precision  0.8842186694172254\n",
      "recall  0.678070001977457\n",
      "accuracy  0.7923\n",
      "F1 score  0.7675433687744824\n"
     ]
    }
   ],
   "source": [
    "print ('precision ',precision_score(y_test, Preds))\n",
    "print ('recall ',recall_score(y_test, Preds) )\n",
    "print ('accuracy ',accuracy_score(y_test, Preds))\n",
    "print ('F1 score ',f1_score(y_test, Preds))"
   ]
  },
  {
   "cell_type": "code",
   "execution_count": 66,
   "metadata": {
    "colab": {
     "base_uri": "https://localhost:8080/",
     "height": 298
    },
    "colab_type": "code",
    "id": "R_050Jzg_42c",
    "outputId": "15dbf172-86bf-4b77-e37f-93c7aa62f9f5"
   },
   "outputs": [
    {
     "name": "stdout",
     "output_type": "stream",
     "text": [
      "AUC: 0.794\n"
     ]
    },
    {
     "data": {
      "image/png": "[encoded data removed]",
      "text/plain": [
       "<Figure size 432x288 with 1 Axes>"
      ]
     },
     "metadata": {
      "needs_background": "light",
      "tags": []
     },
     "output_type": "display_data"
    }
   ],
   "source": [
    "# calculate AUC\n",
    "nn1_auc = roc_auc_score(y_test, Preds)\n",
    "print('AUC: %.3f' % nn1_auc)\n",
    "# calculate roc curve\n",
    "fpr, tpr, thresholds = roc_curve(y_test, Preds)\n",
    "plt.plot([0, 1], [0, 1], linestyle='--')\n",
    "# plot the roc curve for the model\n",
    "plt.plot(fpr, tpr, marker='.')\n",
    "plt.title('ROC ')\n",
    "plt.show()"
   ]
  },
  {
   "cell_type": "markdown",
   "metadata": {
    "colab_type": "text",
    "id": "Sc7JhdBsegXs"
   },
   "source": [
    "### Codon Tokenization"
   ]
  },
  {
   "cell_type": "code",
   "execution_count": 73,
   "metadata": {
    "colab": {
     "base_uri": "https://localhost:8080/",
     "height": 441
    },
    "colab_type": "code",
    "id": "5stQG5ld_8wc",
    "outputId": "9bd12a65-91b4-4695-e3cb-880c580a6441"
   },
   "outputs": [
    {
     "name": "stdout",
     "output_type": "stream",
     "text": [
      "100000\n"
     ]
    },
    {
     "data": {
      "text/html": [
       "<div>\n",
       "<style scoped>\n",
       "    .dataframe tbody tr th:only-of-type {\n",
       "        vertical-align: middle;\n",
       "    }\n",
       "\n",
       "    .dataframe tbody tr th {\n",
       "        vertical-align: top;\n",
       "    }\n",
       "\n",
       "    .dataframe thead th {\n",
       "        text-align: right;\n",
       "    }\n",
       "</style>\n",
       "<table border=\"1\" class=\"dataframe\">\n",
       "  <thead>\n",
       "    <tr style=\"text-align: right;\">\n",
       "      <th></th>\n",
       "      <th>resistant</th>\n",
       "      <th>genes</th>\n",
       "      <th>codons</th>\n",
       "    </tr>\n",
       "  </thead>\n",
       "  <tbody>\n",
       "    <tr>\n",
       "      <th>0</th>\n",
       "      <td>False</td>\n",
       "      <td>ATGCACTACCGTATGATCCCCCTTCACTGGATGATGGAAATTGACT...</td>\n",
       "      <td>[ATG, CAC, TAC, CGT, ATG, ATC, CCC, CTT, CAC, ...</td>\n",
       "    </tr>\n",
       "    <tr>\n",
       "      <th>1</th>\n",
       "      <td>False</td>\n",
       "      <td>ATGCACTACCGTATGATTCACTGGATGATGGAAATTGACTGCAATG...</td>\n",
       "      <td>[ATG, CAC, TAC, CGT, ATG, ATT, CAC, TGG, ATG, ...</td>\n",
       "    </tr>\n",
       "    <tr>\n",
       "      <th>2</th>\n",
       "      <td>False</td>\n",
       "      <td>ATGCACTACCGTATGATTCACTGGATCGTGATGGAAATTGACTGCA...</td>\n",
       "      <td>[ATG, CAC, TAC, CGT, ATG, ATT, CAC, TGG, ATC, ...</td>\n",
       "    </tr>\n",
       "    <tr>\n",
       "      <th>3</th>\n",
       "      <td>False</td>\n",
       "      <td>ATGCACTACCGTATGATTCACTGGGTGATGGAAATTGACTGCAATG...</td>\n",
       "      <td>[ATG, CAC, TAC, CGT, ATG, ATT, CAC, TGG, GTG, ...</td>\n",
       "    </tr>\n",
       "    <tr>\n",
       "      <th>4</th>\n",
       "      <td>False</td>\n",
       "      <td>ATGCACGACCGTATCATTCACTGGATGATGGAAATTGACTGCAATG...</td>\n",
       "      <td>[ATG, CAC, GAC, CGT, ATC, ATT, CAC, TGG, ATG, ...</td>\n",
       "    </tr>\n",
       "    <tr>\n",
       "      <th>...</th>\n",
       "      <td>...</td>\n",
       "      <td>...</td>\n",
       "      <td>...</td>\n",
       "    </tr>\n",
       "    <tr>\n",
       "      <th>99995</th>\n",
       "      <td>False</td>\n",
       "      <td>ATGCACTACCGTATGATTCACTGGATGATGGAAACTCTCTTTGACT...</td>\n",
       "      <td>[ATG, CAC, TAC, CGT, ATG, ATT, CAC, TGG, ATG, ...</td>\n",
       "    </tr>\n",
       "    <tr>\n",
       "      <th>99996</th>\n",
       "      <td>False</td>\n",
       "      <td>ATGCACTACCGTATGATTCACTGGATGATGGAAATTGACTGCAATG...</td>\n",
       "      <td>[ATG, CAC, TAC, CGT, ATG, ATT, CAC, TGG, ATG, ...</td>\n",
       "    </tr>\n",
       "    <tr>\n",
       "      <th>99997</th>\n",
       "      <td>True</td>\n",
       "      <td>ATGCACTACCGTATGATTCACTGGATGATGGAAACTGCAATGGCTG...</td>\n",
       "      <td>[ATG, CAC, TAC, CGT, ATG, ATT, CAC, TGG, ATG, ...</td>\n",
       "    </tr>\n",
       "    <tr>\n",
       "      <th>99998</th>\n",
       "      <td>True</td>\n",
       "      <td>ATGCACTACCGTATGATTCACTGGATGATGGAAATTGACTTGCAAT...</td>\n",
       "      <td>[ATG, CAC, TAC, CGT, ATG, ATT, CAC, TGG, ATG, ...</td>\n",
       "    </tr>\n",
       "    <tr>\n",
       "      <th>99999</th>\n",
       "      <td>False</td>\n",
       "      <td>ATGCACTACCGTATGATTCACTGGATGATGGAAATTGACTGCAATG...</td>\n",
       "      <td>[ATG, CAC, TAC, CGT, ATG, ATT, CAC, TGG, ATG, ...</td>\n",
       "    </tr>\n",
       "  </tbody>\n",
       "</table>\n",
       "<p>100000 rows × 3 columns</p>\n",
       "</div>"
      ],
      "text/plain": [
       "       resistant  ...                                             codons\n",
       "0          False  ...  [ATG, CAC, TAC, CGT, ATG, ATC, CCC, CTT, CAC, ...\n",
       "1          False  ...  [ATG, CAC, TAC, CGT, ATG, ATT, CAC, TGG, ATG, ...\n",
       "2          False  ...  [ATG, CAC, TAC, CGT, ATG, ATT, CAC, TGG, ATC, ...\n",
       "3          False  ...  [ATG, CAC, TAC, CGT, ATG, ATT, CAC, TGG, GTG, ...\n",
       "4          False  ...  [ATG, CAC, GAC, CGT, ATC, ATT, CAC, TGG, ATG, ...\n",
       "...          ...  ...                                                ...\n",
       "99995      False  ...  [ATG, CAC, TAC, CGT, ATG, ATT, CAC, TGG, ATG, ...\n",
       "99996      False  ...  [ATG, CAC, TAC, CGT, ATG, ATT, CAC, TGG, ATG, ...\n",
       "99997       True  ...  [ATG, CAC, TAC, CGT, ATG, ATT, CAC, TGG, ATG, ...\n",
       "99998       True  ...  [ATG, CAC, TAC, CGT, ATG, ATT, CAC, TGG, ATG, ...\n",
       "99999      False  ...  [ATG, CAC, TAC, CGT, ATG, ATT, CAC, TGG, ATG, ...\n",
       "\n",
       "[100000 rows x 3 columns]"
      ]
     },
     "execution_count": 73,
     "metadata": {
      "tags": []
     },
     "output_type": "execute_result"
    }
   ],
   "source": [
    "# From nucleotides to codons ... w/o considering the start / stop codons as the data is synthetic and may not have these\n",
    "\n",
    "DataCod = DataDf.copy()\n",
    "\n",
    "Codons = list(DataCod['genes'])\n",
    "print(len(Codons))\n",
    "\n",
    "for n in range(len(Codons)):\n",
    "    Codons[n] = list([Codons[n][i:i+3] for i in range(0, len(Codons[n]), 3)])\n",
    "    \n",
    "DataCod['codons'] = Codons\n",
    "DataCod"
   ]
  },
  {
   "cell_type": "code",
   "execution_count": 74,
   "metadata": {
    "colab": {
     "base_uri": "https://localhost:8080/",
     "height": 72
    },
    "colab_type": "code",
    "id": "IUfhXtzM__1U",
    "outputId": "21fa6cfc-5352-4bc6-baeb-636d63e789d7"
   },
   "outputs": [
    {
     "name": "stdout",
     "output_type": "stream",
     "text": [
      "Found 66 unique tokens.\n",
      "word_index {'cac': 1, 'cgt': 2, 'aat': 3, 'atg': 4, 'tac': 5, 'att': 6, 'tgg': 7, 'gac': 8, 'tgc': 9, 'act': 10, 'gtt': 11, 'gaa': 12, 'aaa': 13, 'cag': 14, 'tga': 15, 'ttg': 16, 'gct': 17, 'ttc': 18, 'tct': 19, 'ggc': 20, 'aca': 21, 'taa': 22, 'ctg': 23, 'ata': 24, 'caa': 25, 'ctt': 26, 'tcg': 27, 'gtc': 28, 'aac': 29, 'gga': 30, 'acg': 31, 'gca': 32, 'tta': 33, 'cta': 34, 'acc': 35, 'gat': 36, 'tca': 37, 'tat': 38, 'agg': 39, 'tgt': 40, 'gtg': 41, 'cga': 42, 'cgc': 43, 'ttt': 44, 'aga': 45, 'ggt': 46, 'ctc': 47, 'cca': 48, 'ccg': 49, 'gcg': 50, 'a': 51, 'ga': 52, 'tag': 53, 'atc': 54, 'cat': 55, 'agt': 56, 'cgg': 57, 'aag': 58, 'gag': 59, 'cct': 60, 'gta': 61, 'ggg': 62, 'tcc': 63, 'agc': 64, 'ccc': 65, 'gcc': 66}\n"
     ]
    }
   ],
   "source": [
    "# Tokenize from codons to integers (sequences and then pad / truncate data)\n",
    "\n",
    "maxlen = 53 # cut off after this number of codons in a list\n",
    "\n",
    "max_words = 64 # considers only the top number of codons  in the dictionary (It finds 66 below because of 'a' and 'ga')\n",
    "max_features = max_words\n",
    "\n",
    "#tokenizer = Tokenizer(num_words=max_words, char_level=True)\n",
    "tokenizer = Tokenizer(num_words=max_words)\n",
    "tokenizer.fit_on_texts(list(DataCod['codons']))\n",
    "sequences = tokenizer.texts_to_sequences(list(DataCod['codons']))\n",
    "word_index = tokenizer.word_index\n",
    "Xpad = pad_sequences(sequences, maxlen=maxlen, padding='post', truncating='post', value=0)\n",
    "\n",
    "print('Found %s unique tokens.' % len(word_index))\n",
    "print('word_index', word_index)"
   ]
  },
  {
   "cell_type": "code",
   "execution_count": 75,
   "metadata": {
    "colab": {
     "base_uri": "https://localhost:8080/",
     "height": 52
    },
    "colab_type": "code",
    "id": "usreV9A7ABeA",
    "outputId": "565ba8cf-346f-42c3-d8a1-498664f0689b"
   },
   "outputs": [
    {
     "name": "stdout",
     "output_type": "stream",
     "text": [
      "(100000, 53)\n",
      "(100000,)\n"
     ]
    }
   ],
   "source": [
    "# Separate the label\n",
    "\n",
    "labels = np.asarray(DataCod['resistant'])\n",
    "print(Xpad.shape)\n",
    "print(labels.shape)"
   ]
  },
  {
   "cell_type": "code",
   "execution_count": 76,
   "metadata": {
    "colab": {
     "base_uri": "https://localhost:8080/",
     "height": 159
    },
    "colab_type": "code",
    "id": "xdR4n110ACa8",
    "outputId": "d9537e30-ddf9-40eb-e15b-1da8feb00b03"
   },
   "outputs": [
    {
     "name": "stdout",
     "output_type": "stream",
     "text": [
      "ATGCACTACCGTATGATTCACTGGATGATGGAAATTGACTGCAATGGCTGCGCTAATAATACTTTGTCTCGTCGTTGGAATTACGACTTCTGGCACAAACACGTTGAACAGGTTAAATGCTACCGTCACAATATTCGTGACCAGACTTGA\n",
      "['ATG', 'CAC', 'TAC', 'CGT', 'ATG', 'ATT', 'CAC', 'TGG', 'ATG', 'ATG', 'GAA', 'ATT', 'GAC', 'TGC', 'AAT', 'GGC', 'TGC', 'GCT', 'AAT', 'AAT', 'ACT', 'TTG', 'TCT', 'CGT', 'CGT', 'TGG', 'AAT', 'TAC', 'GAC', 'TTC', 'TGG', 'CAC', 'AAA', 'CAC', 'GTT', 'GAA', 'CAG', 'GTT', 'AAA', 'TGC', 'TAC', 'CGT', 'CAC', 'AAT', 'ATT', 'CGT', 'GAC', 'CAG', 'ACT', 'TGA']\n",
      "[4, 1, 5, 2, 4, 6, 1, 7, 4, 4, 12, 6, 8, 9, 3, 20, 9, 17, 3, 3, 10, 16, 19, 2, 2, 7, 3, 5, 8, 18, 7, 1, 13, 1, 11, 12, 14, 11, 13, 9, 5, 2, 1, 3, 6, 2, 8, 14, 10, 15]\n",
      "[ 4  1  5  2  4  6  1  7  4  4 12  6  8  9  3 20  9 17  3  3 10 16 19  2\n",
      "  2  7  3  5  8 18  7  1 13  1 11 12 14 11 13  9  5  2  1  3  6  2  8 14\n",
      " 10 15  0  0  0]\n",
      "True\n"
     ]
    }
   ],
   "source": [
    "# Check a sample\n",
    "\n",
    "rowNum = 37149\n",
    "print(DataCod['genes'][rowNum])\n",
    "print(DataCod['codons'][rowNum])\n",
    "print(sequences[rowNum])\n",
    "print(Xpad[rowNum])\n",
    "print(labels[rowNum])"
   ]
  },
  {
   "cell_type": "code",
   "execution_count": 77,
   "metadata": {
    "colab": {
     "base_uri": "https://localhost:8080/",
     "height": 86
    },
    "colab_type": "code",
    "id": "m6zlq2bHAFOo",
    "outputId": "8fb8f0ef-ac66-4d3c-d41d-dd21f22a322e"
   },
   "outputs": [
    {
     "name": "stdout",
     "output_type": "stream",
     "text": [
      "x_train (90000, 53)\n",
      "y_train (90000,)\n",
      "x_test (10000, 53)\n",
      "y_test (10000,)\n"
     ]
    }
   ],
   "source": [
    "# Create train & val and test datasets with inital shuffle (as the original dataset may be arranged)\n",
    "\n",
    "training_samples = int(Xpad.shape[0] * 0.9)\n",
    "# The validation is being taken by keras - below\n",
    "# test = remaining\n",
    "\n",
    "indices = np.arange(Xpad.shape[0])\n",
    "np.random.shuffle(indices) # FOR TESTING PURPOSES comment it out - to keep indices as above\n",
    "\n",
    "Xpad = Xpad[indices]\n",
    "labels = labels[indices]\n",
    "\n",
    "x_train = Xpad[:training_samples]\n",
    "y_train = labels[:training_samples]\n",
    "x_test = Xpad[training_samples: ]\n",
    "y_test = labels[training_samples: ]\n",
    "\n",
    "print('x_train', x_train.shape)\n",
    "print('y_train', y_train.shape)\n",
    "print('x_test', x_test.shape)\n",
    "print('y_test', y_test.shape)"
   ]
  },
  {
   "cell_type": "code",
   "execution_count": 20,
   "metadata": {
    "colab": {
     "base_uri": "https://localhost:8080/",
     "height": 434
    },
    "colab_type": "code",
    "id": "7ZB7d-yyAHjE",
    "outputId": "00d1bc97-4966-469b-9d1c-bcd8d9753a44"
   },
   "outputs": [
    {
     "name": "stdout",
     "output_type": "stream",
     "text": [
      "Model: \"sequential_2\"\n",
      "_________________________________________________________________\n",
      "Layer (type)                 Output Shape              Param #   \n",
      "=================================================================\n",
      "embedding_2 (Embedding)      (None, 53, 1)             64        \n",
      "_________________________________________________________________\n",
      "conv1d_3 (Conv1D)            (None, 27, 128)           3584      \n",
      "_________________________________________________________________\n",
      "max_pooling1d_2 (MaxPooling1 (None, 9, 128)            0         \n",
      "_________________________________________________________________\n",
      "dropout_3 (Dropout)          (None, 9, 128)            0         \n",
      "_________________________________________________________________\n",
      "conv1d_4 (Conv1D)            (None, 1, 128)            147584    \n",
      "_________________________________________________________________\n",
      "dropout_4 (Dropout)          (None, 1, 128)            0         \n",
      "_________________________________________________________________\n",
      "bidirectional_2 (Bidirection (None, 64)                30912     \n",
      "_________________________________________________________________\n",
      "dense_2 (Dense)              (None, 1)                 65        \n",
      "=================================================================\n",
      "Total params: 182,209\n",
      "Trainable params: 182,209\n",
      "Non-trainable params: 0\n",
      "_________________________________________________________________\n"
     ]
    }
   ],
   "source": [
    "# Model ... 64 CNN window 27 & Bidirectional GRU accuracy = 0.99\n",
    "\n",
    "model = Sequential()\n",
    "model.add(Embedding(64, 1, input_length=maxlen))\n",
    "model.add(layers.Conv1D(128, 27, activation='relu'))\n",
    "model.add(layers.MaxPooling1D(3))\n",
    "model.add(layers.Dropout(0.5))\n",
    "model.add(layers.Conv1D(128, 9, activation='relu'))\n",
    "model.add(layers.Dropout(0.5))\n",
    "model.add(layers.Bidirectional(layers.GRU(32, dropout=0.2, recurrent_dropout=0.2)))\n",
    "model.add(Dense(1, activation='sigmoid'))\n",
    "model.compile(optimizer='adam', loss='binary_crossentropy', metrics=['acc'])\n",
    "model.summary()"
   ]
  },
  {
   "cell_type": "code",
   "execution_count": 21,
   "metadata": {
    "colab": {
     "base_uri": "https://localhost:8080/",
     "height": 434
    },
    "colab_type": "code",
    "id": "nLNAUV5gAJjM",
    "outputId": "495682f0-7513-4808-fd9f-f404c4e04e60"
   },
   "outputs": [
    {
     "name": "stdout",
     "output_type": "stream",
     "text": [
      "Train on 72000 samples, validate on 18000 samples\n",
      "Epoch 1/10\n",
      "72000/72000 [==============================] - 45s 620us/step - loss: 0.1078 - acc: 0.9505 - val_loss: 0.0431 - val_acc: 0.9882\n",
      "Epoch 2/10\n",
      "72000/72000 [==============================] - 43s 594us/step - loss: 0.0406 - acc: 0.9885 - val_loss: 0.0377 - val_acc: 0.9882\n",
      "Epoch 3/10\n",
      "72000/72000 [==============================] - 43s 594us/step - loss: 0.0395 - acc: 0.9885 - val_loss: 0.0374 - val_acc: 0.9882\n",
      "Epoch 4/10\n",
      "72000/72000 [==============================] - 43s 596us/step - loss: 0.0383 - acc: 0.9886 - val_loss: 0.0388 - val_acc: 0.9882\n",
      "Epoch 5/10\n",
      "72000/72000 [==============================] - 43s 603us/step - loss: 0.0381 - acc: 0.9885 - val_loss: 0.0374 - val_acc: 0.9881\n",
      "Epoch 6/10\n",
      "72000/72000 [==============================] - 43s 601us/step - loss: 0.0374 - acc: 0.9885 - val_loss: 0.0475 - val_acc: 0.9882\n",
      "Epoch 7/10\n",
      "72000/72000 [==============================] - 43s 598us/step - loss: 0.0375 - acc: 0.9884 - val_loss: 0.0370 - val_acc: 0.9882\n",
      "Epoch 8/10\n",
      "72000/72000 [==============================] - 44s 605us/step - loss: 0.0368 - acc: 0.9886 - val_loss: 0.0368 - val_acc: 0.9882\n",
      "Epoch 9/10\n",
      "72000/72000 [==============================] - 45s 631us/step - loss: 0.0373 - acc: 0.9886 - val_loss: 0.0366 - val_acc: 0.9882\n",
      "Epoch 10/10\n",
      "72000/72000 [==============================] - 46s 643us/step - loss: 0.0368 - acc: 0.9886 - val_loss: 0.0370 - val_acc: 0.9882\n",
      "Runtime: 440.0965759754181 seconds\n"
     ]
    }
   ],
   "source": [
    "# Train / Validate model\n",
    "start_time = time.time()\n",
    "history = model.fit(x_train, y_train,\n",
    "epochs = 10,\n",
    "batch_size=32,\n",
    "validation_split=0.2)\n",
    "nn2_runtime = time.time() - start_time\n",
    "print(\"Runtime: %s seconds\" % nn2_runtime)"
   ]
  },
  {
   "cell_type": "code",
   "execution_count": 22,
   "metadata": {
    "colab": {
     "base_uri": "https://localhost:8080/",
     "height": 573
    },
    "colab_type": "code",
    "id": "YXvuqfzBALPA",
    "outputId": "f1a292d0-e536-40cf-f0d0-179a6ec6a814"
   },
   "outputs": [
    {
     "data": {
      "image/png": "[encoded data removed]",
      "text/plain": [
       "<Figure size 432x288 with 1 Axes>"
      ]
     },
     "metadata": {
      "needs_background": "light",
      "tags": []
     },
     "output_type": "display_data"
    },
    {
     "data": {
      "image/png": "[encoded data removed]",
      "text/plain": [
       "<Figure size 432x288 with 1 Axes>"
      ]
     },
     "metadata": {
      "needs_background": "light",
      "tags": []
     },
     "output_type": "display_data"
    }
   ],
   "source": [
    "# Learning curves\n",
    "\n",
    "# VALIDATION LOSS curves\n",
    "\n",
    "plt.clf()\n",
    "history_dict = history.history\n",
    "loss_values = history_dict['loss']\n",
    "val_loss_values = history_dict['val_loss']\n",
    "epochs = range(1, (len(history_dict['loss']) + 1))\n",
    "plt.plot(epochs, loss_values, 'bo', label='Training loss')\n",
    "plt.plot(epochs, val_loss_values, 'r', label='Validation loss')\n",
    "plt.title('Training and validation loss')\n",
    "plt.xlabel('Epochs')\n",
    "plt.ylabel('Loss')\n",
    "plt.legend()\n",
    "plt.show()\n",
    "\n",
    "# VALIDATION ACCURACY curves\n",
    "\n",
    "plt.clf()\n",
    "acc_values = history_dict['acc']\n",
    "val_acc_values = history_dict['val_acc']\n",
    "epochs = range(1, (len(history_dict['acc']) + 1))\n",
    "plt.plot(epochs, acc_values, 'bo', label='Training acc')\n",
    "plt.plot(epochs, val_acc_values, 'r', label='Validation acc')\n",
    "plt.title('Training and validation accuracy')\n",
    "plt.xlabel('Epochs')\n",
    "plt.ylabel('Accuracy')\n",
    "plt.legend()\n",
    "plt.show()"
   ]
  },
  {
   "cell_type": "code",
   "execution_count": 23,
   "metadata": {
    "colab": {
     "base_uri": "https://localhost:8080/",
     "height": 278
    },
    "colab_type": "code",
    "id": "x3HBlaIPAPNs",
    "outputId": "e1ea0c1e-51d0-4609-a9d5-8476a4964eee"
   },
   "outputs": [
    {
     "name": "stdout",
     "output_type": "stream",
     "text": [
      "[[9.9985236e-01]\n",
      " [9.9985236e-01]\n",
      " [7.0381531e-05]\n",
      " ...\n",
      " [9.9985278e-01]\n",
      " [7.6145880e-05]\n",
      " [9.9985278e-01]]\n",
      "10000\n",
      "[[1.]\n",
      " [1.]\n",
      " [0.]\n",
      " ...\n",
      " [1.]\n",
      " [0.]\n",
      " [1.]]\n"
     ]
    }
   ],
   "source": [
    "# Final Predict on test\n",
    "\n",
    "final_predictions = model.predict(x_test)\n",
    "print(final_predictions)\n",
    "\n",
    "# Modify the raw final_predictions - prediction probs  - into 0 and 1\n",
    "# Cutoff point = 0.5\n",
    "\n",
    "Preds = final_predictions.copy()\n",
    "print(len(Preds))\n",
    "\n",
    "Preds[ np.where( Preds >= 0.5 ) ] = 1\n",
    "Preds[ np.where( Preds < 0.5 ) ] = 0\n",
    "print(Preds)"
   ]
  },
  {
   "cell_type": "code",
   "execution_count": 0,
   "metadata": {
    "colab": {},
    "colab_type": "code",
    "id": "R-rzdZXYAU1E"
   },
   "outputs": [],
   "source": [
    "# Confusion matrix, precision and recall\n",
    "\n",
    "nn2_conf_mx = confusion_matrix(y_test, Preds)\n",
    "\n",
    "TN = nn2_conf_mx[0,0]\n",
    "FP = nn2_conf_mx[0,1]\n",
    "FN = nn2_conf_mx[1,0]\n",
    "TP = nn2_conf_mx[1,1]\n",
    "\n",
    "nn2_recall = TP/(TP+FN)\n",
    "nn2_precision = TP/(TP+FP)"
   ]
  },
  {
   "cell_type": "code",
   "execution_count": 25,
   "metadata": {
    "colab": {
     "base_uri": "https://localhost:8080/",
     "height": 298
    },
    "colab_type": "code",
    "id": "cPubDQF3AZLM",
    "outputId": "3be02b72-3ccf-40e9-af3f-4049ccb76c66"
   },
   "outputs": [
    {
     "name": "stdout",
     "output_type": "stream",
     "text": [
      "AUC: 0.987\n"
     ]
    },
    {
     "data": {
      "image/png": "[encoded data removed]",
      "text/plain": [
       "<Figure size 432x288 with 1 Axes>"
      ]
     },
     "metadata": {
      "needs_background": "light",
      "tags": []
     },
     "output_type": "display_data"
    }
   ],
   "source": [
    "# calculate AUC\n",
    "nn2_auc = roc_auc_score(y_test, Preds)\n",
    "print('AUC: %.3f' % nn2_auc)\n",
    "# calculate roc curve\n",
    "fpr, tpr, thresholds = roc_curve(y_test, Preds)\n",
    "plt.plot([0, 1], [0, 1], linestyle='--')\n",
    "# plot the roc curve for the model\n",
    "plt.plot(fpr, tpr, marker='.')\n",
    "plt.title('ROC ')\n",
    "plt.show()"
   ]
  },
  {
   "cell_type": "markdown",
   "metadata": {
    "colab_type": "text",
    "id": "hSf8Nd-jd7Ao"
   },
   "source": [
    "## Extension: Random Forest Classifier\n",
    "\n",
    "This random forest classifier creates 100 decision trees that use entropy during the training phase. I ran tress with more decision trees, but that led to overfitting and reduced testing scores.\n"
   ]
  },
  {
   "cell_type": "code",
   "execution_count": 87,
   "metadata": {
    "colab": {
     "base_uri": "https://localhost:8080/",
     "height": 347
    },
    "colab_type": "code",
    "id": "CwOMllYCd99s",
    "outputId": "72636883-eda4-4764-9ca7-540e86ee6d0d"
   },
   "outputs": [
    {
     "data": {
      "text/plain": [
       "{'bootstrap': True,\n",
       " 'ccp_alpha': 0.0,\n",
       " 'class_weight': None,\n",
       " 'criterion': 'entropy',\n",
       " 'max_depth': None,\n",
       " 'max_features': 'auto',\n",
       " 'max_leaf_nodes': None,\n",
       " 'max_samples': None,\n",
       " 'min_impurity_decrease': 0.0,\n",
       " 'min_impurity_split': None,\n",
       " 'min_samples_leaf': 1,\n",
       " 'min_samples_split': 2,\n",
       " 'min_weight_fraction_leaf': 0.0,\n",
       " 'n_estimators': 100,\n",
       " 'n_jobs': None,\n",
       " 'oob_score': False,\n",
       " 'random_state': None,\n",
       " 'verbose': 0,\n",
       " 'warm_start': False}"
      ]
     },
     "execution_count": 87,
     "metadata": {
      "tags": []
     },
     "output_type": "execute_result"
    }
   ],
   "source": [
    "rf = RandomForestClassifier(n_estimators=100, criterion='entropy')\n",
    "rf.get_params()\n"
   ]
  },
  {
   "cell_type": "code",
   "execution_count": 88,
   "metadata": {
    "colab": {
     "base_uri": "https://localhost:8080/",
     "height": 34
    },
    "colab_type": "code",
    "id": "wV85PeAW_roU",
    "outputId": "a1bb0a89-1630-45c5-af61-d07edb85015e"
   },
   "outputs": [
    {
     "name": "stdout",
     "output_type": "stream",
     "text": [
      "Runtime: 6.241521596908569 seconds\n"
     ]
    }
   ],
   "source": [
    "start_time = time.time()\n",
    "rf = rf.fit(x_train, y_train)\n",
    "rf_runtime = time.time() - start_time\n",
    "print(\"Runtime: %s seconds\" % rf_runtime)"
   ]
  },
  {
   "cell_type": "code",
   "execution_count": 89,
   "metadata": {
    "colab": {
     "base_uri": "https://localhost:8080/",
     "height": 34
    },
    "colab_type": "code",
    "id": "KHbaBnzgfL2E",
    "outputId": "02ca8235-6734-494b-8a98-ea2b8a584fa9"
   },
   "outputs": [
    {
     "name": "stdout",
     "output_type": "stream",
     "text": [
      "Test accuracy score:  0.9901\n"
     ]
    }
   ],
   "source": [
    "rf_Preds = rf.predict(x_test)\n",
    "print(\"Test accuracy score: \", accuracy_score(y_test, rf_Preds))\n"
   ]
  },
  {
   "cell_type": "code",
   "execution_count": 0,
   "metadata": {
    "colab": {},
    "colab_type": "code",
    "id": "3eKikW4mibUM"
   },
   "outputs": [],
   "source": [
    "# Confusion matrix\n",
    "\n",
    "rf_conf_mx = confusion_matrix(y_test, rf_Preds)\n",
    "\n",
    "TN = rf_conf_mx[0,0]\n",
    "FP = rf_conf_mx[0,1]\n",
    "FN = rf_conf_mx[1,0]\n",
    "TP = rf_conf_mx[1,1]\n",
    "\n",
    "rf_recall = TP/(TP+FN)\n",
    "rf_precision = TP/(TP+FP)"
   ]
  },
  {
   "cell_type": "code",
   "execution_count": 91,
   "metadata": {
    "colab": {
     "base_uri": "https://localhost:8080/",
     "height": 298
    },
    "colab_type": "code",
    "id": "s91e8fq8jFdE",
    "outputId": "c9600b9a-fa9b-4eaa-a90b-cda217311dc0"
   },
   "outputs": [
    {
     "name": "stdout",
     "output_type": "stream",
     "text": [
      "AUC: 0.990\n"
     ]
    },
    {
     "data": {
      "image/png": "[encoded data removed]",
      "text/plain": [
       "<Figure size 432x288 with 1 Axes>"
      ]
     },
     "metadata": {
      "needs_background": "light",
      "tags": []
     },
     "output_type": "display_data"
    }
   ],
   "source": [
    "# calculate AUC\n",
    "rf_auc = roc_auc_score(y_test, rf_Preds)\n",
    "print('AUC: %.3f' % rf_auc)\n",
    "# calculate roc curve\n",
    "fpr, tpr, thresholds = roc_curve(y_test, rf_Preds)\n",
    "plt.plot([0, 1], [0, 1], linestyle='--')\n",
    "# plot the roc curve for the model\n",
    "plt.plot(fpr, tpr, marker='.')\n",
    "plt.title('ROC ')\n",
    "plt.show()"
   ]
  },
  {
   "cell_type": "markdown",
   "metadata": {
    "colab_type": "text",
    "id": "eWzD_ge8R1J0"
   },
   "source": [
    "## Extension: Logistic Regression\n",
    "\n",
    "A logistic regression is used to fit a model that has binary labels. A linear regression could be used as well, but it is not as suited to binary data as a logistic regression."
   ]
  },
  {
   "cell_type": "code",
   "execution_count": 78,
   "metadata": {
    "colab": {
     "base_uri": "https://localhost:8080/",
     "height": 34
    },
    "colab_type": "code",
    "id": "xGOXLtDPSHrw",
    "outputId": "4e0a21a1-c778-4bbc-f916-bbc50d263103"
   },
   "outputs": [
    {
     "data": {
      "text/plain": [
       "42.806254863739014"
      ]
     },
     "execution_count": 78,
     "metadata": {
      "tags": []
     },
     "output_type": "execute_result"
    }
   ],
   "source": [
    "logistic_reg = LogisticRegression(max_iter=5000)\n",
    "start_time = time.time()\n",
    "logistic_reg.fit(x_train, y_train)\n",
    "lg_runtime = time.time() - start_time\n",
    "lg_runtime"
   ]
  },
  {
   "cell_type": "code",
   "execution_count": 79,
   "metadata": {
    "colab": {
     "base_uri": "https://localhost:8080/",
     "height": 34
    },
    "colab_type": "code",
    "id": "_FjaepTtTKHU",
    "outputId": "406d7bcc-fbcb-45a0-f54b-a1a45a441ee8"
   },
   "outputs": [
    {
     "name": "stdout",
     "output_type": "stream",
     "text": [
      "Logistic Regression score:  0.9174\n"
     ]
    }
   ],
   "source": [
    "lg_Preds = logistic_reg.predict(x_test)\n",
    "lg_score = logistic_reg.score(x_test, y_test)\n",
    "print(\"Logistic Regression score: \", lg_score)"
   ]
  },
  {
   "cell_type": "code",
   "execution_count": 0,
   "metadata": {
    "colab": {},
    "colab_type": "code",
    "id": "WSABmialpyQE"
   },
   "outputs": [],
   "source": [
    "lg_conf_mx = confusion_matrix(y_test, lg_Preds)\n",
    "\n",
    "TN = lg_conf_mx[0,0]\n",
    "FP = lg_conf_mx[0,1]\n",
    "FN = lg_conf_mx[1,0]\n",
    "TP = lg_conf_mx[1,1]\n",
    "\n",
    "lg_recall = TP/(TP+FN)\n",
    "lg_precision = TP/(TP+FP)"
   ]
  },
  {
   "cell_type": "code",
   "execution_count": 81,
   "metadata": {
    "colab": {
     "base_uri": "https://localhost:8080/",
     "height": 298
    },
    "colab_type": "code",
    "id": "VhKK_YScVDKM",
    "outputId": "a7ce421b-7df0-41bf-ce38-9b00143ca8ed"
   },
   "outputs": [
    {
     "name": "stdout",
     "output_type": "stream",
     "text": [
      "AUC: 0.917\n"
     ]
    },
    {
     "data": {
      "image/png": "[encoded data removed]",
      "text/plain": [
       "<Figure size 432x288 with 1 Axes>"
      ]
     },
     "metadata": {
      "needs_background": "light",
      "tags": []
     },
     "output_type": "display_data"
    }
   ],
   "source": [
    "# calculate AUC\n",
    "lg_auc = roc_auc_score(y_test, lg_Preds)\n",
    "print('AUC: %.3f' % lg_auc)\n",
    "# calculate roc curve\n",
    "fpr, tpr, thresholds = roc_curve(y_test, rf_Preds)\n",
    "plt.plot([0, 1], [0, 1], linestyle='--')\n",
    "# plot the roc curve for the model\n",
    "plt.plot(fpr, tpr, marker='.')\n",
    "plt.title('ROC ')\n",
    "plt.show()"
   ]
  },
  {
   "cell_type": "markdown",
   "metadata": {
    "colab_type": "text",
    "id": "tKqj0q81ylW8"
   },
   "source": [
    "## Results\n",
    "#### AUC\n",
    "\n",
    "The AUC value represents how well the model is able to distinguish between the true and false labels. A value closer to 1 indicates a high capacity to separate them while values closer to 0 indicate a low capacity to make good predictions\n",
    "\n",
    "The nucleotide based neural network had an AUC of 0.79 while the codon based model had more success than the raw nucleotide based model with an AUC value of 0.99. It was able to \n",
    "\n",
    "The random forest had an AUC value of 0.989 which is equivalent to that of the second neural network. Some runs of this notebook had the random forest performing better than the neural network.\n",
    "\n",
    "The Logistic regression was in between the first NN and the second with an AUC of 0.92. "
   ]
  },
  {
   "cell_type": "code",
   "execution_count": 100,
   "metadata": {
    "colab": {
     "base_uri": "https://localhost:8080/",
     "height": 383
    },
    "colab_type": "code",
    "id": "Wk23dZX0T-Ow",
    "outputId": "501c34fc-e6cc-434f-a6a8-63c007322b73"
   },
   "outputs": [
    {
     "name": "stdout",
     "output_type": "stream",
     "text": [
      "Model \t\t\t\t\t AUC \n",
      "----------------------------------------------------------\n",
      "Nucleotide based neural network: \t 0.7936172384963149\n",
      "Codon based neural network: \t\t 0.9869765578040472\n",
      "Codon based random forest: \t\t 0.990074192901544\n",
      "Codon based logistic regression: \t 0.9172923208960893\n"
     ]
    },
    {
     "data": {
      "image/png": "[encoded data removed]",
      "text/plain": [
       "<Figure size 432x288 with 1 Axes>"
      ]
     },
     "metadata": {
      "needs_background": "light",
      "tags": []
     },
     "output_type": "display_data"
    }
   ],
   "source": [
    "print(\"Model \\t\\t\\t\\t\\t AUC \")\n",
    "print(\"----------------------------------------------------------\")\n",
    "print(\"Nucleotide based neural network: \\t\", nn1_auc)\n",
    "print(\"Codon based neural network: \\t\\t\", nn2_auc)\n",
    "print(\"Codon based random forest: \\t\\t\", rf_auc)\n",
    "print(\"Codon based logistic regression: \\t\", lg_auc)\n",
    "\n",
    "aucs = [nn1_auc, nn2_auc, rf_auc, lg_auc]\n",
    "plt.bar([\"NucleotideNN1\", \"CodonNN2\", \"RF\", \"LR\"], aucs)\n",
    "plt.xlabel(\"Model\")\n",
    "plt.ylabel(\"AUC\")\n",
    "plt.show()"
   ]
  },
  {
   "cell_type": "markdown",
   "metadata": {
    "colab_type": "text",
    "id": "8ENuN7H6dEpY"
   },
   "source": [
    "#### Confusion Matrices\n",
    "A confusion matrix can be used to see how well the model is making its predictions by visualizing the true and false positives and negatives. This is useful because a false negative prediction can be clinically more damaging than a false positive prediction since it is worse to take ineffective action against an antibiotic resistant bacterium than to take an intensive treatment against a susceptible bacterium. Seeing the four possibilities provides more insight into a model's usefulness than just an accuracy score. \n"
   ]
  },
  {
   "cell_type": "code",
   "execution_count": 0,
   "metadata": {
    "colab": {},
    "colab_type": "code",
    "id": "rQ2Ho81m_u_M"
   },
   "outputs": [],
   "source": [
    "# Function to visualize the confusion matrix for results\n",
    "\n",
    "def plot_confusion_matrix(cm,target_names,title='Confusion matrix',cmap=None,\n",
    "                          normalize=False):\n",
    "    import itertools\n",
    "    accuracy = np.trace(cm) / float(np.sum(cm))\n",
    "    misclass = 1 - accuracy\n",
    "\n",
    "    if cmap is None:\n",
    "        cmap = plt.get_cmap('Blues')\n",
    "\n",
    "    plt.figure(figsize=(8, 6))\n",
    "    plt.imshow(cm, interpolation='nearest', cmap=cmap)\n",
    "    plt.title(title)\n",
    "    plt.colorbar()\n",
    "\n",
    "    if target_names is not None:\n",
    "        tick_marks = np.arange(len(target_names))\n",
    "        plt.xticks(tick_marks, target_names, rotation=45)\n",
    "        plt.yticks(tick_marks, target_names)\n",
    "\n",
    "    if normalize:\n",
    "        cm = cm.astype('float') / cm.sum(axis=1)[:, np.newaxis]\n",
    "    \n",
    "    thresh = cm.max() / 1.5 if normalize else cm.max() / 2\n",
    "    for i, j in itertools.product(range(cm.shape[0]), range(cm.shape[1])):\n",
    "        if normalize:\n",
    "            plt.text(j, i, \"{:0.4f}\".format(cm[i, j]),\n",
    "                     horizontalalignment=\"center\",\n",
    "                     color=\"white\" if cm[i, j] > thresh else \"black\")\n",
    "        else:\n",
    "            plt.text(j, i, \"{:,}\".format(cm[i, j]),\n",
    "                     horizontalalignment=\"center\",\n",
    "                     color=\"white\" if cm[i, j] > thresh else \"black\")\n",
    "\n",
    "\n",
    "    plt.tight_layout()\n",
    "    plt.ylabel('True label')\n",
    "    plt.xlabel('Predicted label\\naccuracy={:0.4f}; misclass={:0.4f}'.format(accuracy, misclass))\n",
    "    plt.show()"
   ]
  },
  {
   "cell_type": "markdown",
   "metadata": {
    "colab_type": "text",
    "id": "ymfKWlFgYawo"
   },
   "source": [
    "#### Nucleotide based model\n",
    "\n",
    "This model had an accuracy of 0.79 with 449 false negatives and 1628 false positives. This is not a very useful model because of such a high false negative rate. "
   ]
  },
  {
   "cell_type": "code",
   "execution_count": 101,
   "metadata": {
    "colab": {
     "base_uri": "https://localhost:8080/",
     "height": 467
    },
    "colab_type": "code",
    "id": "DMxqCSOB_zNg",
    "outputId": "a3a899ea-88b7-4455-80de-a0e280a5f0be"
   },
   "outputs": [
    {
     "data": {
      "image/png": "[encoded data removed]",
      "text/plain": [
       "<Figure size 576x432 with 2 Axes>"
      ]
     },
     "metadata": {
      "needs_background": "light",
      "tags": []
     },
     "output_type": "display_data"
    }
   ],
   "source": [
    "plot_confusion_matrix(nn1_conf_mx, \n",
    "                      normalize    = False,\n",
    "                      target_names = ['resistant', 'sensistive'],\n",
    "                      title        = \"Nucleotide NN Confusion Matrix \")"
   ]
  },
  {
   "cell_type": "markdown",
   "metadata": {
    "colab_type": "text",
    "id": "IpwITp9DY4NA"
   },
   "source": [
    "#### Codon based neural network\n",
    "\n",
    "This model does quite well in testing as it has no false negatives and 130 false positives giving it an accuracy of 0.985. Some runs had a couple of false negatives. This model would be more clinically useful and with some more tweaking, could eliminate the false negative predictions."
   ]
  },
  {
   "cell_type": "code",
   "execution_count": 102,
   "metadata": {
    "colab": {
     "base_uri": "https://localhost:8080/",
     "height": 467
    },
    "colab_type": "code",
    "id": "rtVwezQsAXAI",
    "outputId": "5a97464c-1037-4562-84f6-38e7e6f67721"
   },
   "outputs": [
    {
     "data": {
      "image/png": "[encoded data removed]",
      "text/plain": [
       "<Figure size 576x432 with 2 Axes>"
      ]
     },
     "metadata": {
      "needs_background": "light",
      "tags": []
     },
     "output_type": "display_data"
    }
   ],
   "source": [
    "plot_confusion_matrix(nn2_conf_mx, \n",
    "                      normalize    = False,\n",
    "                      target_names = ['resistant', 'sensistive'],\n",
    "                      title        = \"Codon NN Confusion Matrix \")"
   ]
  },
  {
   "cell_type": "markdown",
   "metadata": {
    "colab_type": "text",
    "id": "DM3iTmRuTC54"
   },
   "source": [
    "#### Random forest using codon tokens\n",
    "\n",
    "With 0 false negatives this model is better than the neural network above. It has fewer false positives and an almost equivalent accuracy score of 0.9894. Usually, it had as many or a few more false negatives than the codon-based neural network. However, for its runtime, it gets exceptional results."
   ]
  },
  {
   "cell_type": "code",
   "execution_count": 103,
   "metadata": {
    "colab": {
     "base_uri": "https://localhost:8080/",
     "height": 467
    },
    "colab_type": "code",
    "id": "V6gDDlceil74",
    "outputId": "97424a7d-4e20-4697-fd64-d45da9233b79"
   },
   "outputs": [
    {
     "data": {
      "image/png": "[encoded data removed]",
      "text/plain": [
       "<Figure size 576x432 with 2 Axes>"
      ]
     },
     "metadata": {
      "needs_background": "light",
      "tags": []
     },
     "output_type": "display_data"
    }
   ],
   "source": [
    "plot_confusion_matrix(rf_conf_mx, \n",
    "                      normalize    = False,\n",
    "                      target_names = ['resistant', 'sensistive'],\n",
    "                      title        = \"Random Forest Confusion Matrix \")"
   ]
  },
  {
   "cell_type": "markdown",
   "metadata": {
    "colab_type": "text",
    "id": "TK6yOmqgiSig"
   },
   "source": [
    "#### Logistic Regression\n",
    "\n",
    "The logistic regression had 210 false negatives and 641 false positives. This is better than the raw nucleotide based neural net, but would be be very useful in practice. The random forest runs in less time and gets fewer false negatives."
   ]
  },
  {
   "cell_type": "code",
   "execution_count": 104,
   "metadata": {
    "colab": {
     "base_uri": "https://localhost:8080/",
     "height": 467
    },
    "colab_type": "code",
    "id": "ikgm2qjWTUAI",
    "outputId": "f0201d43-396c-47cc-d78a-1d4114cf4fed"
   },
   "outputs": [
    {
     "data": {
      "image/png": "[encoded data removed]",
      "text/plain": [
       "<Figure size 576x432 with 2 Axes>"
      ]
     },
     "metadata": {
      "needs_background": "light",
      "tags": []
     },
     "output_type": "display_data"
    }
   ],
   "source": [
    "plot_confusion_matrix(lg_conf_mx, \n",
    "                      normalize    = False,\n",
    "                      target_names = ['resistant', 'sensistive'],\n",
    "                      title        = \"Logistic Regression Confusion Matrix \")\n"
   ]
  },
  {
   "cell_type": "markdown",
   "metadata": {
    "colab_type": "text",
    "id": "Kyu3J73h9LkQ"
   },
   "source": [
    "### Runtimes\n"
   ]
  },
  {
   "cell_type": "code",
   "execution_count": 42,
   "metadata": {
    "colab": {
     "base_uri": "https://localhost:8080/",
     "height": 383
    },
    "colab_type": "code",
    "id": "VFGU-a4c0q8A",
    "outputId": "fd7d204a-e041-4b2d-cd2a-5afab011b720"
   },
   "outputs": [
    {
     "name": "stdout",
     "output_type": "stream",
     "text": [
      "Model \t\t\t\tTime(seconds) \t\tTime(mininutes)\n",
      "-----------------------------------------------------------------------------------------\n",
      "Nucleotide neural network: \t851.081878900528\t14.184697981675466 \n",
      "Codon neural network:  \t\t440.0965759754181\t7.334942932923635 \n",
      "Codon random forest:  \t\t8.222691774368286 \t0.1370448629061381 \n",
      "Codon logisitc regression:  \t44.152079820632935 \t0.735867997010549 \n"
     ]
    },
    {
     "data": {
      "image/png": "[encoded data removed]",
      "text/plain": [
       "<Figure size 432x288 with 1 Axes>"
      ]
     },
     "metadata": {
      "needs_background": "light",
      "tags": []
     },
     "output_type": "display_data"
    }
   ],
   "source": [
    "print(\"Model \\t\\t\\t\\tTime(seconds) \\t\\tTime(mininutes)\")\n",
    "print(\"-----------------------------------------------------------------------------------------\")\n",
    "print(\"Nucleotide neural network: \\t{0}\\t{1} \".format(nn1_runtime, nn1_runtime/60))\n",
    "print(\"Codon neural network:  \\t\\t{0}\\t{1} \".format(nn2_runtime, nn2_runtime/60))\n",
    "print(\"Codon random forest:  \\t\\t{0} \\t{1} \".format(rf_runtime, rf_runtime/60))\n",
    "print(\"Codon logisitc regression:  \\t{0} \\t{1} \".format(lg_runtime, lg_runtime/60))\n",
    "\n",
    "runtimes = [nn1_runtime, nn2_runtime, rf_runtime, lg_runtime]\n",
    "plt.bar([\"NucleotideNN1\", \"CodonNN2\", \"RF\", \"LR\"], runtimes)\n",
    "plt.xlabel(\"Model\")\n",
    "plt.ylabel(\"runtime(seconds)\")\n",
    "plt.show()"
   ]
  },
  {
   "cell_type": "markdown",
   "metadata": {
    "colab_type": "text",
    "id": "OvqL_wx_9Ntw"
   },
   "source": [
    "The training runtimes of the models did not seem to be correlated with their quality. \n",
    "\n",
    "The nucleotide neural network took the longest time to run, but was the poorest model while the random forest took less than 10 seconds and was either almost as good as the codon trained neural network or better. The logistic regression look less than a minute, but was still not as good as the random forest in its recall.\n",
    "\n"
   ]
  },
  {
   "cell_type": "code",
   "execution_count": 97,
   "metadata": {
    "colab": {
     "base_uri": "https://localhost:8080/",
     "height": 295
    },
    "colab_type": "code",
    "id": "AqwRpqY5kgrY",
    "outputId": "65097b23-310a-4a99-de5f-7a892dbd76aa"
   },
   "outputs": [
    {
     "data": {
      "image/png": "[encoded data removed]",
      "text/plain": [
       "<Figure size 432x288 with 1 Axes>"
      ]
     },
     "metadata": {
      "needs_background": "light",
      "tags": []
     },
     "output_type": "display_data"
    }
   ],
   "source": [
    "area = 10\n",
    "\n",
    "plt.scatter(runtimes, aucs, s = area)\n",
    "plt.title(\"AUC against runtime\")\n",
    "plt.xlabel(\"Runtime(seconds)\")\n",
    "plt.ylabel(\"AUC\")\n",
    "plt.show()"
   ]
  },
  {
   "cell_type": "markdown",
   "metadata": {
    "colab_type": "text",
    "id": "39Z3ytOKym2Q"
   },
   "source": [
    "## Implications\n",
    "\n",
    "From this study, I learned that the selection of the feature is the most important part of the model. Selecting nucleotides, even though they are the basic blocks of a gene, did not provide as good a model as selecting codons that are a higher level feature. This shows that while nucleotides make up genes, it is the codon groups that provide the sequence with meaning and function and are the basic unit when trying to understand the sequence.\n",
    "\n",
    "This also agrees with the science behind mutations as many mutations are harmless when they are substitutions of nucleotides. However, when there is a deletion, the resulting frame shift causes a much more significant difference in the protein structure. The impact of a frame shift is more evident in an examination of the codons because every codon changes with an addition or deletion. On the other hand, examining the nucleotides is less revealing as most of the nucleotide sequence is largely unchanged.\n",
    "\n",
    "Neural networks and random forests are useful tools in predicting the presence of antibiotic resistance genes in a given sequence. Random forests are particularly useful for preliminary analyses that are both quick to train and quite robust. These ensembles may be used to guide the training of better neural network models that can be trained for longer to achieve more reliable and clinically applicable results.  \n",
    "\n",
    "While this dataset was a small synthetic one and may have been easy to work with, Whole Genome Sequencing is on the rise in which a full genome is analylzed. This will be harder to analyze and predict from  and the chances of false negatives will be higher as new mutations arise that confer bacteria with novel resistance mechanisms. According to Su et al., it is slow and expensive to create such models and this prevents a more widespread use of predictive software in clinical microbiology. \n",
    "\n",
    "The ability to predict antibiotic resistance from genomic data will be an asset to fighting infections and antibiotic resistant bacteria. The CDC estimates that in the US, at least two million people will contract a drug-resistant infection with 23,000 of them dying each year (Centers for Disease Control, 2013). Continued research in this area is critical because being able to predict resistance will allow for the timely selection of the right kinds of antibiotics, reducing the death rate from such infections. \n"
   ]
  },
  {
   "cell_type": "markdown",
   "metadata": {
    "colab_type": "text",
    "id": "G1M_Hy6gyt7Y"
   },
   "source": [
    "## Citations\n",
    "\n",
    "Centers for Disease Control and Prevention. 2013. Antibiotic resistance threats in the United States. Centers for Disease Control and Prevention, Atlanta, GA. https://www.cdc.gov/drugresistance/pdf/ar-threats-2013-508.pdf.\n",
    "\n",
    "Scarlat, Alexander, Predict antibiotic resistance w gene sequence, Kaggle. https://www.kaggle.com/drscarlat/predict-antibiotic-resistance-w-gene-sequence/data\n",
    "\n",
    "Su, M., Satola, S. W., & Read, T. D. (2019). Genome-Based Prediction of Bacterial Antibiotic Resistance. Journal of clinical microbiology, 57(3), e01405-18. https://doi.org/10.1128/JCM.01405-18"
   ]
  }
 ],
 "metadata": {
  "colab": {
   "collapsed_sections": [],
   "name": "Predicting antibiotic resistance",
   "provenance": []
  },
  "kernelspec": {
   "display_name": "Python 3",
   "language": "python",
   "name": "python3"
  },
  "language_info": {
   "codemirror_mode": {
    "name": "ipython",
    "version": 3
   },
   "file_extension": ".py",
   "mimetype": "text/x-python",
   "name": "python",
   "nbconvert_exporter": "python",
   "pygments_lexer": "ipython3",
   "version": "3.6.9"
  }
 },
 "nbformat": 4,
 "nbformat_minor": 1
}
