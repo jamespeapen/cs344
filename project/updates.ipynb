{
 "cells": [
  {
   "cell_type": "markdown",
   "metadata": {},
   "source": [
    "# Updates since walkthrough\n",
    "\n",
    "2020 May 21"
   ]
  },
  {
   "cell_type": "markdown",
   "metadata": {},
   "source": [
    "## Logistic regression model\n",
    "I added a logistic regression as a fourth model. Current models are:\n",
    "    - Nucleotide based NN\n",
    "    - Codon based NN\n",
    "    - Codon based Random Forest\n",
    "    - Codon based Logistic Regression"
   ]
  },
  {
   "cell_type": "markdown",
   "metadata": {},
   "source": [
    "## Filled out results\n",
    "\n",
    "The results section is now a discussion of the results of the four models and a comparison of their similarities and differences, with plots to visualize the comparisons. I compare the AUcs, the runtimes and see if there is a relationship between runtimes and model accuracy. The confusion matrices have been moved into the results section with a discussion about how they can help evaluate the models. I discuss their false negative predictions and their clinical relevance."
   ]
  },
  {
   "cell_type": "markdown",
   "metadata": {},
   "source": [
    "## Implications\n",
    " \n",
    "I've added a discussion of the broader implications of the model as it relates to the science behind resistance and the significance of antibiotic resistance prediction."
   ]
  }
 ],
 "metadata": {
  "kernelspec": {
   "display_name": "Python 3",
   "language": "python",
   "name": "python3"
  },
  "language_info": {
   "codemirror_mode": {
    "name": "ipython",
    "version": 3
   },
   "file_extension": ".py",
   "mimetype": "text/x-python",
   "name": "python",
   "nbconvert_exporter": "python",
   "pygments_lexer": "ipython3",
   "version": "3.6.9"
  }
 },
 "nbformat": 4,
 "nbformat_minor": 4
}
