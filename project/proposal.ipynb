{
 "cells": [
  {
   "cell_type": "markdown",
   "metadata": {},
   "source": [
    "# Proposal Draft\n",
    "\n",
    "## Predicting Antibiotic Resistance with Gene Sequences\n",
    "\n",
    "I will be training a model to predict whether a bacterium is resistant to\n",
    "antibiotics based on a given gene sequence. The features are genomic sequences,\n",
    "made of four letter nucleotides A, C, G, and T. Groups of three nucleotides are \n",
    "called codons and code for a segment of a protein. The order in which they come\n",
    "is important as it determines the structure and function of the protein it\n",
    "encodes.  Antibiotic resistance is a naturally occuring phenomenon that has\n",
    "been made worse by the human abuse of antibiotics.\n",
    "\n",
    "The model will be a binary classifier trained with convolutional and recurrent\n",
    "networks using Keras. The data will contain sequences labelled resistant or \n",
    "non-resistant. First the inital gene sequences will be tokenized into its\n",
    "nucleotides and the tokens used to train the model. I will also train a model \n",
    "on  the codons and compare the two models' predictive capabilites.\n"
   ]
  },
  {
   "cell_type": "code",
   "execution_count": null,
   "metadata": {},
   "outputs": [],
   "source": []
  }
 ],
 "metadata": {
  "kernelspec": {
   "display_name": "Python 3.6.9 64-bit",
   "language": "python",
   "name": "python36964bitb1433e61ec2d44ba80c018d2878a6c3e"
  },
  "language_info": {
   "codemirror_mode": {
    "name": "ipython",
    "version": 3
   },
   "file_extension": ".py",
   "mimetype": "text/x-python",
   "name": "python",
   "nbconvert_exporter": "python",
   "pygments_lexer": "ipython3",
   "version": "3.6.9"
  }
 },
 "nbformat": 4,
 "nbformat_minor": 4
}
