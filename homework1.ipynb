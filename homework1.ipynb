{
 "cells": [
  {
   "cell_type": "markdown",
   "metadata": {},
   "source": [
    "# Problem Solving"
   ]
  },
  {
   "cell_type": "markdown",
   "metadata": {},
   "source": [
    "\n",
    "## 1. \n",
    "\n",
    "The practice of introspection would allow the programmer to examine the human cognitive process, studying its working, reasoning and assumptions that allow it to solve problems. Following a train of reasoning is an integral part of translating our sometimes intuitive methods of soving problems that don't require intentional thought and may be missed.  Our brains can fill in missing information or extrapolate from incomplete data without our conscious thought so that we can be efficient. These shortcuts the brain takes makes problem solving easy for us, but a computer model without these shortcuts intentionally programmed would not be able to solve the same problems. \n",
    "\n",
    "While it may provide a path to solve problems, it would be hard to closely implement a solution similar to that of the mind because the mind has learned the world and created a schema that may be unique to each person and cannot be examined even with introspection. With this uniqueness comes biases that may be ignored or passed into the model. Introspection would be a good way to model problem solving, but there are some parts of cognition that will be missed even with intense reflection.   \n",
    "  "
   ]
  },
  {
   "cell_type": "code",
   "execution_count": 11,
   "metadata": {},
   "outputs": [
    {
     "name": "stdout",
     "output_type": "stream",
     "text": "Hill Climbing\nSolution: ['A', 'C', 'B', 'D', 'A']\nValue: 14.5\n\n\nSimulated Annealing\nSolution: ['B', 'A', 'C', 'D', 'B']\nValue: 11\n"
    }
   ],
   "source": [
    "\"\"\"Travelling Salesman Problem\"\"\"\n",
    "\n",
    "import sys\n",
    "import random\n",
    "sys.path.append(\"/home/james/Documents/Calvin/CS-344/cs344-code/tools/aima\")\n",
    "\n",
    "from search import Problem, hill_climbing, simulated_annealing, \\\n",
    "    exp_schedule, genetic_search\n",
    "import logging\n",
    "import time\n",
    "\n",
    "class TSP(Problem):\n",
    "    def __init__(self, initial, distances):\n",
    "        self.initial = initial\n",
    "        self.distances = distances\n",
    "\n",
    "    def actions(self, state):\n",
    "        \"\"\"select two cities at random to swap and pass a list of their indices to actions\"\"\"\n",
    "\n",
    "        swap_list = random.sample(self.initial, 2)\n",
    "        index1, index2 = self.initial.index(swap_list[0]), self.initial.index(swap_list[1])\n",
    "        actions = [[index1, index2]]\n",
    "        return actions\n",
    "\n",
    "    def result(self, state, action):\n",
    "        \"\"\"make a copy of the previous state and swap the two cities;\n",
    "         add the first city of the new state to the end for a round trip\"\"\"\n",
    "\n",
    "        new_state = self.initial[:]\n",
    "        new_state[action[0]], new_state[action[1]] = new_state[action[1]], new_state[action[0]]\n",
    "        new_state.append(new_state[0])\n",
    "        return new_state\n",
    "\n",
    "    def value(self, state):\n",
    "        \"\"\"find the total round trip distance of travel between the cities in the state\"\"\"\n",
    "        total_dist = 0\n",
    "        for i in range(len(state)-1):\n",
    "            city1 = state[i]\n",
    "            city2 = state[i+1]\n",
    "\n",
    "            if city1 > city2:\n",
    "                total_dist += self.distances[(city2, city1)]\n",
    "            else:\n",
    "                total_dist += self.distances[(city1, city2)]\n",
    "\n",
    "        # if state[-1] > state[0]:\n",
    "        #     total_dist += self.distances[(state[0], state[-1])]\n",
    "        # else:\n",
    "        #     total_dist += self.distances[(state[-1], state[0])]\n",
    "\n",
    "        return total_dist\n",
    "                       \n",
    "\n",
    "\n",
    "cities = [\"A\", \"B\", \"C\", \"D\"]\n",
    "distances = {(\"A\", \"B\"): 1, (\"A\", \"C\"): 2, (\"A\", \"D\"): 4,\n",
    "                (\"B\", \"C\"): 3.5, (\"B\", \"D\"): 5, \n",
    "                (\"C\", \"D\"): 3}\n",
    "        \n",
    "tsp = TSP(cities, distances)\n",
    "\n",
    "hill_climbing_test = hill_climbing(tsp)\n",
    "\n",
    "print(\"Hill Climbing\")\n",
    "print(\"Solution: \" + str(hill_climbing_test))\n",
    "print(\"Value: \" + str(tsp.value(hill_climbing_test)))\n",
    "print(\"\\n\")\n",
    "\n",
    "simulated_annealing_test = simulated_annealing(tsp)\n",
    "print(\"Simulated Annealing\")\n",
    "print(\"Solution: \" + str(simulated_annealing_test))\n",
    "print(\"Value: \" + str(tsp.value(simulated_annealing_test)))\n",
    "        "
   ]
  },
  {
   "cell_type": "code",
   "execution_count": null,
   "metadata": {},
   "outputs": [],
   "source": []
  }
 ],
 "metadata": {
  "file_extension": ".py",
  "kernelspec": {
   "display_name": "Python 3",
   "language": "python",
   "name": "python3"
  },
  "language_info": {
   "codemirror_mode": {
    "name": "ipython",
    "version": 3
   },
   "file_extension": ".py",
   "mimetype": "text/x-python",
   "name": "python",
   "nbconvert_exporter": "python",
   "pygments_lexer": "ipython3",
   "version": "3.6.9-final"
  },
  "mimetype": "text/x-python",
  "name": "python",
  "npconvert_exporter": "python",
  "pygments_lexer": "ipython3",
  "version": 3
 },
 "nbformat": 4,
 "nbformat_minor": 2
}