{
 "cells": [
  {
   "cell_type": "markdown",
   "metadata": {},
   "source": [
    "# Homework 5"
   ]
  },
  {
   "cell_type": "markdown",
   "metadata": {},
   "source": [
    "1. \n",
    "\n",
    "Given:  \n",
    "\n",
    "|                Rule | CNF |\n",
    "----------------------|-----|\n",
    "|mythical(X) -> immortal(X)  | mythical(X) ⋀ immortal(X) |\n",
    "|¬ mythical(X) -> mortal(X)| ¬ mythical(X) ⋀ mortal |\n",
    "|mythical(X) ⋁ mammal(X) -> horned(X)| horned(X) ⋀ mythical(X) ⋁ horned(X) ⋀ mammal(X) |\n",
    "|horned(X) -> magical(X)| magical ⋀ horned |\n",
    "\n"
   ]
  },
  {
   "cell_type": "markdown",
   "metadata": {},
   "source": [
    "From the rules, we cannot prove that the unicorn is mythical since we don't know anything about it. It is either mythical or not mythical which means it is either a mortal mammal or immortal. \n",
    "\n",
    "Regardless of whether it is immortal or mortal, it is horned because both immortal and mortal mammals have horns. \n",
    "\n",
    "Since it has horns, it is magical. \n",
    "\n",
    "I implemtented this in prolog:\n",
    "\n",
    "<code>immortal(X): - mythical(X).\n",
    "mortalmammal(X):- \\+ mythical(X).\n",
    "horned(X):- mythical(X); mortalmammal(X).\n",
    "magical(X):- horned(X).</code>\n",
    "\n",
    "This did not work and no query would execute since there was no information about unicorn and no function was reachable. Prolog could not deduce that anything would be horned and therefore magical from the third rule. I dont' know if it is possible to implement that in Prolog. "
   ]
  },
  {
   "cell_type": "markdown",
   "metadata": {},
   "source": [
    "2. \n",
    "\n",
    "\n",
    "<code>word(astante,  a,s,t,a,n,t,e).\n",
    "word(astoria,  a,s,t,o,r,i,a).\n",
    "word(baratto,  b,a,r,a,t,t,o).\n",
    "word(cobalto,  c,o,b,a,l,t,o).\n",
    "word(pistola,  p,i,s,t,o,l,a).\n",
    "word(statale,  s,t,a,t,a,l,e). \n",
    "\n",
    "crossword(V1, V2, V3, H1, H2, H3):-\n",
    "    word(V1, V11, V12, V13, V14, V15, V16, V17),\n",
    "    word(V2, V21, V22, V23, V24, V25, V26, V27),\n",
    "    word(V3, V31, V32, V33, V34, V35, V36, V37),\n",
    "    word(H1, H11, V12, H13, V22, H15, V32, H17),\n",
    "    word(H2, H21, V14, H23, V24, H25, V34, H27),\n",
    "    word(H3, H31, V16, H33, V26, H35, V36, H37),\n",
    "    V1 \\\\= H1, V2 \\\\= H2, V3 \\\\= H3.\n",
    "    \n",
    "?- crossword(V1, V2, V3, H1, H2, H3).</code> \n",
    "\n",
    "    \n",
    "\n",
    "Solution 1:\n",
    "\n",
    "V1 = astante,\n",
    "V2 = cobalto,\n",
    "V3 = pistola,\n",
    "H1 = astoria,\n",
    "H2 = baratto,\n",
    "H3 = statale\n",
    "\n",
    "Solution 2:\n",
    "\n",
    "V1 = astoria,\n",
    "V2 = baratto,\n",
    "V3 = statale,\n",
    "H1 = astante,\n",
    "H2 = cobalto,\n",
    "H3 = pistola"
   ]
  }
 ],
 "metadata": {
  "kernelspec": {
   "display_name": "Python 3",
   "language": "python",
   "name": "python3"
  },
  "language_info": {
   "codemirror_mode": {
    "name": "ipython",
    "version": 3
   },
   "file_extension": ".py",
   "mimetype": "text/x-python",
   "name": "python",
   "nbconvert_exporter": "python",
   "pygments_lexer": "ipython3",
   "version": "3.6.9"
  }
 },
 "nbformat": 4,
 "nbformat_minor": 4
}
