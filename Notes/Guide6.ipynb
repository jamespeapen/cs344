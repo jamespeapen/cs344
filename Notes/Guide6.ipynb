{
 "cells": [
  {
   "cell_type": "markdown",
   "metadata": {},
   "source": [
    "## Compare and contrast the three main types of machine learning.  \n",
    " - Describe:  \n",
    " - The nature of Decision Trees  \n",
    " - The information theoretical concepts of: \n",
    "        - Entropy: a measure of how surprised we are when we see the answer or the amount of variablity in the answer\n",
    "        Entropy(coin) = $$-(0.5.log_2(0.5) + 0.5.log_2(0.5))$$ = 1\n",
    "        -  Information Gain  \n",
    "\n",
    " - Overfitting  \n",
    "\n",
    "## Introduction to Machine Learning\n",
    "\n",
    "### What are Norvig’s reasons for studying machine learning\n",
    "\n",
    "Framing\n",
    "\n",
    " - Know the key “ML Terminology”:\n",
    "        -Labels\n",
    "        -Features\n",
    "        -Examples\n",
    "\n",
    " - Explain how a model is trained and used.\n",
    "\n",
    " - Compare and contrast regression vs. classification.\n",
    "\n",
    "Problem Framing — This (separate) course reviews some of the material listed above.\n",
    "\n",
    " - Know the types of ML problems and which ones have proven to be particularly difficult.\n",
    " - What things should one think about before trying to frame a machine learning problem (see “Deciding on ML”)?\n",
    "\n",
    "Programming Tools\n",
    "NumPy — Review the NumPy features:\n",
    "listed on the Crash Course prerequisites page.\n",
    "included in the NumPy Tutorial, particularly under sections: “The Basics”; “Shape Manipulation”; “Linear Algebra”.\n"
   ]
  },
  {
   "cell_type": "code",
   "execution_count": null,
   "metadata": {},
   "outputs": [],
   "source": []
  }
 ],
 "metadata": {
  "kernelspec": {
   "display_name": "Python 3.6.9 64-bit",
   "language": "python",
   "name": "python36964bitb1433e61ec2d44ba80c018d2878a6c3e"
  },
  "language_info": {
   "codemirror_mode": {
    "name": "ipython",
    "version": 3
   },
   "file_extension": ".py",
   "mimetype": "text/x-python",
   "name": "python",
   "nbconvert_exporter": "python",
   "pygments_lexer": "ipython3",
   "version": "3.6.9"
  }
 },
 "nbformat": 4,
 "nbformat_minor": 4
}
