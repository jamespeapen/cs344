{
 "nbformat": 4,
 "nbformat_minor": 2,
 "metadata": {
  "language_info": {
   "name": "python",
   "codemirror_mode": {
    "name": "ipython",
    "version": 3
   }
  },
  "orig_nbformat": 2,
  "file_extension": ".py",
  "mimetype": "text/x-python",
  "name": "python",
  "npconvert_exporter": "python",
  "pygments_lexer": "ipython3",
  "version": 3
 },
 "cells": [
  {
   "cell_type": "markdown",
   "metadata": {},
   "source": [
    "# Guide 3\n",
    "\n",
    "\n",
    "## Describe: \n",
    " - Conditional vs. Unconditional probabilities\n",
    " - Probability Density Functions and the Joint Probability Density Function\n",
    " - Bayes’ Theorem and Bayesian Inference\n",
    "\n",
    "A Plan for Spam — Paul Graham wrote this influential article on Bayesian SPAM filters in 2002. Review the main article and give Graham’s answer to the following questions.\n",
    " - What is the typical first approach to SPAM filtering?\n",
    " - What is the advantage of his alternate approach to SPAM filtering?\n",
    " - What language does Graham use to specify his filtering algorithm?\n",
    "\n",
    "Graham wrote a follow-up article in which he implements an updated algorithm. Note that while Graham was not the first to advocate for Bayesian spam filters, this article is generally credited with popularizing the approach and specifying an effective algorithm.\n",
    "\n",
    "$P(a|b) = \\frac{P(a\\bigcap b)}{P(b)}$\n",
    "\n",
    "Bayes Rule: a is cause, b is effect  \n",
    "\n",
    "$P(a|b) = \\frac{P(b|a).P(a)}{P(b)}$\n"
   ]
  }
 ]
}