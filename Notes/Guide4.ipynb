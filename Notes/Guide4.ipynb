{
 "cells": [
  {
   "cell_type": "markdown",
   "metadata": {},
   "source": [
    "# Guide 4\n",
    "\n",
    "\n",
    "## Describe: \n",
    " - *Conditional vs. Unconditional probabilities*  \n",
    "     Unconditional probabilities are those that exist in the absense of any other information and simply constrains the model.   \n",
    "     Conditional probabilities exist when there is a condition imposed on the system. Conditional probabilities are defined in terms of unconditional probabilities. \n",
    "      \n",
    "      \n",
    " - *Probability Density Functions and the Joint Probability Density Function*  \n",
    "     A PDF is function that maps the probablities for a variable's distribution of values.   \n",
    "     A joint PDF is a table of mixed probabilities of two or more variables. \n",
    "     \n",
    "     \n",
    " - *Bayes’ Theorem and Bayesian Inference*  \n",
    "     \n",
    "\n",
    "A Plan for Spam — Paul Graham wrote this influential article on Bayesian SPAM filters in 2002. Review the main article and give Graham’s answer to the following questions.\n",
    " - *What is the typical first approach to SPAM filtering?*\n",
    " - *What is the advantage of his alternate approach to SPAM filtering?*\n",
    " - *What language does Graham use to specify his filtering algorithm?*\n",
    "\n",
    "Graham wrote a follow-up article in which he implements an updated algorithm. Note that while Graham was not the first to advocate for Bayesian spam filters, this article is generally credited with popularizing the approach and specifying an effective algorithm.\n",
    "\n",
    "$P(cause|effect) = \\frac{P(cause\\bigcap effect)}{P(effect)}$\n",
    "\n",
    "Bayes Rule: a is cause, b is effect  \n",
    "\n",
    "$P(cause|effect) = \\frac{P(cause|effect).P(cause)}{P(effect)}$\n"
   ]
  },
  {
   "cell_type": "code",
   "execution_count": null,
   "metadata": {},
   "outputs": [],
   "source": []
  }
 ],
 "metadata": {
  "file_extension": ".py",
  "kernelspec": {
   "display_name": "Python 3",
   "language": "python",
   "name": "python3"
  },
  "language_info": {
   "codemirror_mode": {
    "name": "ipython",
    "version": 3
   },
   "file_extension": ".py",
   "mimetype": "text/x-python",
   "name": "python",
   "nbconvert_exporter": "python",
   "pygments_lexer": "ipython3",
   "version": "3.6.9"
  },
  "mimetype": "text/x-python",
  "name": "python",
  "npconvert_exporter": "python",
  "pygments_lexer": "ipython3",
  "version": 3
 },
 "nbformat": 4,
 "nbformat_minor": 2
}
