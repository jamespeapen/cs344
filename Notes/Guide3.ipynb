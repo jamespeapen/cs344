{
 "nbformat": 4,
 "nbformat_minor": 2,
 "metadata": {
  "language_info": {
   "name": "python",
   "codemirror_mode": {
    "name": "ipython",
    "version": 3
   }
  },
  "orig_nbformat": 2,
  "file_extension": ".py",
  "mimetype": "text/x-python",
  "name": "python",
  "npconvert_exporter": "python",
  "pygments_lexer": "ipython3",
  "version": 3
 },
 "cells": [
  {
   "cell_type": "markdown",
   "metadata": {},
   "source": [
    "Chapter 6\n",
    "\n",
    "    What are the three components of a CSP formulation?\n",
    "    Describe the CSP formulation for the Australian Map color problem.\n",
    "    Compare and contrast:\n",
    "        arc consistency vs. path consistency\n",
    "        backtracking search vs. local search (e.g., using Min-Conflicts) for CSPs\n"
   ]
  }
 ]
}