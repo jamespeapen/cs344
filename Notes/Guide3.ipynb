{
 "nbformat": 4,
 "nbformat_minor": 2,
 "metadata": {
  "language_info": {
   "name": "python",
   "codemirror_mode": {
    "name": "ipython",
    "version": 3
   },
   "version": "3.6.9-final"
  },
  "orig_nbformat": 2,
  "file_extension": ".py",
  "mimetype": "text/x-python",
  "name": "python",
  "npconvert_exporter": "python",
  "pygments_lexer": "ipython3",
  "version": 3,
  "kernelspec": {
   "name": "python36964bitb1433e61ec2d44ba80c018d2878a6c3e",
   "display_name": "Python 3.6.9 64-bit"
  }
 },
 "cells": [
  {
   "cell_type": "markdown",
   "metadata": {},
   "source": [
    "## Chapter 6\"\n",
    "#### What are the three components of a CSP formulation?\\n\",\n",
    "#### Describe the CSP formulation for the Australian Map color problem.    \\n\",\n",
    "#### Compare and contrast:\n",
    " - arc consistency vs. path consistency\n",
    " - backtracking search vs. local search (e.g., using Min-Conflicts) for CSPs\n",
    "### Sudoku\n",
    " - Traditional search\n",
    "   - actions: add one number\n",
    " - Local search\n",
    "  - start state: filled board\n",
    "  - actions: tweak the board\n",
    "  - value: use a value to see how close it is to the goal\n",
    "  - Constraint search\\n\",\n",
    "  - can prune possibilities according to constraints\n"
   ]
  },
  {
   "cell_type": "code",
   "execution_count": null,
   "metadata": {},
   "outputs": [],
   "source": []
  }
 ]
}