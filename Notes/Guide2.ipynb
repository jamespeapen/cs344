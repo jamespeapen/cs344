{
 "nbformat": 4,
 "nbformat_minor": 2,
 "metadata": {
  "language_info": {
   "name": "python",
   "codemirror_mode": {
    "name": "ipython",
    "version": 3
   },
   "version": "3.6.9-final"
  },
  "orig_nbformat": 2,
  "file_extension": ".py",
  "mimetype": "text/x-python",
  "name": "python",
  "npconvert_exporter": "python",
  "pygments_lexer": "ipython3",
  "version": 3,
  "kernelspec": {
   "name": "python36964bitb1433e61ec2d44ba80c018d2878a6c3e",
   "display_name": "Python 3.6.9 64-bit"
  }
 },
 "cells": [
  {
   "cell_type": "code",
   "execution_count": null,
   "metadata": {},
   "outputs": [],
   "source": []
  },
  {
   "cell_type": "markdown",
   "execution_count": 1,
   "metadata": {},
   "outputs": [
    {
     "ename": "SyntaxError",
     "evalue": "invalid syntax (<ipython-input-1-170d4561bb3f>, line 4)",
     "output_type": "error",
     "traceback": [
      "\u001b[0;36m  File \u001b[0;32m\"<ipython-input-1-170d4561bb3f>\"\u001b[0;36m, line \u001b[0;32m4\u001b[0m\n\u001b[0;31m    Seat up a search problem with:\u001b[0m\n\u001b[0m          ^\u001b[0m\n\u001b[0;31mSyntaxError\u001b[0m\u001b[0;31m:\u001b[0m invalid syntax\n"
     ]
    }
   ],
   "source": [
    "# Guide 2 - Local Search\n",
    "\n",
    "## GOFAI\n",
    "Seat up a search problem with:\n",
    "- an initial state\n",
    "- a set of actions: ${a_1, a_2, a_n}$\n",
    "- Transition model: Result(action, state) = state\n",
    "- Goal test: Goal (s) -> {T|F}\n",
    "- Path cost: cost(s1, s2) = ?\n",
    "\n",
    "### Tic-Tac-Toe\n",
    "- Initial state: empty board\n",
    "- actions: 0"
   ]
  }
 ]
}